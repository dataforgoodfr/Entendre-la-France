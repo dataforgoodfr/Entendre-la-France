{
 "cells": [
  {
   "cell_type": "code",
   "execution_count": 1,
   "metadata": {
    "ExecuteTime": {
     "end_time": "2019-03-09T09:38:13.725905Z",
     "start_time": "2019-03-09T09:38:12.557744Z"
    }
   },
   "outputs": [],
   "source": [
    "import pandas as pd\n",
    "from sklearn.preprocessing import OneHotEncoder, LabelEncoder\n",
    "import numpy as np\n",
    "import itertools\n",
    "from sklearn.metrics import confusion_matrix, classification_report"
   ]
  },
  {
   "cell_type": "code",
   "execution_count": 7,
   "metadata": {
    "ExecuteTime": {
     "end_time": "2019-03-09T09:39:27.002963Z",
     "start_time": "2019-03-09T09:39:26.155380Z"
    }
   },
   "outputs": [],
   "source": [
    "df = pd.read_csv(\"./../preprocessed/reponses_annotees_multilabel.csv\", sep=\"\\t\")"
   ]
  },
  {
   "cell_type": "code",
   "execution_count": 153,
   "metadata": {
    "ExecuteTime": {
     "end_time": "2019-03-09T10:31:51.205872Z",
     "start_time": "2019-03-09T10:31:51.194733Z"
    }
   },
   "outputs": [
    {
     "data": {
      "text/html": [
       "<div>\n",
       "<style scoped>\n",
       "    .dataframe tbody tr th:only-of-type {\n",
       "        vertical-align: middle;\n",
       "    }\n",
       "\n",
       "    .dataframe tbody tr th {\n",
       "        vertical-align: top;\n",
       "    }\n",
       "\n",
       "    .dataframe thead th {\n",
       "        text-align: right;\n",
       "    }\n",
       "</style>\n",
       "<table border=\"1\" class=\"dataframe\">\n",
       "  <thead>\n",
       "    <tr style=\"text-align: right;\">\n",
       "      <th></th>\n",
       "      <th>Unnamed: 0</th>\n",
       "      <th>reference</th>\n",
       "      <th>corpus</th>\n",
       "      <th>categories</th>\n",
       "    </tr>\n",
       "  </thead>\n",
       "  <tbody>\n",
       "    <tr>\n",
       "      <th>0</th>\n",
       "      <td>0</td>\n",
       "      <td>1-100</td>\n",
       "      <td>Démocratie = citoyen qui commande Le peuple Ou...</td>\n",
       "      <td>Société civile, citoyens</td>\n",
       "    </tr>\n",
       "    <tr>\n",
       "      <th>1</th>\n",
       "      <td>1</td>\n",
       "      <td>1-10002</td>\n",
       "      <td>Mettre en place le RIC moi même Non   Une bonn...</td>\n",
       "      <td>A Moi-même ou personne</td>\n",
       "    </tr>\n",
       "    <tr>\n",
       "      <th>2</th>\n",
       "      <td>2</td>\n",
       "      <td>1-10004</td>\n",
       "      <td>Tout vient de l éducation Représentation des f...</td>\n",
       "      <td>Q Proportionnelle</td>\n",
       "    </tr>\n",
       "    <tr>\n",
       "      <th>3</th>\n",
       "      <td>3</td>\n",
       "      <td>1-10016</td>\n",
       "      <td>Transparence Maire Non  Plus d'échanges Une bo...</td>\n",
       "      <td>Maires et communes</td>\n",
       "    </tr>\n",
       "    <tr>\n",
       "      <th>4</th>\n",
       "      <td>4</td>\n",
       "      <td>1-10017</td>\n",
       "      <td>REVOIR LA CONSTITUTION DE 1958 PERSONNE Non No...</td>\n",
       "      <td>A Aucun élu; A Moi-même ou personne</td>\n",
       "    </tr>\n",
       "  </tbody>\n",
       "</table>\n",
       "</div>"
      ],
      "text/plain": [
       "   Unnamed: 0 reference                                             corpus  \\\n",
       "0           0     1-100  Démocratie = citoyen qui commande Le peuple Ou...   \n",
       "1           1   1-10002  Mettre en place le RIC moi même Non   Une bonn...   \n",
       "2           2   1-10004  Tout vient de l éducation Représentation des f...   \n",
       "3           3   1-10016  Transparence Maire Non  Plus d'échanges Une bo...   \n",
       "4           4   1-10017  REVOIR LA CONSTITUTION DE 1958 PERSONNE Non No...   \n",
       "\n",
       "                            categories  \n",
       "0             Société civile, citoyens  \n",
       "1               A Moi-même ou personne  \n",
       "2                    Q Proportionnelle  \n",
       "3                   Maires et communes  \n",
       "4  A Aucun élu; A Moi-même ou personne  "
      ]
     },
     "execution_count": 153,
     "metadata": {},
     "output_type": "execute_result"
    }
   ],
   "source": [
    "df.head()"
   ]
  },
  {
   "cell_type": "code",
   "execution_count": 38,
   "metadata": {
    "ExecuteTime": {
     "end_time": "2019-03-09T09:48:42.685618Z",
     "start_time": "2019-03-09T09:48:42.682184Z"
    }
   },
   "outputs": [],
   "source": [
    "ohe = OneHotEncoder()\n",
    "le = LabelEncoder()"
   ]
  },
  {
   "cell_type": "code",
   "execution_count": 47,
   "metadata": {
    "ExecuteTime": {
     "end_time": "2019-03-09T09:52:30.374671Z",
     "start_time": "2019-03-09T09:52:30.369895Z"
    }
   },
   "outputs": [],
   "source": [
    "def tokenize(s):\n",
    "    return [elt.strip() for elt in s.split(\";\")]"
   ]
  },
  {
   "cell_type": "code",
   "execution_count": 49,
   "metadata": {
    "ExecuteTime": {
     "end_time": "2019-03-09T09:52:37.999541Z",
     "start_time": "2019-03-09T09:52:37.923342Z"
    }
   },
   "outputs": [
    {
     "data": {
      "text/plain": [
       "['A Aucun élu',\n",
       " 'Exemplarité, honnêteté des élus',\n",
       " 'W Proximité',\n",
       " 'Société civile, citoyens',\n",
       " 'Plus proche des gens',\n",
       " 'Démocratie directe (referendum, consultation)',\n",
       " 'Application loi 1905',\n",
       " 'Elus locaux',\n",
       " 'Compter comme exprimé',\n",
       " \"Annuler l'élection si fort\",\n",
       " 'Plus de transparence',\n",
       " 'Associations, ONG',\n",
       " 'Q Dose de proportionnelle',\n",
       " 'Maires et communes',\n",
       " 'A Moi-même ou personne',\n",
       " 'Dialogue, débat, concertation',\n",
       " 'Q Proportionnelle',\n",
       " 'Tous les élus',\n",
       " 'Députés, assemblée',\n",
       " 'Président de la République']"
      ]
     },
     "execution_count": 49,
     "metadata": {},
     "output_type": "execute_result"
    }
   ],
   "source": [
    "all_labels = list(set(itertools.chain.from_iterable(df.categories.apply(lambda x: tokenize(x)))))                  "
   ]
  },
  {
   "cell_type": "code",
   "execution_count": 101,
   "metadata": {
    "ExecuteTime": {
     "end_time": "2019-03-09T10:05:54.867331Z",
     "start_time": "2019-03-09T10:05:54.863552Z"
    }
   },
   "outputs": [],
   "source": [
    "target = []"
   ]
  },
  {
   "cell_type": "code",
   "execution_count": 102,
   "metadata": {
    "ExecuteTime": {
     "end_time": "2019-03-09T10:05:58.942348Z",
     "start_time": "2019-03-09T10:05:58.939587Z"
    }
   },
   "outputs": [],
   "source": [
    "from tqdm import tqdm "
   ]
  },
  {
   "cell_type": "code",
   "execution_count": 103,
   "metadata": {
    "ExecuteTime": {
     "end_time": "2019-03-09T10:06:10.062192Z",
     "start_time": "2019-03-09T10:06:02.588767Z"
    }
   },
   "outputs": [
    {
     "name": "stderr",
     "output_type": "stream",
     "text": [
      "9228it [00:07, 1235.87it/s]\n"
     ]
    }
   ],
   "source": [
    "for r, row in tqdm(df.iterrows()):\n",
    "    cat_ = np.sum([ohe.transform(le.transform([elt]).reshape(-1,1)).todense()\n",
    "                                      for elt in tokenize(row.categories)], axis=0)\n",
    "    target.append(cat_[0])"
   ]
  },
  {
   "cell_type": "code",
   "execution_count": 104,
   "metadata": {
    "ExecuteTime": {
     "end_time": "2019-03-09T10:06:17.588585Z",
     "start_time": "2019-03-09T10:06:17.578891Z"
    }
   },
   "outputs": [],
   "source": [
    "y = np.asarray(target)"
   ]
  },
  {
   "cell_type": "code",
   "execution_count": 107,
   "metadata": {
    "ExecuteTime": {
     "end_time": "2019-03-09T10:10:20.641208Z",
     "start_time": "2019-03-09T10:10:20.635972Z"
    }
   },
   "outputs": [],
   "source": [
    "from sklearn.multioutput import MultiOutputClassifier\n",
    "from sklearn.tree import DecisionTreeClassifier"
   ]
  },
  {
   "cell_type": "code",
   "execution_count": 108,
   "metadata": {
    "ExecuteTime": {
     "end_time": "2019-03-09T10:10:35.203816Z",
     "start_time": "2019-03-09T10:10:35.200060Z"
    }
   },
   "outputs": [],
   "source": [
    "classifier = DecisionTreeClassifier()"
   ]
  },
  {
   "cell_type": "code",
   "execution_count": 123,
   "metadata": {
    "ExecuteTime": {
     "end_time": "2019-03-09T10:14:45.317744Z",
     "start_time": "2019-03-09T10:14:45.314024Z"
    }
   },
   "outputs": [],
   "source": [
    "moc = MultiOutputClassifier(classifier, n_jobs=-1)"
   ]
  },
  {
   "cell_type": "code",
   "execution_count": 111,
   "metadata": {
    "ExecuteTime": {
     "end_time": "2019-03-09T10:11:38.995539Z",
     "start_time": "2019-03-09T10:11:38.991745Z"
    }
   },
   "outputs": [],
   "source": [
    "from sklearn.feature_extraction.text import TfidfVectorizer"
   ]
  },
  {
   "cell_type": "code",
   "execution_count": 117,
   "metadata": {
    "ExecuteTime": {
     "end_time": "2019-03-09T10:12:54.917721Z",
     "start_time": "2019-03-09T10:12:54.905595Z"
    }
   },
   "outputs": [],
   "source": [
    "tfidf = TfidfVectorizer(max_features=1000)"
   ]
  },
  {
   "cell_type": "code",
   "execution_count": 121,
   "metadata": {
    "ExecuteTime": {
     "end_time": "2019-03-09T10:14:22.577005Z",
     "start_time": "2019-03-09T10:14:19.699564Z"
    }
   },
   "outputs": [],
   "source": [
    "X = tfidf.fit_transform(df.corpus.tolist()).todense()"
   ]
  },
  {
   "cell_type": "code",
   "execution_count": 119,
   "metadata": {
    "ExecuteTime": {
     "end_time": "2019-03-09T10:13:23.640212Z",
     "start_time": "2019-03-09T10:13:23.635299Z"
    }
   },
   "outputs": [],
   "source": [
    "from sklearn.model_selection import train_test_split"
   ]
  },
  {
   "cell_type": "code",
   "execution_count": 122,
   "metadata": {
    "ExecuteTime": {
     "end_time": "2019-03-09T10:14:26.777143Z",
     "start_time": "2019-03-09T10:14:26.711361Z"
    }
   },
   "outputs": [],
   "source": [
    "X_train, X_test, y_train, y_test = train_test_split(X, y)"
   ]
  },
  {
   "cell_type": "code",
   "execution_count": 124,
   "metadata": {
    "ExecuteTime": {
     "end_time": "2019-03-09T10:15:41.817413Z",
     "start_time": "2019-03-09T10:14:50.043764Z"
    }
   },
   "outputs": [
    {
     "data": {
      "text/plain": [
       "MultiOutputClassifier(estimator=DecisionTreeClassifier(class_weight=None, criterion='gini', max_depth=None,\n",
       "            max_features=None, max_leaf_nodes=None,\n",
       "            min_impurity_decrease=0.0, min_impurity_split=None,\n",
       "            min_samples_leaf=1, min_samples_split=2,\n",
       "            min_weight_fraction_leaf=0.0, presort=False, random_state=None,\n",
       "            splitter='best'),\n",
       "           n_jobs=-1)"
      ]
     },
     "execution_count": 124,
     "metadata": {},
     "output_type": "execute_result"
    }
   ],
   "source": [
    "moc.fit(X_train, y_train)"
   ]
  },
  {
   "cell_type": "code",
   "execution_count": 125,
   "metadata": {
    "ExecuteTime": {
     "end_time": "2019-03-09T10:15:56.795819Z",
     "start_time": "2019-03-09T10:15:56.602768Z"
    }
   },
   "outputs": [],
   "source": [
    "prediction = moc.predict(X_test)"
   ]
  },
  {
   "cell_type": "code",
   "execution_count": 129,
   "metadata": {
    "ExecuteTime": {
     "end_time": "2019-03-09T10:16:15.241421Z",
     "start_time": "2019-03-09T10:16:15.236145Z"
    }
   },
   "outputs": [
    {
     "data": {
      "text/plain": [
       "(2307,)"
      ]
     },
     "execution_count": 129,
     "metadata": {},
     "output_type": "execute_result"
    }
   ],
   "source": [
    "prediction.sum(axis=1).shape"
   ]
  },
  {
   "cell_type": "code",
   "execution_count": 131,
   "metadata": {
    "ExecuteTime": {
     "end_time": "2019-03-09T10:16:33.017708Z",
     "start_time": "2019-03-09T10:16:33.012394Z"
    }
   },
   "outputs": [
    {
     "data": {
      "text/plain": [
       "(2307,)"
      ]
     },
     "execution_count": 131,
     "metadata": {},
     "output_type": "execute_result"
    }
   ],
   "source": [
    "y_test.sum(axis=1).shape"
   ]
  },
  {
   "cell_type": "code",
   "execution_count": 132,
   "metadata": {
    "ExecuteTime": {
     "end_time": "2019-03-09T10:17:01.689053Z",
     "start_time": "2019-03-09T10:17:01.438809Z"
    }
   },
   "outputs": [
    {
     "data": {
      "text/plain": [
       "0.1187689640225401"
      ]
     },
     "execution_count": 132,
     "metadata": {},
     "output_type": "execute_result"
    }
   ],
   "source": [
    "moc.score(X_test, y_test)"
   ]
  },
  {
   "cell_type": "code",
   "execution_count": 151,
   "metadata": {
    "ExecuteTime": {
     "end_time": "2019-03-09T10:27:46.506654Z",
     "start_time": "2019-03-09T10:27:46.318360Z"
    },
    "scrolled": false
   },
   "outputs": [
    {
     "name": "stdout",
     "output_type": "stream",
     "text": [
      "['A Aucun élu']\n",
      "[[1947  126]\n",
      " [ 134  100]]\n",
      "              precision    recall  f1-score   support\n",
      "\n",
      "         0.0       0.94      0.94      0.94      2073\n",
      "         1.0       0.44      0.43      0.43       234\n",
      "\n",
      "   micro avg       0.89      0.89      0.89      2307\n",
      "   macro avg       0.69      0.68      0.69      2307\n",
      "weighted avg       0.89      0.89      0.89      2307\n",
      "\n",
      "['A Moi-même ou personne']\n",
      "[[1708  200]\n",
      " [ 176  223]]\n",
      "              precision    recall  f1-score   support\n",
      "\n",
      "         0.0       0.91      0.90      0.90      1908\n",
      "         1.0       0.53      0.56      0.54       399\n",
      "\n",
      "   micro avg       0.84      0.84      0.84      2307\n",
      "   macro avg       0.72      0.73      0.72      2307\n",
      "weighted avg       0.84      0.84      0.84      2307\n",
      "\n",
      "[\"Annuler l'élection si fort\"]\n",
      "[[2132   84]\n",
      " [  87    4]]\n",
      "              precision    recall  f1-score   support\n",
      "\n",
      "         0.0       0.96      0.96      0.96      2216\n",
      "         1.0       0.05      0.04      0.04        91\n",
      "\n",
      "   micro avg       0.93      0.93      0.93      2307\n",
      "   macro avg       0.50      0.50      0.50      2307\n",
      "weighted avg       0.92      0.93      0.93      2307\n",
      "\n",
      "['Application loi 1905']\n",
      "[[2190   46]\n",
      " [  67    4]]\n",
      "              precision    recall  f1-score   support\n",
      "\n",
      "         0.0       0.97      0.98      0.97      2236\n",
      "         1.0       0.08      0.06      0.07        71\n",
      "\n",
      "   micro avg       0.95      0.95      0.95      2307\n",
      "   macro avg       0.53      0.52      0.52      2307\n",
      "weighted avg       0.94      0.95      0.95      2307\n",
      "\n",
      "['Associations, ONG']\n",
      "[[2224   53]\n",
      " [  30    0]]\n",
      "              precision    recall  f1-score   support\n",
      "\n",
      "         0.0       0.99      0.98      0.98      2277\n",
      "         1.0       0.00      0.00      0.00        30\n",
      "\n",
      "   micro avg       0.96      0.96      0.96      2307\n",
      "   macro avg       0.49      0.49      0.49      2307\n",
      "weighted avg       0.97      0.96      0.97      2307\n",
      "\n",
      "['Compter comme exprimé']\n",
      "[[1861  214]\n",
      " [ 209   23]]\n",
      "              precision    recall  f1-score   support\n",
      "\n",
      "         0.0       0.90      0.90      0.90      2075\n",
      "         1.0       0.10      0.10      0.10       232\n",
      "\n",
      "   micro avg       0.82      0.82      0.82      2307\n",
      "   macro avg       0.50      0.50      0.50      2307\n",
      "weighted avg       0.82      0.82      0.82      2307\n",
      "\n",
      "['Dialogue, débat, concertation']\n",
      "[[2191   66]\n",
      " [  46    4]]\n",
      "              precision    recall  f1-score   support\n",
      "\n",
      "         0.0       0.98      0.97      0.98      2257\n",
      "         1.0       0.06      0.08      0.07        50\n",
      "\n",
      "   micro avg       0.95      0.95      0.95      2307\n",
      "   macro avg       0.52      0.53      0.52      2307\n",
      "weighted avg       0.96      0.95      0.96      2307\n",
      "\n",
      "['Démocratie directe (referendum, consultation)']\n",
      "[[2182   65]\n",
      " [  56    4]]\n",
      "              precision    recall  f1-score   support\n",
      "\n",
      "         0.0       0.97      0.97      0.97      2247\n",
      "         1.0       0.06      0.07      0.06        60\n",
      "\n",
      "   micro avg       0.95      0.95      0.95      2307\n",
      "   macro avg       0.52      0.52      0.52      2307\n",
      "weighted avg       0.95      0.95      0.95      2307\n",
      "\n",
      "['Députés, assemblée']\n",
      "[[1930  161]\n",
      " [ 156   60]]\n",
      "              precision    recall  f1-score   support\n",
      "\n",
      "         0.0       0.93      0.92      0.92      2091\n",
      "         1.0       0.27      0.28      0.27       216\n",
      "\n",
      "   micro avg       0.86      0.86      0.86      2307\n",
      "   macro avg       0.60      0.60      0.60      2307\n",
      "weighted avg       0.86      0.86      0.86      2307\n",
      "\n",
      "['Elus locaux']\n",
      "[[2114   85]\n",
      " [  96   12]]\n",
      "              precision    recall  f1-score   support\n",
      "\n",
      "         0.0       0.96      0.96      0.96      2199\n",
      "         1.0       0.12      0.11      0.12       108\n",
      "\n",
      "   micro avg       0.92      0.92      0.92      2307\n",
      "   macro avg       0.54      0.54      0.54      2307\n",
      "weighted avg       0.92      0.92      0.92      2307\n",
      "\n",
      "['Exemplarité, honnêteté des élus']\n",
      "[[2209   56]\n",
      " [  41    1]]\n",
      "              precision    recall  f1-score   support\n",
      "\n",
      "         0.0       0.98      0.98      0.98      2265\n",
      "         1.0       0.02      0.02      0.02        42\n",
      "\n",
      "   micro avg       0.96      0.96      0.96      2307\n",
      "   macro avg       0.50      0.50      0.50      2307\n",
      "weighted avg       0.96      0.96      0.96      2307\n",
      "\n",
      "['Maires et communes']\n",
      "[[1609  224]\n",
      " [ 212  262]]\n",
      "              precision    recall  f1-score   support\n",
      "\n",
      "         0.0       0.88      0.88      0.88      1833\n",
      "         1.0       0.54      0.55      0.55       474\n",
      "\n",
      "   micro avg       0.81      0.81      0.81      2307\n",
      "   macro avg       0.71      0.72      0.71      2307\n",
      "weighted avg       0.81      0.81      0.81      2307\n",
      "\n",
      "['Plus de transparence']\n",
      "[[2227   34]\n",
      " [  45    1]]\n",
      "              precision    recall  f1-score   support\n",
      "\n",
      "         0.0       0.98      0.98      0.98      2261\n",
      "         1.0       0.03      0.02      0.02        46\n",
      "\n",
      "   micro avg       0.97      0.97      0.97      2307\n",
      "   macro avg       0.50      0.50      0.50      2307\n",
      "weighted avg       0.96      0.97      0.96      2307\n",
      "\n",
      "['Plus proche des gens']\n",
      "[[2177   70]\n",
      " [  56    4]]\n",
      "              precision    recall  f1-score   support\n",
      "\n",
      "         0.0       0.97      0.97      0.97      2247\n",
      "         1.0       0.05      0.07      0.06        60\n",
      "\n",
      "   micro avg       0.95      0.95      0.95      2307\n",
      "   macro avg       0.51      0.52      0.52      2307\n",
      "weighted avg       0.95      0.95      0.95      2307\n",
      "\n",
      "['Président de la République']\n",
      "[[2224   35]\n",
      " [  41    7]]\n",
      "              precision    recall  f1-score   support\n",
      "\n",
      "         0.0       0.98      0.98      0.98      2259\n",
      "         1.0       0.17      0.15      0.16        48\n",
      "\n",
      "   micro avg       0.97      0.97      0.97      2307\n",
      "   macro avg       0.57      0.57      0.57      2307\n",
      "weighted avg       0.96      0.97      0.97      2307\n",
      "\n",
      "['Q Dose de proportionnelle']\n",
      "[[1724  200]\n",
      " [ 225  158]]\n",
      "              precision    recall  f1-score   support\n",
      "\n",
      "         0.0       0.88      0.90      0.89      1924\n",
      "         1.0       0.44      0.41      0.43       383\n",
      "\n",
      "   micro avg       0.82      0.82      0.82      2307\n",
      "   macro avg       0.66      0.65      0.66      2307\n",
      "weighted avg       0.81      0.82      0.81      2307\n",
      "\n",
      "['Q Proportionnelle']\n",
      "[[1487  281]\n",
      " [ 258  281]]\n",
      "              precision    recall  f1-score   support\n",
      "\n",
      "         0.0       0.85      0.84      0.85      1768\n",
      "         1.0       0.50      0.52      0.51       539\n",
      "\n",
      "   micro avg       0.77      0.77      0.77      2307\n",
      "   macro avg       0.68      0.68      0.68      2307\n",
      "weighted avg       0.77      0.77      0.77      2307\n",
      "\n",
      "['Société civile, citoyens']\n",
      "[[2217   46]\n",
      " [  38    6]]\n",
      "              precision    recall  f1-score   support\n",
      "\n",
      "         0.0       0.98      0.98      0.98      2263\n",
      "         1.0       0.12      0.14      0.12        44\n",
      "\n",
      "   micro avg       0.96      0.96      0.96      2307\n",
      "   macro avg       0.55      0.56      0.55      2307\n",
      "weighted avg       0.97      0.96      0.97      2307\n",
      "\n",
      "['Tous les élus']\n",
      "[[2010  131]\n",
      " [ 135   31]]\n",
      "              precision    recall  f1-score   support\n",
      "\n",
      "         0.0       0.94      0.94      0.94      2141\n",
      "         1.0       0.19      0.19      0.19       166\n",
      "\n",
      "   micro avg       0.88      0.88      0.88      2307\n",
      "   macro avg       0.56      0.56      0.56      2307\n",
      "weighted avg       0.88      0.88      0.88      2307\n",
      "\n",
      "['W Proximité']\n",
      "[[2156   86]\n",
      " [  59    6]]\n",
      "              precision    recall  f1-score   support\n",
      "\n",
      "         0.0       0.97      0.96      0.97      2242\n",
      "         1.0       0.07      0.09      0.08        65\n",
      "\n",
      "   micro avg       0.94      0.94      0.94      2307\n",
      "   macro avg       0.52      0.53      0.52      2307\n",
      "weighted avg       0.95      0.94      0.94      2307\n",
      "\n"
     ]
    },
    {
     "name": "stderr",
     "output_type": "stream",
     "text": [
      "/Users/raphael.courivaud/anaconda3/lib/python3.6/site-packages/sklearn/preprocessing/label.py:273: DataConversionWarning: A column-vector y was passed when a 1d array was expected. Please change the shape of y to (n_samples, ), for example using ravel().\n",
      "  y = column_or_1d(y, warn=True)\n",
      "/Users/raphael.courivaud/anaconda3/lib/python3.6/site-packages/sklearn/preprocessing/label.py:273: DataConversionWarning: A column-vector y was passed when a 1d array was expected. Please change the shape of y to (n_samples, ), for example using ravel().\n",
      "  y = column_or_1d(y, warn=True)\n",
      "/Users/raphael.courivaud/anaconda3/lib/python3.6/site-packages/sklearn/preprocessing/label.py:273: DataConversionWarning: A column-vector y was passed when a 1d array was expected. Please change the shape of y to (n_samples, ), for example using ravel().\n",
      "  y = column_or_1d(y, warn=True)\n",
      "/Users/raphael.courivaud/anaconda3/lib/python3.6/site-packages/sklearn/preprocessing/label.py:273: DataConversionWarning: A column-vector y was passed when a 1d array was expected. Please change the shape of y to (n_samples, ), for example using ravel().\n",
      "  y = column_or_1d(y, warn=True)\n",
      "/Users/raphael.courivaud/anaconda3/lib/python3.6/site-packages/sklearn/preprocessing/label.py:273: DataConversionWarning: A column-vector y was passed when a 1d array was expected. Please change the shape of y to (n_samples, ), for example using ravel().\n",
      "  y = column_or_1d(y, warn=True)\n",
      "/Users/raphael.courivaud/anaconda3/lib/python3.6/site-packages/sklearn/preprocessing/label.py:273: DataConversionWarning: A column-vector y was passed when a 1d array was expected. Please change the shape of y to (n_samples, ), for example using ravel().\n",
      "  y = column_or_1d(y, warn=True)\n",
      "/Users/raphael.courivaud/anaconda3/lib/python3.6/site-packages/sklearn/preprocessing/label.py:273: DataConversionWarning: A column-vector y was passed when a 1d array was expected. Please change the shape of y to (n_samples, ), for example using ravel().\n",
      "  y = column_or_1d(y, warn=True)\n",
      "/Users/raphael.courivaud/anaconda3/lib/python3.6/site-packages/sklearn/preprocessing/label.py:273: DataConversionWarning: A column-vector y was passed when a 1d array was expected. Please change the shape of y to (n_samples, ), for example using ravel().\n",
      "  y = column_or_1d(y, warn=True)\n",
      "/Users/raphael.courivaud/anaconda3/lib/python3.6/site-packages/sklearn/preprocessing/label.py:273: DataConversionWarning: A column-vector y was passed when a 1d array was expected. Please change the shape of y to (n_samples, ), for example using ravel().\n",
      "  y = column_or_1d(y, warn=True)\n",
      "/Users/raphael.courivaud/anaconda3/lib/python3.6/site-packages/sklearn/preprocessing/label.py:273: DataConversionWarning: A column-vector y was passed when a 1d array was expected. Please change the shape of y to (n_samples, ), for example using ravel().\n",
      "  y = column_or_1d(y, warn=True)\n",
      "/Users/raphael.courivaud/anaconda3/lib/python3.6/site-packages/sklearn/preprocessing/label.py:273: DataConversionWarning: A column-vector y was passed when a 1d array was expected. Please change the shape of y to (n_samples, ), for example using ravel().\n",
      "  y = column_or_1d(y, warn=True)\n",
      "/Users/raphael.courivaud/anaconda3/lib/python3.6/site-packages/sklearn/preprocessing/label.py:273: DataConversionWarning: A column-vector y was passed when a 1d array was expected. Please change the shape of y to (n_samples, ), for example using ravel().\n",
      "  y = column_or_1d(y, warn=True)\n",
      "/Users/raphael.courivaud/anaconda3/lib/python3.6/site-packages/sklearn/preprocessing/label.py:273: DataConversionWarning: A column-vector y was passed when a 1d array was expected. Please change the shape of y to (n_samples, ), for example using ravel().\n",
      "  y = column_or_1d(y, warn=True)\n",
      "/Users/raphael.courivaud/anaconda3/lib/python3.6/site-packages/sklearn/preprocessing/label.py:273: DataConversionWarning: A column-vector y was passed when a 1d array was expected. Please change the shape of y to (n_samples, ), for example using ravel().\n",
      "  y = column_or_1d(y, warn=True)\n",
      "/Users/raphael.courivaud/anaconda3/lib/python3.6/site-packages/sklearn/preprocessing/label.py:273: DataConversionWarning: A column-vector y was passed when a 1d array was expected. Please change the shape of y to (n_samples, ), for example using ravel().\n",
      "  y = column_or_1d(y, warn=True)\n",
      "/Users/raphael.courivaud/anaconda3/lib/python3.6/site-packages/sklearn/preprocessing/label.py:273: DataConversionWarning: A column-vector y was passed when a 1d array was expected. Please change the shape of y to (n_samples, ), for example using ravel().\n",
      "  y = column_or_1d(y, warn=True)\n",
      "/Users/raphael.courivaud/anaconda3/lib/python3.6/site-packages/sklearn/preprocessing/label.py:273: DataConversionWarning: A column-vector y was passed when a 1d array was expected. Please change the shape of y to (n_samples, ), for example using ravel().\n",
      "  y = column_or_1d(y, warn=True)\n",
      "/Users/raphael.courivaud/anaconda3/lib/python3.6/site-packages/sklearn/preprocessing/label.py:273: DataConversionWarning: A column-vector y was passed when a 1d array was expected. Please change the shape of y to (n_samples, ), for example using ravel().\n",
      "  y = column_or_1d(y, warn=True)\n",
      "/Users/raphael.courivaud/anaconda3/lib/python3.6/site-packages/sklearn/preprocessing/label.py:273: DataConversionWarning: A column-vector y was passed when a 1d array was expected. Please change the shape of y to (n_samples, ), for example using ravel().\n",
      "  y = column_or_1d(y, warn=True)\n",
      "/Users/raphael.courivaud/anaconda3/lib/python3.6/site-packages/sklearn/preprocessing/label.py:273: DataConversionWarning: A column-vector y was passed when a 1d array was expected. Please change the shape of y to (n_samples, ), for example using ravel().\n",
      "  y = column_or_1d(y, warn=True)\n"
     ]
    }
   ],
   "source": [
    "for i in range(y_test.shape[1]):\n",
    "    y_dim = y_test[:,i]\n",
    "    pred_dim = prediction[:,i]\n",
    "    \n",
    "    dim = np.zeros(y.shape[1])\n",
    "    dim[i]=1\n",
    "    print(le.inverse_transform(ohe.inverse_transform([dim])))\n",
    "    \n",
    "    print(confusion_matrix(y_dim, pred_dim))\n",
    "    print(classification_report(y_dim, pred_dim))"
   ]
  },
  {
   "cell_type": "code",
   "execution_count": 134,
   "metadata": {
    "ExecuteTime": {
     "end_time": "2019-03-09T10:18:52.188639Z",
     "start_time": "2019-03-09T10:18:52.183268Z"
    }
   },
   "outputs": [
    {
     "data": {
      "text/plain": [
       "(2307, 20)"
      ]
     },
     "execution_count": 134,
     "metadata": {},
     "output_type": "execute_result"
    }
   ],
   "source": [
    "y_test.shape"
   ]
  },
  {
   "cell_type": "code",
   "execution_count": null,
   "metadata": {},
   "outputs": [],
   "source": []
  }
 ],
 "metadata": {
  "kernelspec": {
   "display_name": "Python 3",
   "language": "python",
   "name": "python3"
  },
  "language_info": {
   "codemirror_mode": {
    "name": "ipython",
    "version": 3
   },
   "file_extension": ".py",
   "mimetype": "text/x-python",
   "name": "python",
   "nbconvert_exporter": "python",
   "pygments_lexer": "ipython3",
   "version": "3.6.7"
  },
  "varInspector": {
   "cols": {
    "lenName": 16,
    "lenType": 16,
    "lenVar": 40
   },
   "kernels_config": {
    "python": {
     "delete_cmd_postfix": "",
     "delete_cmd_prefix": "del ",
     "library": "var_list.py",
     "varRefreshCmd": "print(var_dic_list())"
    },
    "r": {
     "delete_cmd_postfix": ") ",
     "delete_cmd_prefix": "rm(",
     "library": "var_list.r",
     "varRefreshCmd": "cat(var_dic_list()) "
    }
   },
   "types_to_exclude": [
    "module",
    "function",
    "builtin_function_or_method",
    "instance",
    "_Feature"
   ],
   "window_display": false
  }
 },
 "nbformat": 4,
 "nbformat_minor": 2
}
