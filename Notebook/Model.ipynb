{
 "cells": [
  {
   "cell_type": "code",
   "execution_count": 9,
   "metadata": {},
   "outputs": [
    {
     "name": "stdout",
     "output_type": "stream",
     "text": [
      "Collecting unidecode\n",
      "\u001b[?25l  Downloading https://files.pythonhosted.org/packages/31/39/53096f9217b057cb049fe872b7fc7ce799a1a89b76cf917d9639e7a558b5/Unidecode-1.0.23-py2.py3-none-any.whl (237kB)\n",
      "\u001b[K    100% |████████████████████████████████| 245kB 39.8MB/s ta 0:00:01\n",
      "\u001b[?25hInstalling collected packages: unidecode\n",
      "Successfully installed unidecode-1.0.23\n",
      "\u001b[33mYou are using pip version 10.0.1, however version 19.0.3 is available.\n",
      "You should consider upgrading via the 'pip install --upgrade pip' command.\u001b[0m\n"
     ]
    }
   ],
   "source": [
    "# !pip install --upgrade tensorflow --user\n",
    "# !pip install keras --user\n",
    "#!pip install unidecode\n"
   ]
  },
  {
   "cell_type": "code",
   "execution_count": 217,
   "metadata": {},
   "outputs": [],
   "source": [
    "import io, json, talos, itertools, random\n",
    "from collections import Counter\n",
    "\n",
    "from sklearn.preprocessing import MultiLabelBinarizer\n",
    "from keras.preprocessing.text import Tokenizer\n",
    "from keras.preprocessing.sequence import pad_sequences\n",
    "from sklearn.model_selection import train_test_split\n",
    "\n",
    "from keras.models import Sequential, load_model\n",
    "from keras.layers import Dense, Embedding, GlobalMaxPool1D, Dropout\n",
    "from keras.layers import Dense, Activation, Embedding, Flatten, GlobalMaxPool1D, Dropout, Conv1D\n",
    "from keras.optimizers import Adam\n",
    "from keras.callbacks import ReduceLROnPlateau, EarlyStopping, ModelCheckpoint\n",
    "from keras.layers import Input, Concatenate, concatenate\n",
    "import numpy as np\n",
    "import unidecode\n",
    "\n",
    "from keras.models import Model"
   ]
  },
  {
   "cell_type": "code",
   "execution_count": 197,
   "metadata": {},
   "outputs": [],
   "source": [
    "with open(\"./data/all_train_data.json\", 'r') as f:\n",
    "    data = json.load(f)"
   ]
  },
  {
   "cell_type": "code",
   "execution_count": 214,
   "metadata": {},
   "outputs": [],
   "source": [
    "with open(\"./data/train_data_lga.json\", 'r') as f:\n",
    "    data_lga = json.load(f)"
   ]
  },
  {
   "cell_type": "code",
   "execution_count": 215,
   "metadata": {},
   "outputs": [],
   "source": [
    "with open(\"./data/train_data_elf.json\", 'r') as f:\n",
    "    data_elf = json.load(f)"
   ]
  },
  {
   "cell_type": "code",
   "execution_count": 222,
   "metadata": {},
   "outputs": [],
   "source": [
    "random.shuffle(data_elf)"
   ]
  },
  {
   "cell_type": "code",
   "execution_count": 227,
   "metadata": {},
   "outputs": [],
   "source": [
    "elf_data_1 = data_elf[0:int(len(data_elf)/2)]\n",
    "elf_data_2 = data_elf[int(len(data_elf)/2):]"
   ]
  },
  {
   "cell_type": "code",
   "execution_count": 228,
   "metadata": {},
   "outputs": [],
   "source": [
    "data = data_lga + elf_data_1"
   ]
  },
  {
   "cell_type": "code",
   "execution_count": 229,
   "metadata": {},
   "outputs": [],
   "source": [
    "MAX_WORDS = 5000\n",
    "EMBEDDING_SIZE = 200\n",
    "MAX_LENGTH = 200"
   ]
  },
  {
   "cell_type": "code",
   "execution_count": 230,
   "metadata": {},
   "outputs": [],
   "source": [
    "text = list(itertools.chain.from_iterable([[contrib[\"answer\"],contrib[\"question\"]] for contrib in data]))"
   ]
  },
  {
   "cell_type": "code",
   "execution_count": 231,
   "metadata": {},
   "outputs": [],
   "source": [
    "tokenizer = Tokenizer(num_words=MAX_WORDS, lower=True)\n",
    "tokenizer.fit_on_texts(text)"
   ]
  },
  {
   "cell_type": "code",
   "execution_count": 232,
   "metadata": {},
   "outputs": [],
   "source": [
    "def sequences_from_list_of_text(text_list):\n",
    "    sequences = tokenizer.texts_to_sequences([unidecode.unidecode(text) for text in text_list])\n",
    "    return pad_sequences(sequences, maxlen=MAX_LENGTH)"
   ]
  },
  {
   "cell_type": "code",
   "execution_count": 233,
   "metadata": {},
   "outputs": [],
   "source": [
    "data_questions = sequences_from_list_of_text([contrib[\"question\"] for contrib in data])\n",
    "data_answers = sequences_from_list_of_text([contrib[\"answer\"] for contrib in data])"
   ]
  },
  {
   "cell_type": "code",
   "execution_count": 289,
   "metadata": {},
   "outputs": [],
   "source": [
    "TAGS_TO_REMOVE = [\"Autres\", \"Sans réponse / Hors sujet / Inclassable\"]"
   ]
  },
  {
   "cell_type": "code",
   "execution_count": 290,
   "metadata": {},
   "outputs": [],
   "source": [
    "data_tags = [contrib[\"target\"] for contrib in data if contrib]\n",
    "all_tags = [elt for elt in itertools.chain.from_iterable(data_tags) if elt not in TAGS_TO_REMOVE]\n",
    "all_tags_count = Counter(all_tags)\n",
    "sup_100_tags = [key for key, value in dict(all_tags_count).items() if value >10]"
   ]
  },
  {
   "cell_type": "code",
   "execution_count": 291,
   "metadata": {},
   "outputs": [],
   "source": [
    "multilabel_binarizer = MultiLabelBinarizer()\n",
    "multilabel_binarizer.fit([sup_100_tags])\n",
    "classes = multilabel_binarizer.classes_\n",
    "target = [[e for e in elt if e in multilabel_binarizer.classes_] for elt in data_tags]\n",
    "y = multilabel_binarizer.transform(target)"
   ]
  },
  {
   "cell_type": "code",
   "execution_count": 292,
   "metadata": {},
   "outputs": [],
   "source": [
    "x_question_train, x_question_test, \\\n",
    "x_answer_train, x_answer_test,\\\n",
    "y_train, y_test = train_test_split(data_questions, data_answers, y, test_size=0.1, random_state=42)"
   ]
  },
  {
   "cell_type": "markdown",
   "metadata": {},
   "source": [
    "# Siameese "
   ]
  },
  {
   "cell_type": "code",
   "execution_count": 293,
   "metadata": {},
   "outputs": [],
   "source": [
    "question_input = Input(shape=(MAX_LENGTH,))\n",
    "answer_input = Input(shape=(MAX_LENGTH,))\n",
    "\n",
    "x_question = Embedding(MAX_WORDS, EMBEDDING_SIZE, input_length=MAX_LENGTH)(question_input)\n",
    "\n",
    "x_question = Dropout(0.1)(x_question)\n",
    "x_question = Conv1D(200, 3, padding='valid', activation='relu', strides=1)(x_question)\n",
    "x_question = GlobalMaxPool1D()(x_question)\n",
    "x_question = Dense(100)(x_question)\n",
    "\n",
    "x_answers = Embedding(MAX_WORDS, EMBEDDING_SIZE, input_length=MAX_LENGTH)(answer_input)\n",
    "x_answers = Dropout(0.1)(x_answers)\n",
    "x_answers = Conv1D(200, 3, padding='valid', activation='relu', strides=1)(x_answers)\n",
    "x_answers = GlobalMaxPool1D()(x_answers)\n",
    "x_answers = Dense(100)(x_answers)\n",
    "\n",
    "x = Concatenate(axis=1)([x_question, x_answers])\n",
    "x = Dropout(0.1)(x)\n",
    "x = Dense(100)(x)\n",
    "x = Dropout(0.1)(x)\n",
    "\n",
    "output = Dense(len(classes), activation=\"softmax\")(x)"
   ]
  },
  {
   "cell_type": "code",
   "execution_count": 294,
   "metadata": {},
   "outputs": [
    {
     "name": "stdout",
     "output_type": "stream",
     "text": [
      "Train on 116910 samples, validate on 12990 samples\n",
      "Epoch 1/20\n",
      "116910/116910 [==============================] - 250s 2ms/step - loss: 0.0062 - categorical_accuracy: 0.5701 - val_loss: 0.0050 - val_categorical_accuracy: 0.6484\n",
      "Epoch 2/20\n",
      "116910/116910 [==============================] - 249s 2ms/step - loss: 0.0050 - categorical_accuracy: 0.6397 - val_loss: 0.0048 - val_categorical_accuracy: 0.6311\n",
      "Epoch 3/20\n",
      "116910/116910 [==============================] - 248s 2ms/step - loss: 0.0047 - categorical_accuracy: 0.6515 - val_loss: 0.0048 - val_categorical_accuracy: 0.6468\n",
      "Epoch 4/20\n",
      "116910/116910 [==============================] - 248s 2ms/step - loss: 0.0046 - categorical_accuracy: 0.6583 - val_loss: 0.0047 - val_categorical_accuracy: 0.6416\n",
      "Epoch 5/20\n",
      "116910/116910 [==============================] - 248s 2ms/step - loss: 0.0045 - categorical_accuracy: 0.6626 - val_loss: 0.0047 - val_categorical_accuracy: 0.6413\n",
      "Epoch 6/20\n",
      "116910/116910 [==============================] - 248s 2ms/step - loss: 0.0044 - categorical_accuracy: 0.6671 - val_loss: 0.0047 - val_categorical_accuracy: 0.6594\n",
      "Epoch 7/20\n",
      " 70528/116910 [=================>............] - ETA: 1:36 - loss: 0.0043 - categorical_accuracy: 0.6727"
     ]
    },
    {
     "name": "stderr",
     "output_type": "stream",
     "text": [
      "IOPub message rate exceeded.\n",
      "The notebook server will temporarily stop sending output\n",
      "to the client in order to avoid crashing it.\n",
      "To change this limit, set the config variable\n",
      "`--NotebookApp.iopub_msg_rate_limit`.\n",
      "\n",
      "Current values:\n",
      "NotebookApp.iopub_msg_rate_limit=1000.0 (msgs/sec)\n",
      "NotebookApp.rate_limit_window=3.0 (secs)\n",
      "\n"
     ]
    },
    {
     "name": "stdout",
     "output_type": "stream",
     "text": [
      "116910/116910 [==============================] - 248s 2ms/step - loss: 0.0042 - categorical_accuracy: 0.6751 - val_loss: 0.0049 - val_categorical_accuracy: 0.6551\n",
      "Epoch 9/20\n",
      " 61696/116910 [==============>...............] - ETA: 1:54 - loss: 0.0041 - categorical_accuracy: 0.6780"
     ]
    },
    {
     "name": "stderr",
     "output_type": "stream",
     "text": [
      "IOPub message rate exceeded.\n",
      "The notebook server will temporarily stop sending output\n",
      "to the client in order to avoid crashing it.\n",
      "To change this limit, set the config variable\n",
      "`--NotebookApp.iopub_msg_rate_limit`.\n",
      "\n",
      "Current values:\n",
      "NotebookApp.iopub_msg_rate_limit=1000.0 (msgs/sec)\n",
      "NotebookApp.rate_limit_window=3.0 (secs)\n",
      "\n"
     ]
    },
    {
     "name": "stdout",
     "output_type": "stream",
     "text": [
      "116910/116910 [==============================] - 248s 2ms/step - loss: 0.0041 - categorical_accuracy: 0.6778 - val_loss: 0.0048 - val_categorical_accuracy: 0.6511\n",
      "Epoch 11/20\n",
      " 51424/116910 [============>.................] - ETA: 2:15 - loss: 0.0040 - categorical_accuracy: 0.6822"
     ]
    },
    {
     "name": "stderr",
     "output_type": "stream",
     "text": [
      "IOPub message rate exceeded.\n",
      "The notebook server will temporarily stop sending output\n",
      "to the client in order to avoid crashing it.\n",
      "To change this limit, set the config variable\n",
      "`--NotebookApp.iopub_msg_rate_limit`.\n",
      "\n",
      "Current values:\n",
      "NotebookApp.iopub_msg_rate_limit=1000.0 (msgs/sec)\n",
      "NotebookApp.rate_limit_window=3.0 (secs)\n",
      "\n"
     ]
    }
   ],
   "source": [
    "model = Model([question_input, answer_input],\n",
    "                output)\n",
    "\n",
    "model.compile(optimizer=\"adam\",\n",
    "               loss='binary_crossentropy', metrics=['categorical_accuracy'],\n",
    "                )\n",
    "\n",
    "model.fit([x_question_train, x_answer_train], y_train, batch_size=32,\n",
    "          epochs=20,\n",
    "                validation_split=0.1,\n",
    "                callbacks=callbacks)"
   ]
  },
  {
   "cell_type": "code",
   "execution_count": 295,
   "metadata": {},
   "outputs": [
    {
     "name": "stdout",
     "output_type": "stream",
     "text": [
      "14434/14434 [==============================] - 6s 433us/step\n",
      "loss: 0.004952189853505613\n",
      "categorical_accuracy: 0.6531799916862963\n"
     ]
    }
   ],
   "source": [
    "metrics = model.evaluate([x_question_test, x_answer_test], y_test)\n",
    "print(\"{}: {}\".format(model.metrics_names[0], metrics[0]))\n",
    "print(\"{}: {}\".format(model.metrics_names[1], metrics[1]))"
   ]
  },
  {
   "cell_type": "code",
   "execution_count": 296,
   "metadata": {},
   "outputs": [],
   "source": [
    "predictions = model.predict([x_question_test, x_answer_test])"
   ]
  },
  {
   "cell_type": "code",
   "execution_count": 297,
   "metadata": {},
   "outputs": [],
   "source": [
    "import tensorflow as tf"
   ]
  },
  {
   "cell_type": "code",
   "execution_count": 298,
   "metadata": {},
   "outputs": [],
   "source": [
    "sess = tf.Session()\n",
    "\n",
    "def evaluation_top_k(y_test, y_pred):\n",
    "    with sess.as_default():\n",
    "\n",
    "        return {f\"top_{k}\":tf.keras.metrics.top_k_categorical_accuracy(y_test, y_pred,k=k    ).eval() \n",
    "                for k in [1, 2, 3, 5]}"
   ]
  },
  {
   "cell_type": "code",
   "execution_count": 299,
   "metadata": {},
   "outputs": [
    {
     "data": {
      "text/plain": [
       "{'top_1': 0.65318,\n",
       " 'top_2': 0.78571427,\n",
       " 'top_3': 0.8322017,\n",
       " 'top_5': 0.87972844}"
      ]
     },
     "execution_count": 299,
     "metadata": {},
     "output_type": "execute_result"
    }
   ],
   "source": [
    "evaluation_top_k(y_test, predictions)"
   ]
  },
  {
   "cell_type": "code",
   "execution_count": 300,
   "metadata": {},
   "outputs": [],
   "source": [
    "test_question = \"Qu'est-ce qui pourrait vous inciter à changer vos comportements qui ne sont pas écologiques ? N'hésitez pas à donner des exemples concrets\"\n",
    "test_answer = \"Réduire les déchets Covoiturage Réutilisation\""
   ]
  },
  {
   "cell_type": "code",
   "execution_count": 301,
   "metadata": {},
   "outputs": [],
   "source": [
    "feature_test_question = sequences_from_list_of_text([test_question])\n",
    "feature_test_answer = sequences_from_list_of_text([test_answer])"
   ]
  },
  {
   "cell_type": "code",
   "execution_count": 302,
   "metadata": {},
   "outputs": [],
   "source": [
    "prediction =  model.predict([feature_test_question, feature_test_answer])[0]"
   ]
  },
  {
   "cell_type": "code",
   "execution_count": 303,
   "metadata": {},
   "outputs": [
    {
     "data": {
      "text/plain": [
       "[('Recherche, innovation, rentabilité', 0.23444806),\n",
       " ('Transports en commun meilleurs', 0.1592456),\n",
       " ('Aides financières, fiscalité incitative, baisse prix', 0.14431588),\n",
       " ('Politique publique forte, long terme', 0.08663409),\n",
       " ('Tri sélectif plus facile', 0.07258257),\n",
       " ('Réduire les emballages (favoriser vrac)', 0.06820785),\n",
       " ('Taxer les gros pollueurs', 0.060008597),\n",
       " ('Pistes cyclables', 0.050323106),\n",
       " ('Taxer les produits et services non écolo', 0.024411881),\n",
       " ('Transports en commun moins chers', 0.021235093)]"
      ]
     },
     "execution_count": 303,
     "metadata": {},
     "output_type": "execute_result"
    }
   ],
   "source": [
    "list(sorted(zip(multilabel_binarizer.classes_, prediction), key= lambda x: x[1], reverse=True))[0:10]"
   ]
  },
  {
   "cell_type": "markdown",
   "metadata": {},
   "source": [
    "# Test on ELF Data"
   ]
  },
  {
   "cell_type": "code",
   "execution_count": 309,
   "metadata": {},
   "outputs": [],
   "source": [
    "data_test_questions = sequences_from_list_of_text([contrib[\"question\"] for contrib in elf_data_2])\n",
    "data_test_answers = sequences_from_list_of_text([contrib[\"answer\"] for contrib in elf_data_2])\n",
    "data_test_tags = [contrib[\"target\"] for contrib in elf_data_2]"
   ]
  },
  {
   "cell_type": "code",
   "execution_count": 322,
   "metadata": {},
   "outputs": [
    {
     "data": {
      "text/plain": [
       "6211"
      ]
     },
     "execution_count": 322,
     "metadata": {},
     "output_type": "execute_result"
    }
   ],
   "source": [
    "len(data_test_questions)"
   ]
  },
  {
   "cell_type": "code",
   "execution_count": 310,
   "metadata": {},
   "outputs": [],
   "source": [
    "prediction_elf = model.predict([data_test_questions, data_test_answers])"
   ]
  },
  {
   "cell_type": "code",
   "execution_count": 311,
   "metadata": {},
   "outputs": [],
   "source": [
    "data_to_send = []\n",
    "\n",
    "for prediction_vector, data_tmp in zip(prediction_elf, to_test.to_dict(orient=\"records\")):\n",
    "    clean_prediction = list(sorted(zip(multilabel_binarizer.classes_, prediction_vector), key= lambda x: x[1], reverse=True))[0:10]\n",
    "    for pred in clean_prediction:\n",
    "        data_to_send.append({\n",
    "            \"predicted_tag\":pred[0],\n",
    "            \"score\":pred[1], \n",
    "            \"tags\":data_tmp[\"tag\"], \n",
    "            \"answer\":data_tmp[\"corpus\"], \n",
    "            \"question\":data_tmp['question_elf'], \n",
    "            \"question_id\":data_tmp['question'],\n",
    "            \"contribution\":data_tmp['contribution'],\n",
    "        })\n",
    "        "
   ]
  },
  {
   "cell_type": "code",
   "execution_count": 312,
   "metadata": {},
   "outputs": [],
   "source": [
    "df_results = pd.DataFrame(data_to_send)"
   ]
  },
  {
   "cell_type": "markdown",
   "metadata": {},
   "source": [
    "## Filter on ELF tags"
   ]
  },
  {
   "cell_type": "code",
   "execution_count": 314,
   "metadata": {},
   "outputs": [],
   "source": [
    "df_elf_tags = pd.read_csv(\"./data/elf_tags.csv\", sep=\";\")"
   ]
  },
  {
   "cell_type": "code",
   "execution_count": 319,
   "metadata": {},
   "outputs": [
    {
     "data": {
      "text/html": [
       "<div>\n",
       "<style scoped>\n",
       "    .dataframe tbody tr th:only-of-type {\n",
       "        vertical-align: middle;\n",
       "    }\n",
       "\n",
       "    .dataframe tbody tr th {\n",
       "        vertical-align: top;\n",
       "    }\n",
       "\n",
       "    .dataframe thead th {\n",
       "        text-align: right;\n",
       "    }\n",
       "</style>\n",
       "<table border=\"1\" class=\"dataframe\">\n",
       "  <thead>\n",
       "    <tr style=\"text-align: right;\">\n",
       "      <th></th>\n",
       "      <th>answer</th>\n",
       "      <th>contribution</th>\n",
       "      <th>predicted_tag</th>\n",
       "      <th>question</th>\n",
       "      <th>question_id</th>\n",
       "      <th>score</th>\n",
       "      <th>tags</th>\n",
       "    </tr>\n",
       "  </thead>\n",
       "  <tbody>\n",
       "    <tr>\n",
       "      <th>0</th>\n",
       "      <td>Réfléchir à un vrai programme d'Education à la...</td>\n",
       "      <td>281</td>\n",
       "      <td>Arrêt lobbying</td>\n",
       "      <td>Quelles sont les discriminations les plus répa...</td>\n",
       "      <td>DC12</td>\n",
       "      <td>0.258730</td>\n",
       "      <td>{éduquer / former au vivre ensemble dès le plu...</td>\n",
       "    </tr>\n",
       "    <tr>\n",
       "      <th>1</th>\n",
       "      <td>Réfléchir à un vrai programme d'Education à la...</td>\n",
       "      <td>281</td>\n",
       "      <td>Mobilisation citoyenne</td>\n",
       "      <td>Quelles sont les discriminations les plus répa...</td>\n",
       "      <td>DC12</td>\n",
       "      <td>0.239269</td>\n",
       "      <td>{éduquer / former au vivre ensemble dès le plu...</td>\n",
       "    </tr>\n",
       "    <tr>\n",
       "      <th>2</th>\n",
       "      <td>Réfléchir à un vrai programme d'Education à la...</td>\n",
       "      <td>281</td>\n",
       "      <td>Exemplarité des politiques</td>\n",
       "      <td>Quelles sont les discriminations les plus répa...</td>\n",
       "      <td>DC12</td>\n",
       "      <td>0.182854</td>\n",
       "      <td>{éduquer / former au vivre ensemble dès le plu...</td>\n",
       "    </tr>\n",
       "    <tr>\n",
       "      <th>3</th>\n",
       "      <td>Réfléchir à un vrai programme d'Education à la...</td>\n",
       "      <td>281</td>\n",
       "      <td>Faire de la transition la priorité nationale</td>\n",
       "      <td>Quelles sont les discriminations les plus répa...</td>\n",
       "      <td>DC12</td>\n",
       "      <td>0.070139</td>\n",
       "      <td>{éduquer / former au vivre ensemble dès le plu...</td>\n",
       "    </tr>\n",
       "    <tr>\n",
       "      <th>4</th>\n",
       "      <td>Réfléchir à un vrai programme d'Education à la...</td>\n",
       "      <td>281</td>\n",
       "      <td>Favoriser le nucléaire</td>\n",
       "      <td>Quelles sont les discriminations les plus répa...</td>\n",
       "      <td>DC12</td>\n",
       "      <td>0.041222</td>\n",
       "      <td>{éduquer / former au vivre ensemble dès le plu...</td>\n",
       "    </tr>\n",
       "  </tbody>\n",
       "</table>\n",
       "</div>"
      ],
      "text/plain": [
       "                                              answer  contribution  \\\n",
       "0  Réfléchir à un vrai programme d'Education à la...           281   \n",
       "1  Réfléchir à un vrai programme d'Education à la...           281   \n",
       "2  Réfléchir à un vrai programme d'Education à la...           281   \n",
       "3  Réfléchir à un vrai programme d'Education à la...           281   \n",
       "4  Réfléchir à un vrai programme d'Education à la...           281   \n",
       "\n",
       "                                  predicted_tag  \\\n",
       "0                                Arrêt lobbying   \n",
       "1                        Mobilisation citoyenne   \n",
       "2                    Exemplarité des politiques   \n",
       "3  Faire de la transition la priorité nationale   \n",
       "4                        Favoriser le nucléaire   \n",
       "\n",
       "                                            question question_id     score  \\\n",
       "0  Quelles sont les discriminations les plus répa...        DC12  0.258730   \n",
       "1  Quelles sont les discriminations les plus répa...        DC12  0.239269   \n",
       "2  Quelles sont les discriminations les plus répa...        DC12  0.182854   \n",
       "3  Quelles sont les discriminations les plus répa...        DC12  0.070139   \n",
       "4  Quelles sont les discriminations les plus répa...        DC12  0.041222   \n",
       "\n",
       "                                                tags  \n",
       "0  {éduquer / former au vivre ensemble dès le plu...  \n",
       "1  {éduquer / former au vivre ensemble dès le plu...  \n",
       "2  {éduquer / former au vivre ensemble dès le plu...  \n",
       "3  {éduquer / former au vivre ensemble dès le plu...  \n",
       "4  {éduquer / former au vivre ensemble dès le plu...  "
      ]
     },
     "execution_count": 319,
     "metadata": {},
     "output_type": "execute_result"
    }
   ],
   "source": [
    "df_results.head()"
   ]
  },
  {
   "cell_type": "code",
   "execution_count": 321,
   "metadata": {},
   "outputs": [],
   "source": [
    "df_results[df_results.predicted_tag.isin(df_elf_tags.tag)].to_csv(\"./validation_elf_tags.csv\", sep=\";\")"
   ]
  },
  {
   "cell_type": "code",
   "execution_count": 316,
   "metadata": {},
   "outputs": [
    {
     "data": {
      "text/html": [
       "<div>\n",
       "<style scoped>\n",
       "    .dataframe tbody tr th:only-of-type {\n",
       "        vertical-align: middle;\n",
       "    }\n",
       "\n",
       "    .dataframe tbody tr th {\n",
       "        vertical-align: top;\n",
       "    }\n",
       "\n",
       "    .dataframe thead th {\n",
       "        text-align: right;\n",
       "    }\n",
       "</style>\n",
       "<table border=\"1\" class=\"dataframe\">\n",
       "  <thead>\n",
       "    <tr style=\"text-align: right;\">\n",
       "      <th></th>\n",
       "      <th>question_id</th>\n",
       "      <th>tag</th>\n",
       "    </tr>\n",
       "  </thead>\n",
       "  <tbody>\n",
       "    <tr>\n",
       "      <th>0</th>\n",
       "      <td>DC11</td>\n",
       "      <td>instauration R.I.C.</td>\n",
       "    </tr>\n",
       "    <tr>\n",
       "      <th>1</th>\n",
       "      <td>DC11</td>\n",
       "      <td>meilleure information sur les enjeux et les ca...</td>\n",
       "    </tr>\n",
       "    <tr>\n",
       "      <th>2</th>\n",
       "      <td>DC11</td>\n",
       "      <td>vote obligatoire</td>\n",
       "    </tr>\n",
       "    <tr>\n",
       "      <th>3</th>\n",
       "      <td>DC11</td>\n",
       "      <td>plus d’exemplarité des dirigeants politiques</td>\n",
       "    </tr>\n",
       "    <tr>\n",
       "      <th>4</th>\n",
       "      <td>DC11</td>\n",
       "      <td>éducation citoyenne de la jeunesse</td>\n",
       "    </tr>\n",
       "    <tr>\n",
       "      <th>5</th>\n",
       "      <td>DC11</td>\n",
       "      <td>plus de proximité entre le peuple et les dirig...</td>\n",
       "    </tr>\n",
       "    <tr>\n",
       "      <th>6</th>\n",
       "      <td>DC11</td>\n",
       "      <td>plus de communication sur l’importance du vote</td>\n",
       "    </tr>\n",
       "    <tr>\n",
       "      <th>7</th>\n",
       "      <td>DC11</td>\n",
       "      <td>instances citoyennes de décision (jury, tirage...</td>\n",
       "    </tr>\n",
       "    <tr>\n",
       "      <th>8</th>\n",
       "      <td>DC11</td>\n",
       "      <td>respect des engagements des dirigeants politiques</td>\n",
       "    </tr>\n",
       "    <tr>\n",
       "      <th>9</th>\n",
       "      <td>DC11</td>\n",
       "      <td>respect résultats référendum</td>\n",
       "    </tr>\n",
       "    <tr>\n",
       "      <th>10</th>\n",
       "      <td>DC11</td>\n",
       "      <td>meilleure information sur les modalités pratiq...</td>\n",
       "    </tr>\n",
       "    <tr>\n",
       "      <th>11</th>\n",
       "      <td>DC11</td>\n",
       "      <td>vote à 16 ans</td>\n",
       "    </tr>\n",
       "    <tr>\n",
       "      <th>12</th>\n",
       "      <td>DC11</td>\n",
       "      <td>plus de débats à l’échelle locale</td>\n",
       "    </tr>\n",
       "    <tr>\n",
       "      <th>13</th>\n",
       "      <td>DC11</td>\n",
       "      <td>vote en semaine</td>\n",
       "    </tr>\n",
       "    <tr>\n",
       "      <th>14</th>\n",
       "      <td>DC11</td>\n",
       "      <td>vote via nouvelles technologies (internet, SMS...</td>\n",
       "    </tr>\n",
       "    <tr>\n",
       "      <th>15</th>\n",
       "      <td>DC11</td>\n",
       "      <td>plus de référendums</td>\n",
       "    </tr>\n",
       "    <tr>\n",
       "      <th>16</th>\n",
       "      <td>DC11</td>\n",
       "      <td>prise en compte du vote blanc</td>\n",
       "    </tr>\n",
       "    <tr>\n",
       "      <th>17</th>\n",
       "      <td>DC11</td>\n",
       "      <td>nouveau mode de scrutin (proportionnelle, etc.)</td>\n",
       "    </tr>\n",
       "    <tr>\n",
       "      <th>18</th>\n",
       "      <td>DC12</td>\n",
       "      <td>investir dans les quartiers sensibles</td>\n",
       "    </tr>\n",
       "    <tr>\n",
       "      <th>19</th>\n",
       "      <td>DC12</td>\n",
       "      <td>éduquer / former au vivre ensemble dès le plus...</td>\n",
       "    </tr>\n",
       "    <tr>\n",
       "      <th>20</th>\n",
       "      <td>DC12</td>\n",
       "      <td>anti-blanc/ anti-français</td>\n",
       "    </tr>\n",
       "    <tr>\n",
       "      <th>21</th>\n",
       "      <td>DC12</td>\n",
       "      <td>plus de possibilité de participation citoyenne</td>\n",
       "    </tr>\n",
       "    <tr>\n",
       "      <th>22</th>\n",
       "      <td>DC12</td>\n",
       "      <td>harcèlement scolaire</td>\n",
       "    </tr>\n",
       "    <tr>\n",
       "      <th>23</th>\n",
       "      <td>DC12</td>\n",
       "      <td>service civique/ militaire</td>\n",
       "    </tr>\n",
       "    <tr>\n",
       "      <th>24</th>\n",
       "      <td>DC12</td>\n",
       "      <td>homophobie, transphobie, LGBTphobie</td>\n",
       "    </tr>\n",
       "    <tr>\n",
       "      <th>25</th>\n",
       "      <td>DC12</td>\n",
       "      <td>augmenter les aides aux associations</td>\n",
       "    </tr>\n",
       "    <tr>\n",
       "      <th>26</th>\n",
       "      <td>DC12</td>\n",
       "      <td>physique, apparence</td>\n",
       "    </tr>\n",
       "    <tr>\n",
       "      <th>27</th>\n",
       "      <td>DC12</td>\n",
       "      <td>plus de formation et de réinsertion</td>\n",
       "    </tr>\n",
       "    <tr>\n",
       "      <th>28</th>\n",
       "      <td>DC12</td>\n",
       "      <td>discriminations de classe / inégalités sociales</td>\n",
       "    </tr>\n",
       "    <tr>\n",
       "      <th>29</th>\n",
       "      <td>DC12</td>\n",
       "      <td>lutter contre les fake news</td>\n",
       "    </tr>\n",
       "    <tr>\n",
       "      <th>...</th>\n",
       "      <td>...</td>\n",
       "      <td>...</td>\n",
       "    </tr>\n",
       "    <tr>\n",
       "      <th>240</th>\n",
       "      <td>TE12</td>\n",
       "      <td>Taxer les produits et services non écolo</td>\n",
       "    </tr>\n",
       "    <tr>\n",
       "      <th>241</th>\n",
       "      <td>TE12</td>\n",
       "      <td>Qu'État et industries donnent l'exemple</td>\n",
       "    </tr>\n",
       "    <tr>\n",
       "      <th>242</th>\n",
       "      <td>TE12</td>\n",
       "      <td>Rien, je fais déjà le max</td>\n",
       "    </tr>\n",
       "    <tr>\n",
       "      <th>243</th>\n",
       "      <td>TE13</td>\n",
       "      <td>Incitations financières au lieu de taxes</td>\n",
       "    </tr>\n",
       "    <tr>\n",
       "      <th>244</th>\n",
       "      <td>TE13</td>\n",
       "      <td>Développer les énergies renouvelables</td>\n",
       "    </tr>\n",
       "    <tr>\n",
       "      <th>245</th>\n",
       "      <td>TE13</td>\n",
       "      <td>Préservation de la biodiversité</td>\n",
       "    </tr>\n",
       "    <tr>\n",
       "      <th>246</th>\n",
       "      <td>TE13</td>\n",
       "      <td>Changement des modes de production</td>\n",
       "    </tr>\n",
       "    <tr>\n",
       "      <th>247</th>\n",
       "      <td>TE13</td>\n",
       "      <td>Limitation emballages plastique</td>\n",
       "    </tr>\n",
       "    <tr>\n",
       "      <th>248</th>\n",
       "      <td>TE13</td>\n",
       "      <td>Exemplarité des politiques</td>\n",
       "    </tr>\n",
       "    <tr>\n",
       "      <th>249</th>\n",
       "      <td>TE13</td>\n",
       "      <td>Colère</td>\n",
       "    </tr>\n",
       "    <tr>\n",
       "      <th>250</th>\n",
       "      <td>TE13</td>\n",
       "      <td>Plus de recyclage</td>\n",
       "    </tr>\n",
       "    <tr>\n",
       "      <th>251</th>\n",
       "      <td>TE13</td>\n",
       "      <td>Plus d'éducation</td>\n",
       "    </tr>\n",
       "    <tr>\n",
       "      <th>252</th>\n",
       "      <td>TE13</td>\n",
       "      <td>Assurer une qualité de vie minimum pour tous</td>\n",
       "    </tr>\n",
       "    <tr>\n",
       "      <th>253</th>\n",
       "      <td>TE13</td>\n",
       "      <td>Le peuple pas responsable du problème écologique</td>\n",
       "    </tr>\n",
       "    <tr>\n",
       "      <th>254</th>\n",
       "      <td>TE13</td>\n",
       "      <td>Taxe sur les plus gros pollueurs</td>\n",
       "    </tr>\n",
       "    <tr>\n",
       "      <th>255</th>\n",
       "      <td>TE13</td>\n",
       "      <td>Limitation éclairage</td>\n",
       "    </tr>\n",
       "    <tr>\n",
       "      <th>256</th>\n",
       "      <td>TE13</td>\n",
       "      <td>Arrêter le nucléaire</td>\n",
       "    </tr>\n",
       "    <tr>\n",
       "      <th>257</th>\n",
       "      <td>TE13</td>\n",
       "      <td>Lois et accords commerciaux plus restrictifs</td>\n",
       "    </tr>\n",
       "    <tr>\n",
       "      <th>258</th>\n",
       "      <td>TE13</td>\n",
       "      <td>Développement des transports en commun</td>\n",
       "    </tr>\n",
       "    <tr>\n",
       "      <th>259</th>\n",
       "      <td>TE13</td>\n",
       "      <td>Développement voiture électrique</td>\n",
       "    </tr>\n",
       "    <tr>\n",
       "      <th>260</th>\n",
       "      <td>TE13</td>\n",
       "      <td>Favoriser le nucléaire</td>\n",
       "    </tr>\n",
       "    <tr>\n",
       "      <th>261</th>\n",
       "      <td>TE13</td>\n",
       "      <td>Faire de la transition la priorité nationale</td>\n",
       "    </tr>\n",
       "    <tr>\n",
       "      <th>262</th>\n",
       "      <td>TE13</td>\n",
       "      <td>Arrêt voiture électrique</td>\n",
       "    </tr>\n",
       "    <tr>\n",
       "      <th>263</th>\n",
       "      <td>TE13</td>\n",
       "      <td>Arrêt lobbying</td>\n",
       "    </tr>\n",
       "    <tr>\n",
       "      <th>264</th>\n",
       "      <td>TE13</td>\n",
       "      <td>Amélioration logements</td>\n",
       "    </tr>\n",
       "    <tr>\n",
       "      <th>265</th>\n",
       "      <td>TE13</td>\n",
       "      <td>Agriculture raisonnée, bio, circuits courts</td>\n",
       "    </tr>\n",
       "    <tr>\n",
       "      <th>266</th>\n",
       "      <td>TE13</td>\n",
       "      <td>Végétalisation</td>\n",
       "    </tr>\n",
       "    <tr>\n",
       "      <th>267</th>\n",
       "      <td>TE13</td>\n",
       "      <td>Changement mode de consommation</td>\n",
       "    </tr>\n",
       "    <tr>\n",
       "      <th>268</th>\n",
       "      <td>TE13</td>\n",
       "      <td>Arrêt du glyphosate</td>\n",
       "    </tr>\n",
       "    <tr>\n",
       "      <th>269</th>\n",
       "      <td>TE13</td>\n",
       "      <td>Mobilisation citoyenne</td>\n",
       "    </tr>\n",
       "  </tbody>\n",
       "</table>\n",
       "<p>270 rows × 2 columns</p>\n",
       "</div>"
      ],
      "text/plain": [
       "    question_id                                                tag\n",
       "0          DC11                                instauration R.I.C.\n",
       "1          DC11  meilleure information sur les enjeux et les ca...\n",
       "2          DC11                                   vote obligatoire\n",
       "3          DC11       plus d’exemplarité des dirigeants politiques\n",
       "4          DC11                 éducation citoyenne de la jeunesse\n",
       "5          DC11  plus de proximité entre le peuple et les dirig...\n",
       "6          DC11     plus de communication sur l’importance du vote\n",
       "7          DC11  instances citoyennes de décision (jury, tirage...\n",
       "8          DC11  respect des engagements des dirigeants politiques\n",
       "9          DC11                       respect résultats référendum\n",
       "10         DC11  meilleure information sur les modalités pratiq...\n",
       "11         DC11                                      vote à 16 ans\n",
       "12         DC11                  plus de débats à l’échelle locale\n",
       "13         DC11                                    vote en semaine\n",
       "14         DC11  vote via nouvelles technologies (internet, SMS...\n",
       "15         DC11                                plus de référendums\n",
       "16         DC11                      prise en compte du vote blanc\n",
       "17         DC11    nouveau mode de scrutin (proportionnelle, etc.)\n",
       "18         DC12              investir dans les quartiers sensibles\n",
       "19         DC12  éduquer / former au vivre ensemble dès le plus...\n",
       "20         DC12                          anti-blanc/ anti-français\n",
       "21         DC12     plus de possibilité de participation citoyenne\n",
       "22         DC12                               harcèlement scolaire\n",
       "23         DC12                         service civique/ militaire\n",
       "24         DC12                homophobie, transphobie, LGBTphobie\n",
       "25         DC12               augmenter les aides aux associations\n",
       "26         DC12                                physique, apparence\n",
       "27         DC12                plus de formation et de réinsertion\n",
       "28         DC12    discriminations de classe / inégalités sociales\n",
       "29         DC12                        lutter contre les fake news\n",
       "..          ...                                                ...\n",
       "240        TE12           Taxer les produits et services non écolo\n",
       "241        TE12            Qu'État et industries donnent l'exemple\n",
       "242        TE12                          Rien, je fais déjà le max\n",
       "243        TE13           Incitations financières au lieu de taxes\n",
       "244        TE13              Développer les énergies renouvelables\n",
       "245        TE13                    Préservation de la biodiversité\n",
       "246        TE13                 Changement des modes de production\n",
       "247        TE13                    Limitation emballages plastique\n",
       "248        TE13                         Exemplarité des politiques\n",
       "249        TE13                                             Colère\n",
       "250        TE13                                  Plus de recyclage\n",
       "251        TE13                                   Plus d'éducation\n",
       "252        TE13       Assurer une qualité de vie minimum pour tous\n",
       "253        TE13   Le peuple pas responsable du problème écologique\n",
       "254        TE13                   Taxe sur les plus gros pollueurs\n",
       "255        TE13                               Limitation éclairage\n",
       "256        TE13                               Arrêter le nucléaire\n",
       "257        TE13       Lois et accords commerciaux plus restrictifs\n",
       "258        TE13             Développement des transports en commun\n",
       "259        TE13                   Développement voiture électrique\n",
       "260        TE13                             Favoriser le nucléaire\n",
       "261        TE13       Faire de la transition la priorité nationale\n",
       "262        TE13                           Arrêt voiture électrique\n",
       "263        TE13                                     Arrêt lobbying\n",
       "264        TE13                             Amélioration logements\n",
       "265        TE13        Agriculture raisonnée, bio, circuits courts\n",
       "266        TE13                                     Végétalisation\n",
       "267        TE13                    Changement mode de consommation\n",
       "268        TE13                                Arrêt du glyphosate\n",
       "269        TE13                             Mobilisation citoyenne\n",
       "\n",
       "[270 rows x 2 columns]"
      ]
     },
     "execution_count": 316,
     "metadata": {},
     "output_type": "execute_result"
    }
   ],
   "source": [
    "df_elf_tags"
   ]
  },
  {
   "cell_type": "markdown",
   "metadata": {},
   "source": [
    "# Optimisations"
   ]
  },
  {
   "cell_type": "code",
   "execution_count": 180,
   "metadata": {},
   "outputs": [],
   "source": [
    "params = {\n",
    "    'OPTIMIZER': ['Nadam', 'Adam'],\n",
    "    'EMBEDDING_SIZE': [20, 50, 100],\n",
    "    'KERNEL_SIZE': [2, 3],\n",
    "    'FILTER_SIZE': [100, 200, 300],\n",
    "    \"ACTIVATION_TYPE\": [\"sigmoid\", \"softmax\"]\n",
    "}\n",
    "\n",
    "def build_model(x_train, y_train, x_val, y_val, params):\n",
    "\n",
    "        model = Sequential()\n",
    "        model.add(Embedding(MAX_WORDS, params[\"EMBEDDING_SIZE\"], input_length=MAX_LENGTH))\n",
    "        model.add(Dropout(0.1))\n",
    "        model.add(Conv1D(params[\"FILTER_SIZE\"], params[\"KERNEL_SIZE\"], padding='valid', activation='relu', strides=1))\n",
    "        model.add(GlobalMaxPool1D())\n",
    "        model.add(Dense(len(classes)))\n",
    "        model.add(Activation(params[\"ACTIVATION_TYPE\"]))\n",
    "        \n",
    "        model.compile(optimizer=params[\"OPTIMIZER\"], loss='binary_crossentropy', metrics=['categorical_accuracy'])\n",
    "\n",
    "        callbacks = [\n",
    "            ReduceLROnPlateau(),\n",
    "            EarlyStopping(patience=4),\n",
    "            ModelCheckpoint(filepath='model-conv1d.h5', save_best_only=True)\n",
    "        ]\n",
    "        \n",
    "        out = model.fit(x_train,\n",
    "                        y_train,\n",
    "                        epochs=20,\n",
    "                        batch_size=32,\n",
    "                        validation_split=0.1,\n",
    "                        callbacks=callbacks)\n",
    "\n",
    "        return out, model\n"
   ]
  },
  {
   "cell_type": "code",
   "execution_count": 181,
   "metadata": {
    "scrolled": false
   },
   "outputs": [
    {
     "name": "stderr",
     "output_type": "stream",
     "text": [
      "\n",
      "  0%|          | 0/7 [00:00<?, ?it/s]\u001b[A"
     ]
    },
    {
     "name": "stdout",
     "output_type": "stream",
     "text": [
      "Train on 79186 samples, validate on 8799 samples\n",
      "Epoch 1/20\n",
      "79186/79186 [==============================] - 23s 285us/step - loss: 0.0228 - categorical_accuracy: 0.4041 - val_loss: 0.0178 - val_categorical_accuracy: 0.5547\n",
      "Epoch 2/20\n",
      "79186/79186 [==============================] - 21s 270us/step - loss: 0.0168 - categorical_accuracy: 0.5531 - val_loss: 0.0160 - val_categorical_accuracy: 0.5930\n",
      "Epoch 3/20\n",
      "79186/79186 [==============================] - 21s 270us/step - loss: 0.0155 - categorical_accuracy: 0.5764 - val_loss: 0.0155 - val_categorical_accuracy: 0.6015\n",
      "Epoch 4/20\n",
      "79186/79186 [==============================] - 21s 270us/step - loss: 0.0148 - categorical_accuracy: 0.5901 - val_loss: 0.0150 - val_categorical_accuracy: 0.6152\n",
      "Epoch 5/20\n",
      "79186/79186 [==============================] - 21s 271us/step - loss: 0.0143 - categorical_accuracy: 0.5989 - val_loss: 0.0148 - val_categorical_accuracy: 0.6076\n",
      "Epoch 6/20\n",
      "79186/79186 [==============================] - 21s 271us/step - loss: 0.0139 - categorical_accuracy: 0.6038 - val_loss: 0.0148 - val_categorical_accuracy: 0.6003\n",
      "Epoch 7/20\n",
      "79186/79186 [==============================] - 21s 270us/step - loss: 0.0137 - categorical_accuracy: 0.6076 - val_loss: 0.0147 - val_categorical_accuracy: 0.6277\n",
      "Epoch 8/20\n",
      "79186/79186 [==============================] - 21s 271us/step - loss: 0.0134 - categorical_accuracy: 0.6100 - val_loss: 0.0147 - val_categorical_accuracy: 0.5992\n",
      "Epoch 9/20\n",
      "79186/79186 [==============================] - 21s 270us/step - loss: 0.0132 - categorical_accuracy: 0.6142 - val_loss: 0.0146 - val_categorical_accuracy: 0.5962\n",
      "Epoch 10/20\n",
      "79186/79186 [==============================] - 21s 271us/step - loss: 0.0130 - categorical_accuracy: 0.6149 - val_loss: 0.0147 - val_categorical_accuracy: 0.5997\n",
      "Epoch 11/20\n",
      "79186/79186 [==============================] - 21s 271us/step - loss: 0.0128 - categorical_accuracy: 0.6183 - val_loss: 0.0148 - val_categorical_accuracy: 0.6050\n",
      "Epoch 12/20\n",
      "79186/79186 [==============================] - 21s 270us/step - loss: 0.0127 - categorical_accuracy: 0.6199 - val_loss: 0.0147 - val_categorical_accuracy: 0.5950\n",
      "Epoch 13/20\n",
      "79186/79186 [==============================] - 21s 271us/step - loss: 0.0126 - categorical_accuracy: 0.6226 - val_loss: 0.0148 - val_categorical_accuracy: 0.5850\n"
     ]
    },
    {
     "name": "stderr",
     "output_type": "stream",
     "text": [
      "\n",
      " 14%|█▍        | 1/7 [04:41<28:07, 281.23s/it]\u001b[A"
     ]
    },
    {
     "name": "stdout",
     "output_type": "stream",
     "text": [
      "Train on 79186 samples, validate on 8799 samples\n",
      "Epoch 1/20\n",
      "79186/79186 [==============================] - 32s 403us/step - loss: 0.0318 - categorical_accuracy: 0.2977 - val_loss: 0.0194 - val_categorical_accuracy: 0.4664\n",
      "Epoch 2/20\n",
      "79186/79186 [==============================] - 32s 400us/step - loss: 0.0176 - categorical_accuracy: 0.4941 - val_loss: 0.0170 - val_categorical_accuracy: 0.5249\n",
      "Epoch 3/20\n",
      "79186/79186 [==============================] - 32s 399us/step - loss: 0.0155 - categorical_accuracy: 0.5361 - val_loss: 0.0154 - val_categorical_accuracy: 0.5432\n",
      "Epoch 4/20\n",
      "79186/79186 [==============================] - 32s 400us/step - loss: 0.0143 - categorical_accuracy: 0.5614 - val_loss: 0.0149 - val_categorical_accuracy: 0.5765\n",
      "Epoch 5/20\n",
      "79186/79186 [==============================] - 32s 400us/step - loss: 0.0136 - categorical_accuracy: 0.5758 - val_loss: 0.0157 - val_categorical_accuracy: 0.5990\n",
      "Epoch 6/20\n",
      "79186/79186 [==============================] - 32s 400us/step - loss: 0.0129 - categorical_accuracy: 0.5864 - val_loss: 0.0140 - val_categorical_accuracy: 0.5862\n",
      "Epoch 7/20\n",
      "79186/79186 [==============================] - 32s 400us/step - loss: 0.0124 - categorical_accuracy: 0.5946 - val_loss: 0.0138 - val_categorical_accuracy: 0.5917\n",
      "Epoch 8/20\n",
      "79186/79186 [==============================] - 32s 404us/step - loss: 0.0120 - categorical_accuracy: 0.5997 - val_loss: 0.0141 - val_categorical_accuracy: 0.5954\n",
      "Epoch 9/20\n",
      "79186/79186 [==============================] - 32s 408us/step - loss: 0.0117 - categorical_accuracy: 0.6070 - val_loss: 0.0148 - val_categorical_accuracy: 0.6011\n",
      "Epoch 10/20\n",
      "79186/79186 [==============================] - 32s 402us/step - loss: 0.0113 - categorical_accuracy: 0.6117 - val_loss: 0.0142 - val_categorical_accuracy: 0.6254\n",
      "Epoch 11/20\n",
      "79186/79186 [==============================] - 32s 401us/step - loss: 0.0110 - categorical_accuracy: 0.6169 - val_loss: 0.0145 - val_categorical_accuracy: 0.6031\n"
     ]
    },
    {
     "name": "stderr",
     "output_type": "stream",
     "text": [
      "\n",
      " 29%|██▊       | 2/7 [10:32<25:10, 302.13s/it]\u001b[A"
     ]
    },
    {
     "name": "stdout",
     "output_type": "stream",
     "text": [
      "Train on 79186 samples, validate on 8799 samples\n",
      "Epoch 1/20\n",
      "79186/79186 [==============================] - 19s 236us/step - loss: 0.0304 - categorical_accuracy: 0.2745 - val_loss: 0.0221 - val_categorical_accuracy: 0.4504\n",
      "Epoch 2/20\n",
      "79186/79186 [==============================] - 18s 233us/step - loss: 0.0192 - categorical_accuracy: 0.4742 - val_loss: 0.0204 - val_categorical_accuracy: 0.5057\n",
      "Epoch 3/20\n",
      "79186/79186 [==============================] - 18s 233us/step - loss: 0.0165 - categorical_accuracy: 0.5276 - val_loss: 0.0186 - val_categorical_accuracy: 0.5576\n",
      "Epoch 4/20\n",
      "79186/79186 [==============================] - 18s 233us/step - loss: 0.0149 - categorical_accuracy: 0.5563 - val_loss: 0.0183 - val_categorical_accuracy: 0.5687\n",
      "Epoch 5/20\n",
      "79186/79186 [==============================] - 18s 232us/step - loss: 0.0140 - categorical_accuracy: 0.5739 - val_loss: 0.0207 - val_categorical_accuracy: 0.6072\n",
      "Epoch 6/20\n",
      "79186/79186 [==============================] - 19s 234us/step - loss: 0.0134 - categorical_accuracy: 0.5828 - val_loss: 0.0194 - val_categorical_accuracy: 0.6093\n",
      "Epoch 7/20\n",
      "79186/79186 [==============================] - 19s 238us/step - loss: 0.0129 - categorical_accuracy: 0.5906 - val_loss: 0.0179 - val_categorical_accuracy: 0.6078\n",
      "Epoch 8/20\n",
      "79186/79186 [==============================] - 19s 238us/step - loss: 0.0125 - categorical_accuracy: 0.5948 - val_loss: 0.0188 - val_categorical_accuracy: 0.6072\n",
      "Epoch 9/20\n",
      "79186/79186 [==============================] - 20s 254us/step - loss: 0.0122 - categorical_accuracy: 0.6019 - val_loss: 0.0200 - val_categorical_accuracy: 0.6011\n",
      "Epoch 10/20\n",
      "79186/79186 [==============================] - 19s 235us/step - loss: 0.0119 - categorical_accuracy: 0.6066 - val_loss: 0.0202 - val_categorical_accuracy: 0.6047\n",
      "Epoch 11/20\n",
      "79186/79186 [==============================] - 18s 233us/step - loss: 0.0117 - categorical_accuracy: 0.6089 - val_loss: 0.0210 - val_categorical_accuracy: 0.6213\n"
     ]
    },
    {
     "name": "stderr",
     "output_type": "stream",
     "text": [
      "\n",
      " 43%|████▎     | 3/7 [13:58<18:13, 273.37s/it]\u001b[A"
     ]
    },
    {
     "name": "stdout",
     "output_type": "stream",
     "text": [
      "Train on 79186 samples, validate on 8799 samples\n",
      "Epoch 1/20\n",
      "79186/79186 [==============================] - 30s 375us/step - loss: 0.0261 - categorical_accuracy: 0.3614 - val_loss: 0.0183 - val_categorical_accuracy: 0.5001\n",
      "Epoch 2/20\n",
      "79186/79186 [==============================] - 31s 388us/step - loss: 0.0160 - categorical_accuracy: 0.5333 - val_loss: 0.0168 - val_categorical_accuracy: 0.5807\n",
      "Epoch 3/20\n",
      "79186/79186 [==============================] - 30s 375us/step - loss: 0.0140 - categorical_accuracy: 0.5725 - val_loss: 0.0159 - val_categorical_accuracy: 0.5848\n",
      "Epoch 4/20\n",
      "79186/79186 [==============================] - 29s 371us/step - loss: 0.0129 - categorical_accuracy: 0.5923 - val_loss: 0.0150 - val_categorical_accuracy: 0.5953\n",
      "Epoch 5/20\n",
      "79186/79186 [==============================] - 30s 375us/step - loss: 0.0122 - categorical_accuracy: 0.6046 - val_loss: 0.0162 - val_categorical_accuracy: 0.6201\n",
      "Epoch 6/20\n",
      "79186/79186 [==============================] - 31s 387us/step - loss: 0.0117 - categorical_accuracy: 0.6121 - val_loss: 0.0158 - val_categorical_accuracy: 0.6030\n",
      "Epoch 7/20\n",
      "79186/79186 [==============================] - 29s 369us/step - loss: 0.0113 - categorical_accuracy: 0.6162 - val_loss: 0.0152 - val_categorical_accuracy: 0.6113\n",
      "Epoch 8/20\n",
      "79186/79186 [==============================] - 29s 368us/step - loss: 0.0110 - categorical_accuracy: 0.6240 - val_loss: 0.0149 - val_categorical_accuracy: 0.6319\n",
      "Epoch 9/20\n",
      "79186/79186 [==============================] - 29s 368us/step - loss: 0.0106 - categorical_accuracy: 0.6276 - val_loss: 0.0157 - val_categorical_accuracy: 0.6331\n",
      "Epoch 10/20\n",
      "79186/79186 [==============================] - 29s 368us/step - loss: 0.0103 - categorical_accuracy: 0.6299 - val_loss: 0.0144 - val_categorical_accuracy: 0.6254\n",
      "Epoch 11/20\n",
      "79186/79186 [==============================] - 29s 369us/step - loss: 0.0101 - categorical_accuracy: 0.6331 - val_loss: 0.0156 - val_categorical_accuracy: 0.6254\n",
      "Epoch 12/20\n",
      "79186/79186 [==============================] - 29s 369us/step - loss: 0.0099 - categorical_accuracy: 0.6347 - val_loss: 0.0163 - val_categorical_accuracy: 0.6031\n",
      "Epoch 13/20\n",
      "79186/79186 [==============================] - 29s 369us/step - loss: 0.0097 - categorical_accuracy: 0.6380 - val_loss: 0.0154 - val_categorical_accuracy: 0.6083\n",
      "Epoch 14/20\n",
      "79186/79186 [==============================] - 29s 368us/step - loss: 0.0095 - categorical_accuracy: 0.6394 - val_loss: 0.0149 - val_categorical_accuracy: 0.6098\n"
     ]
    },
    {
     "name": "stderr",
     "output_type": "stream",
     "text": [
      "\n",
      " 57%|█████▋    | 4/7 [20:52<15:46, 315.55s/it]\u001b[A"
     ]
    },
    {
     "name": "stdout",
     "output_type": "stream",
     "text": [
      "Train on 79186 samples, validate on 8799 samples\n",
      "Epoch 1/20\n",
      "79186/79186 [==============================] - 29s 368us/step - loss: 0.0317 - categorical_accuracy: 0.2852 - val_loss: 0.0195 - val_categorical_accuracy: 0.4761\n",
      "Epoch 2/20\n",
      "79186/79186 [==============================] - 29s 366us/step - loss: 0.0176 - categorical_accuracy: 0.4977 - val_loss: 0.0164 - val_categorical_accuracy: 0.5557\n",
      "Epoch 3/20\n",
      "79186/79186 [==============================] - 29s 365us/step - loss: 0.0153 - categorical_accuracy: 0.5429 - val_loss: 0.0158 - val_categorical_accuracy: 0.5672\n",
      "Epoch 4/20\n",
      "79186/79186 [==============================] - 29s 365us/step - loss: 0.0140 - categorical_accuracy: 0.5672 - val_loss: 0.0150 - val_categorical_accuracy: 0.5818\n",
      "Epoch 5/20\n",
      "79186/79186 [==============================] - 29s 366us/step - loss: 0.0132 - categorical_accuracy: 0.5842 - val_loss: 0.0143 - val_categorical_accuracy: 0.5885\n",
      "Epoch 6/20\n",
      "79186/79186 [==============================] - 29s 366us/step - loss: 0.0126 - categorical_accuracy: 0.5949 - val_loss: 0.0154 - val_categorical_accuracy: 0.5982\n",
      "Epoch 7/20\n",
      "79186/79186 [==============================] - 31s 392us/step - loss: 0.0121 - categorical_accuracy: 0.6028 - val_loss: 0.0144 - val_categorical_accuracy: 0.6219\n",
      "Epoch 8/20\n",
      "79186/79186 [==============================] - 29s 366us/step - loss: 0.0117 - categorical_accuracy: 0.6097 - val_loss: 0.0150 - val_categorical_accuracy: 0.6040\n",
      "Epoch 9/20\n",
      "79186/79186 [==============================] - 29s 372us/step - loss: 0.0113 - categorical_accuracy: 0.6139 - val_loss: 0.0149 - val_categorical_accuracy: 0.6108\n"
     ]
    },
    {
     "name": "stderr",
     "output_type": "stream",
     "text": [
      "\n",
      " 71%|███████▏  | 5/7 [25:16<10:00, 300.01s/it]\u001b[A"
     ]
    },
    {
     "name": "stdout",
     "output_type": "stream",
     "text": [
      "Train on 79186 samples, validate on 8799 samples\n",
      "Epoch 1/20\n",
      "79186/79186 [==============================] - 80s 1ms/step - loss: 0.0239 - categorical_accuracy: 0.4183 - val_loss: 0.0185 - val_categorical_accuracy: 0.5467\n",
      "Epoch 2/20\n",
      "79186/79186 [==============================] - 94s 1ms/step - loss: 0.0154 - categorical_accuracy: 0.5497 - val_loss: 0.0180 - val_categorical_accuracy: 0.5859\n",
      "Epoch 3/20\n",
      "79186/79186 [==============================] - 94s 1ms/step - loss: 0.0140 - categorical_accuracy: 0.5768 - val_loss: 0.0175 - val_categorical_accuracy: 0.6015\n",
      "Epoch 4/20\n",
      "79186/79186 [==============================] - 92s 1ms/step - loss: 0.0130 - categorical_accuracy: 0.5917 - val_loss: 0.0193 - val_categorical_accuracy: 0.6035\n",
      "Epoch 5/20\n",
      "79186/79186 [==============================] - 94s 1ms/step - loss: 0.0124 - categorical_accuracy: 0.6033 - val_loss: 0.0202 - val_categorical_accuracy: 0.6312\n",
      "Epoch 6/20\n",
      "79186/79186 [==============================] - 93s 1ms/step - loss: 0.0119 - categorical_accuracy: 0.6088 - val_loss: 0.0191 - val_categorical_accuracy: 0.6121\n",
      "Epoch 7/20\n",
      "79186/79186 [==============================] - 93s 1ms/step - loss: 0.0115 - categorical_accuracy: 0.6142 - val_loss: 0.0213 - val_categorical_accuracy: 0.5979\n"
     ]
    },
    {
     "name": "stderr",
     "output_type": "stream",
     "text": [
      "\n",
      " 86%|████████▌ | 6/7 [35:57<06:42, 402.29s/it]\u001b[A"
     ]
    },
    {
     "name": "stdout",
     "output_type": "stream",
     "text": [
      "Train on 79186 samples, validate on 8799 samples\n",
      "Epoch 1/20\n",
      "79186/79186 [==============================] - 92s 1ms/step - loss: 0.0295 - categorical_accuracy: 0.3430 - val_loss: 0.0187 - val_categorical_accuracy: 0.5110\n",
      "Epoch 2/20\n",
      "79186/79186 [==============================] - 93s 1ms/step - loss: 0.0160 - categorical_accuracy: 0.5380 - val_loss: 0.0156 - val_categorical_accuracy: 0.5746\n",
      "Epoch 3/20\n",
      "79186/79186 [==============================] - 93s 1ms/step - loss: 0.0141 - categorical_accuracy: 0.5683 - val_loss: 0.0146 - val_categorical_accuracy: 0.6020\n",
      "Epoch 4/20\n",
      "79186/79186 [==============================] - 92s 1ms/step - loss: 0.0132 - categorical_accuracy: 0.5842 - val_loss: 0.0151 - val_categorical_accuracy: 0.5860\n",
      "Epoch 5/20\n",
      "79186/79186 [==============================] - 93s 1ms/step - loss: 0.0125 - categorical_accuracy: 0.5954 - val_loss: 0.0156 - val_categorical_accuracy: 0.5968\n",
      "Epoch 6/20\n",
      "79186/79186 [==============================] - 98s 1ms/step - loss: 0.0120 - categorical_accuracy: 0.6049 - val_loss: 0.0164 - val_categorical_accuracy: 0.6177\n",
      "Epoch 7/20\n",
      "79186/79186 [==============================] - 92s 1ms/step - loss: 0.0116 - categorical_accuracy: 0.6095 - val_loss: 0.0148 - val_categorical_accuracy: 0.6003\n"
     ]
    },
    {
     "name": "stderr",
     "output_type": "stream",
     "text": [
      "\n",
      "100%|██████████| 7/7 [46:50<00:00, 477.69s/it]\u001b[A"
     ]
    }
   ],
   "source": [
    "scan_object = talos.Scan(x, y, model=build_model, params=params, grid_downsample=0.1)\n"
   ]
  },
  {
   "cell_type": "code",
   "execution_count": 186,
   "metadata": {},
   "outputs": [
    {
     "data": {
      "text/plain": [
       "complete_time            03/11/19/16:23\n",
       "experiment_name           031119153617_\n",
       "grid_downsample                     0.1\n",
       "random_method          uniform_mersenne\n",
       "reduce_loss                       False\n",
       "reduction_interval                   50\n",
       "reduction_method                   None\n",
       "reduction_metric                val_acc\n",
       "reduction_threshold                 0.2\n",
       "reduction_window                     20\n",
       "x_shape                   (125693, 200)\n",
       "y_shape                   (125693, 307)\n",
       "dtype: object"
      ]
     },
     "execution_count": 186,
     "metadata": {},
     "output_type": "execute_result"
    }
   ],
   "source": [
    "scan_object.details"
   ]
  },
  {
   "cell_type": "code",
   "execution_count": 188,
   "metadata": {},
   "outputs": [
    {
     "data": {
      "text/plain": [
       "<keras.engine.sequential.Sequential at 0x7f26a83eb908>"
      ]
     },
     "execution_count": 188,
     "metadata": {},
     "output_type": "execute_result"
    }
   ],
   "source": [
    "scan_object.best_model(metric=\"val_categorical_accuracy\")"
   ]
  },
  {
   "cell_type": "code",
   "execution_count": 195,
   "metadata": {},
   "outputs": [],
   "source": [
    "features = get_features(\"Il suffit de cesser la destruction des services publics de proximité pour des raisons financières. De plus, ces fermetures sont imposées par l'UE, qui oblige les états a privatiser tous les services publics( poste, hôpitaux, énergie...) , accentuant le désir de rentabilité des services publics actuels.\")"
   ]
  },
  {
   "cell_type": "code",
   "execution_count": 190,
   "metadata": {},
   "outputs": [],
   "source": [
    "best_model = scan_object.best_model(metric=\"val_categorical_accuracy\")"
   ]
  },
  {
   "cell_type": "code",
   "execution_count": 193,
   "metadata": {},
   "outputs": [],
   "source": [
    "def get_prediction_tags(features):\n",
    "    return sorted(zip(classes , best_model.predict(features)[0]), key=lambda x: x[1], reverse=True)[0:10]"
   ]
  },
  {
   "cell_type": "code",
   "execution_count": 194,
   "metadata": {},
   "outputs": [
    {
     "data": {
      "text/plain": [
       "[('Z_Autres', 0.23051563),\n",
       " ('Sans_réponse_/_Hors_sujet_/_Inclassable', 0.21212253),\n",
       " ('A_Aucune', 0.10980064),\n",
       " ('A_Aucun,_ou_la_réduire', 0.0658187),\n",
       " ('A_Aucun', 0.058471948),\n",
       " ('Communes,_intercommunalités', 0.039815485),\n",
       " ('B_>_Les_4,_tout_est_lié', 0.036506474),\n",
       " ('Collectivités_locales', 0.03515768),\n",
       " ('Simple_décompte_informatif_(actuel)', 0.027210295),\n",
       " ('Compter_comme_exprimé', 0.026890397)]"
      ]
     },
     "execution_count": 194,
     "metadata": {},
     "output_type": "execute_result"
    }
   ],
   "source": [
    "get_prediction_tags(features)"
   ]
  },
  {
   "cell_type": "code",
   "execution_count": 192,
   "metadata": {},
   "outputs": [
    {
     "data": {
      "text/plain": [
       "array([2.00256705e-03, 1.95088983e-03, 2.37703323e-04, 5.95143437e-03,\n",
       "       5.84719479e-02, 6.58186972e-02, 7.00008869e-03, 1.09800637e-01,\n",
       "       1.61245465e-03, 4.67148423e-03, 1.10518932e-03, 1.48117542e-04,\n",
       "       9.97066498e-04, 8.65161419e-05, 7.77244568e-05, 4.30643559e-05,\n",
       "       3.33845615e-04, 1.47101283e-03, 8.64326954e-04, 1.01268291e-04,\n",
       "       1.37299299e-04, 7.73876905e-04, 3.45498323e-04, 1.95443630e-04,\n",
       "       2.46730447e-03, 3.74785066e-03, 7.32392073e-04, 1.40041113e-04,\n",
       "       2.44408846e-04, 2.37083435e-03, 1.33395195e-04, 1.41367316e-03,\n",
       "       6.81817532e-04, 3.53753567e-05, 4.47630882e-05, 3.65064740e-02,\n",
       "       1.26600266e-04, 2.98857689e-03, 1.72555447e-05, 4.55945730e-04,\n",
       "       4.31835651e-05, 8.83936882e-03, 2.69711018e-05, 1.44715309e-02,\n",
       "       3.61502171e-05, 6.91711903e-05, 1.79138780e-03, 3.27557325e-04,\n",
       "       3.61427665e-03, 7.78764486e-04, 3.30448151e-04, 3.51576805e-02,\n",
       "       3.98154855e-02, 2.68903971e-02, 2.17854977e-05, 7.42167234e-03,\n",
       "       5.00589609e-04, 2.00688839e-04, 2.37044692e-03, 1.15841627e-04,\n",
       "       6.57230616e-04, 4.09305096e-04, 5.54054976e-04, 1.91330910e-03,\n",
       "       5.70416451e-05, 3.76313925e-04, 6.81936741e-04, 6.89715147e-04,\n",
       "       4.29692864e-03, 7.21216202e-05, 1.24692917e-04, 3.62098217e-05,\n",
       "       9.79462266e-03, 8.30292702e-05, 8.38994980e-04, 6.50912523e-04,\n",
       "       7.39485025e-04, 9.44274664e-03, 5.48112392e-03, 5.55217266e-05,\n",
       "       4.89920378e-04, 1.19509399e-02, 2.30818987e-04, 1.48987770e-03,\n",
       "       1.48355961e-04, 2.64853239e-04, 1.52736902e-03, 1.18628144e-03,\n",
       "       1.73598528e-04, 5.32716513e-04, 3.66270542e-04, 8.00067186e-03,\n",
       "       4.23550606e-04, 1.49399042e-04, 3.60810757e-03, 1.44974291e-02,\n",
       "       2.75132060e-03, 5.59091568e-04, 7.33852386e-04, 3.49816680e-03,\n",
       "       9.85264778e-05, 5.60298562e-03, 2.95251608e-04, 9.34690237e-04,\n",
       "       5.67585230e-04, 1.62360072e-03, 3.85463238e-03, 5.71876764e-04,\n",
       "       9.03010368e-06, 9.72467661e-03, 3.07419896e-03, 2.16421485e-03,\n",
       "       3.30150127e-04, 2.22027302e-05, 4.66704369e-05, 1.78515911e-03,\n",
       "       1.40935183e-03, 1.04904175e-05, 1.25646591e-04, 2.66364217e-03,\n",
       "       4.58836555e-04, 4.84585762e-05, 8.13990831e-04, 2.41577625e-03,\n",
       "       5.84492087e-03, 1.75035000e-03, 3.96066904e-03, 5.04821539e-04,\n",
       "       2.98053026e-04, 4.36306000e-05, 4.25577164e-05, 9.46313143e-04,\n",
       "       6.38872385e-04, 7.20471144e-04, 1.41710043e-04, 2.49087811e-03,\n",
       "       2.04288960e-03, 2.60144472e-03, 6.54637814e-04, 3.27330828e-03,\n",
       "       9.07480717e-05, 1.94519758e-04, 5.66244125e-05, 1.83641911e-04,\n",
       "       2.15411186e-04, 2.70903111e-04, 1.18237734e-03, 2.44736671e-04,\n",
       "       6.92903996e-04, 9.44468379e-03, 1.65909529e-03, 1.55425370e-02,\n",
       "       3.54796648e-04, 6.49988651e-04, 1.02964044e-03, 2.35110521e-04,\n",
       "       1.18997693e-03, 3.27315927e-03, 9.82251763e-03, 1.41152740e-03,\n",
       "       1.18967891e-03, 4.88728285e-04, 3.63290310e-04, 3.48898768e-03,\n",
       "       1.29222870e-04, 1.31660700e-03, 3.22040915e-03, 3.27229500e-05,\n",
       "       9.31441784e-04, 1.41388178e-03, 4.71740961e-03, 1.47573650e-02,\n",
       "       1.30623579e-04, 5.28013706e-03, 1.39147043e-04, 2.43186951e-05,\n",
       "       1.22964382e-03, 1.45703554e-03, 5.77777624e-04, 9.46760178e-04,\n",
       "       1.04615092e-02, 8.59349966e-04, 3.55371833e-03, 8.63075256e-04,\n",
       "       4.94718552e-05, 7.90059566e-05, 2.66879797e-04, 1.26928091e-03,\n",
       "       5.21451235e-04, 1.36265159e-03, 1.79708004e-05, 6.09600544e-03,\n",
       "       3.41236591e-05, 3.65614891e-04, 2.30640173e-04, 6.70552254e-06,\n",
       "       7.27054477e-03, 2.12122530e-01, 9.23633575e-04, 1.42455101e-02,\n",
       "       2.02134252e-03, 1.05124712e-03, 1.14738941e-03, 6.10351562e-04,\n",
       "       3.66866589e-03, 2.72102952e-02, 7.11649656e-04, 3.30239534e-04,\n",
       "       7.46339560e-04, 1.21146441e-04, 2.39625573e-03, 4.17232513e-07,\n",
       "       3.44574451e-04, 4.14779782e-03, 2.44456530e-03, 1.18255615e-04,\n",
       "       4.56899405e-04, 6.32047653e-04, 4.59793210e-03, 9.51871276e-03,\n",
       "       2.07036734e-04, 1.67846680e-04, 1.63823366e-04, 4.98890877e-05,\n",
       "       1.16437674e-04, 6.86645508e-05, 6.96182251e-05, 3.79949808e-04,\n",
       "       1.36166811e-04, 1.83582306e-05, 1.26034021e-04, 4.58061695e-05,\n",
       "       1.52796507e-04, 2.34663486e-04, 2.57790089e-05, 2.46167183e-05,\n",
       "       2.46781111e-03, 7.46548176e-04, 1.78188086e-04, 1.67962909e-03,\n",
       "       4.11182642e-04, 1.78739429e-03, 2.22867727e-03, 8.00639391e-03,\n",
       "       1.29553080e-02, 4.76568937e-04, 9.34600830e-05, 9.18745995e-04,\n",
       "       1.29088759e-03, 4.34815884e-05, 3.01241875e-04, 1.22576952e-04,\n",
       "       8.07642937e-04, 2.86489725e-04, 3.78042459e-04, 3.77655029e-04,\n",
       "       6.05583191e-04, 1.70379877e-04, 2.15172768e-05, 1.79409981e-05,\n",
       "       1.66594982e-05, 1.32620335e-05, 5.98728657e-05, 3.91006470e-05,\n",
       "       1.84646249e-03, 6.69062138e-05, 3.62694263e-05, 6.53266907e-05,\n",
       "       1.18598342e-03, 1.01938844e-03, 3.22163105e-05, 1.27822161e-04,\n",
       "       5.41210175e-05, 1.08352304e-03, 1.51589513e-03, 1.04576349e-04,\n",
       "       8.76903534e-04, 3.72856855e-03, 2.75260210e-03, 1.69610977e-03,\n",
       "       1.11564994e-03, 3.28332186e-04, 8.63403082e-04, 8.26537609e-04,\n",
       "       5.73277473e-04, 6.25848770e-05, 4.23192978e-04, 3.96558642e-03,\n",
       "       1.07220709e-02, 1.92317367e-03, 2.51859426e-04, 2.36332417e-03,\n",
       "       1.65991485e-02, 2.30515629e-01, 7.85171986e-04, 4.37736511e-04,\n",
       "       9.36985016e-05, 2.15739012e-04, 2.09897757e-04, 1.12751126e-03,\n",
       "       4.38404083e-03, 4.98324633e-04, 6.81132078e-04, 5.54740429e-04,\n",
       "       8.48562922e-04, 1.36410212e-03, 3.35962774e-04], dtype=float32)"
      ]
     },
     "execution_count": 192,
     "metadata": {},
     "output_type": "execute_result"
    }
   ],
   "source": [
    "best_model.predict(features)[0]"
   ]
  },
  {
   "cell_type": "code",
   "execution_count": null,
   "metadata": {},
   "outputs": [],
   "source": []
  }
 ],
 "metadata": {
  "kernelspec": {
   "display_name": "Python 3",
   "language": "python",
   "name": "python3"
  },
  "language_info": {
   "codemirror_mode": {
    "name": "ipython",
    "version": 3
   },
   "file_extension": ".py",
   "mimetype": "text/x-python",
   "name": "python",
   "nbconvert_exporter": "python",
   "pygments_lexer": "ipython3",
   "version": "3.6.5"
  }
 },
 "nbformat": 4,
 "nbformat_minor": 2
}
