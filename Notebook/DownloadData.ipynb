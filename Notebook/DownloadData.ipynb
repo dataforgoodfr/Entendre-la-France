{
 "cells": [
  {
   "cell_type": "code",
   "execution_count": 1,
   "metadata": {},
   "outputs": [],
   "source": [
    "import requests, json, tqdm, base64\n",
    "import pandas as pd"
   ]
  },
  {
   "cell_type": "code",
   "execution_count": 2,
   "metadata": {},
   "outputs": [],
   "source": [
    "mkdir data"
   ]
  },
  {
   "cell_type": "code",
   "execution_count": 3,
   "metadata": {},
   "outputs": [
    {
     "name": "stdout",
     "output_type": "stream",
     "text": [
      "--2019-03-14 09:31:28--  https://grandeannotation.fr/download\n",
      "Resolving grandeannotation.fr (grandeannotation.fr)... 145.239.192.225, 2001:41d0:202:100:145:239:192:225\n",
      "Connecting to grandeannotation.fr (grandeannotation.fr)|145.239.192.225|:443... connected.\n",
      "HTTP request sent, awaiting response... 200 OK\n",
      "Length: 3265560 (3.1M) [application/zip]\n",
      "Saving to: ‘actions.zip’\n",
      "\n",
      "actions.zip         100%[===================>]   3.11M  5.40MB/s    in 0.6s    \n",
      "\n",
      "2019-03-14 09:31:29 (5.40 MB/s) - ‘actions.zip’ saved [3265560/3265560]\n",
      "\n",
      "Archive:  actions.zip\n",
      "  inflating: LICENSE.txt             \n",
      "  inflating: README.txt              \n",
      "  inflating: actions.csv             \n"
     ]
    }
   ],
   "source": [
    "urls = [\n",
    "    \"http://opendata.auth-6f31f706db6f4a24b55f42a6a79c5086.storage.sbg5.cloud.ovh.net/2019-03-02/LA_TRANSITION_ECOLOGIQUE.json\", \n",
    "    \"http://opendata.auth-6f31f706db6f4a24b55f42a6a79c5086.storage.sbg5.cloud.ovh.net/2019-03-02/LA_FISCALITE_ET_LES_DEPENSES_PUBLIQUES.json\",\n",
    "    \"http://opendata.auth-6f31f706db6f4a24b55f42a6a79c5086.storage.sbg5.cloud.ovh.net/2019-03-02/DEMOCRATIE_ET_CITOYENNETE.json\", \n",
    "    \"http://opendata.auth-6f31f706db6f4a24b55f42a6a79c5086.storage.sbg5.cloud.ovh.net/2019-03-02/ORGANISATION_DE_LETAT_ET_DES_SERVICES_PUBLICS.json\", \n",
    "    \"http://opendata.auth-6f31f706db6f4a24b55f42a6a79c5086.storage.sbg5.cloud.ovh.net/2019-03-02/EVENTS.json\",\n",
    "]\n",
    "\n",
    "# !wget -c https://grandeannotation.fr/download -O actions.zip && unzip actions.zip\n",
    "\n"
   ]
  },
  {
   "cell_type": "code",
   "execution_count": 4,
   "metadata": {},
   "outputs": [],
   "source": [
    "def download_answers(url, path_):\n",
    "    file_name = url.split('/')[-1]\n",
    "    data = requests.get(url).json()\n",
    "    with open(\"{0}/{1}\".format(path_, file_name), \"w\") as f: \n",
    "        json.dump(data, f)"
   ]
  },
  {
   "cell_type": "code",
   "execution_count": 5,
   "metadata": {},
   "outputs": [
    {
     "name": "stderr",
     "output_type": "stream",
     "text": [
      "100%|██████████| 5/5 [05:57<00:00, 63.47s/it]\n"
     ]
    },
    {
     "data": {
      "text/plain": [
       "[None, None, None, None, None]"
      ]
     },
     "execution_count": 5,
     "metadata": {},
     "output_type": "execute_result"
    }
   ],
   "source": [
    "[download_answers(url, \"./data\") for url in tqdm.tqdm(urls)]"
   ]
  },
  {
   "cell_type": "code",
   "execution_count": 6,
   "metadata": {},
   "outputs": [],
   "source": [
    "annotations = pd.read_csv(\"./actions.csv\")"
   ]
  },
  {
   "cell_type": "code",
   "execution_count": 7,
   "metadata": {},
   "outputs": [],
   "source": [
    "def open_answers(path_):\n",
    "    with open(path_, \"r\") as f: \n",
    "        return json.load(f)"
   ]
  },
  {
   "cell_type": "code",
   "execution_count": 8,
   "metadata": {},
   "outputs": [],
   "source": [
    "def format_values(json_answers):\n",
    "    data = []\n",
    "    for contrib in tqdm.tqdm(json_answers):\n",
    "        for answer in contrib.get(\"responses\", []):\n",
    "            tmp_answer = answer\n",
    "            tmp_answer[\"reference\"]  = contrib[\"reference\"]\n",
    "            tmp_answer[\"id\"] = contrib[\"id\"]\n",
    "            data.append(tmp_answer)\n",
    "            \n",
    "    return data"
   ]
  },
  {
   "cell_type": "code",
   "execution_count": 9,
   "metadata": {},
   "outputs": [
    {
     "name": "stderr",
     "output_type": "stream",
     "text": [
      "100%|██████████| 87562/87562 [00:00<00:00, 120554.68it/s]\n",
      "100%|██████████| 113521/113521 [00:00<00:00, 183053.09it/s]\n",
      "100%|██████████| 9501/9501 [00:00<00:00, 856972.59it/s]\n",
      "100%|██████████| 65758/65758 [00:01<00:00, 52810.52it/s]\n",
      "100%|██████████| 67301/67301 [00:01<00:00, 55326.61it/s]\n"
     ]
    }
   ],
   "source": [
    "transition_eco = format_values(open_answers(\"./data/LA_TRANSITION_ECOLOGIQUE.json\"))\n",
    "fiscalite = format_values(open_answers(\"./data/LA_FISCALITE_ET_LES_DEPENSES_PUBLIQUES.json\"))\n",
    "events = format_values(open_answers(\"./data/EVENTS.json\"))\n",
    "democratie = format_values(open_answers(\"./data/DEMOCRATIE_ET_CITOYENNETE.json\"))\n",
    "organ = format_values(open_answers(\"./data/ORGANISATION_DE_LETAT_ET_DES_SERVICES_PUBLICS.json\"))"
   ]
  },
  {
   "cell_type": "code",
   "execution_count": 166,
   "metadata": {},
   "outputs": [],
   "source": [
    "list_of_data = transition_eco + fiscalite + events + democratie + organ"
   ]
  },
  {
   "cell_type": "code",
   "execution_count": 167,
   "metadata": {},
   "outputs": [],
   "source": [
    "all_contributions = pd.DataFrame(list_of_data) "
   ]
  },
  {
   "cell_type": "code",
   "execution_count": 168,
   "metadata": {},
   "outputs": [],
   "source": [
    "clean = all_contributions.dropna(subset=[\"formattedValue\"])"
   ]
  },
  {
   "cell_type": "code",
   "execution_count": 169,
   "metadata": {},
   "outputs": [
    {
     "data": {
      "text/plain": [
       "'UXVlc3Rpb246MTYy'"
      ]
     },
     "execution_count": 169,
     "metadata": {},
     "output_type": "execute_result"
    }
   ],
   "source": [
    "def turn_question_in_id(question_id):\n",
    "    return base64.b64encode(\"Question:{0}\".format(question_id).encode()).decode()\n",
    "\n",
    "turn_question_in_id(162)"
   ]
  },
  {
   "cell_type": "code",
   "execution_count": 14,
   "metadata": {},
   "outputs": [],
   "source": [
    "annotations[\"question_id\"] = annotations.Question.apply(lambda x: turn_question_in_id(x))"
   ]
  },
  {
   "cell_type": "code",
   "execution_count": 15,
   "metadata": {},
   "outputs": [],
   "source": [
    "clean = clean[clean.questionId.isin(set(annotations.question_id))]"
   ]
  },
  {
   "cell_type": "code",
   "execution_count": 16,
   "metadata": {},
   "outputs": [],
   "source": [
    "annotations.rename({\"Contribution\":\"reference\"}, axis=1, inplace=True)"
   ]
  },
  {
   "cell_type": "code",
   "execution_count": 17,
   "metadata": {},
   "outputs": [],
   "source": [
    "annotation_with_questions = clean.merge(annotations, \n",
    "                                        left_on=[\"questionId\", \"reference\"],\n",
    "                                        right_on=[\"question_id\", \"reference\"], \n",
    "                                        how=\"inner\")"
   ]
  },
  {
   "cell_type": "code",
   "execution_count": 18,
   "metadata": {},
   "outputs": [
    {
     "data": {
      "text/html": [
       "<div>\n",
       "<style scoped>\n",
       "    .dataframe tbody tr th:only-of-type {\n",
       "        vertical-align: middle;\n",
       "    }\n",
       "\n",
       "    .dataframe tbody tr th {\n",
       "        vertical-align: top;\n",
       "    }\n",
       "\n",
       "    .dataframe thead th {\n",
       "        text-align: right;\n",
       "    }\n",
       "</style>\n",
       "<table border=\"1\" class=\"dataframe\">\n",
       "  <thead>\n",
       "    <tr style=\"text-align: right;\">\n",
       "      <th></th>\n",
       "      <th>formattedValue</th>\n",
       "      <th>id</th>\n",
       "      <th>questionId</th>\n",
       "      <th>questionTitle</th>\n",
       "      <th>reference</th>\n",
       "      <th>value</th>\n",
       "      <th>Debat</th>\n",
       "      <th>Question</th>\n",
       "      <th>Categorie</th>\n",
       "      <th>Annotateur</th>\n",
       "      <th>Poids</th>\n",
       "      <th>question_id</th>\n",
       "    </tr>\n",
       "  </thead>\n",
       "  <tbody>\n",
       "    <tr>\n",
       "      <th>0</th>\n",
       "      <td>L'Etat</td>\n",
       "      <td>UHJvcG9zYWw6NTk2Nzk5MmItMWUyMS0xMWU5LTk0ZDItZm...</td>\n",
       "      <td>UXVlc3Rpb246MTU3</td>\n",
       "      <td>Et qui doit selon vous se charger de vous prop...</td>\n",
       "      <td>2-7</td>\n",
       "      <td>L'Etat</td>\n",
       "      <td>2</td>\n",
       "      <td>157</td>\n",
       "      <td>Etat</td>\n",
       "      <td>17</td>\n",
       "      <td>1.0</td>\n",
       "      <td>UXVlc3Rpb246MTU3</td>\n",
       "    </tr>\n",
       "    <tr>\n",
       "      <th>1</th>\n",
       "      <td>L'Etat</td>\n",
       "      <td>UHJvcG9zYWw6NTk2Nzk5MmItMWUyMS0xMWU5LTk0ZDItZm...</td>\n",
       "      <td>UXVlc3Rpb246MTU3</td>\n",
       "      <td>Et qui doit selon vous se charger de vous prop...</td>\n",
       "      <td>2-7</td>\n",
       "      <td>L'Etat</td>\n",
       "      <td>2</td>\n",
       "      <td>157</td>\n",
       "      <td>Etat</td>\n",
       "      <td>13</td>\n",
       "      <td>1.0</td>\n",
       "      <td>UXVlc3Rpb246MTU3</td>\n",
       "    </tr>\n",
       "    <tr>\n",
       "      <th>2</th>\n",
       "      <td>L'Etat</td>\n",
       "      <td>UHJvcG9zYWw6NTk2Nzk5MmItMWUyMS0xMWU5LTk0ZDItZm...</td>\n",
       "      <td>UXVlc3Rpb246MTU3</td>\n",
       "      <td>Et qui doit selon vous se charger de vous prop...</td>\n",
       "      <td>2-7</td>\n",
       "      <td>L'Etat</td>\n",
       "      <td>2</td>\n",
       "      <td>157</td>\n",
       "      <td>Etat</td>\n",
       "      <td>269</td>\n",
       "      <td>1.0</td>\n",
       "      <td>UXVlc3Rpb246MTU3</td>\n",
       "    </tr>\n",
       "    <tr>\n",
       "      <th>3</th>\n",
       "      <td>L'Etat</td>\n",
       "      <td>UHJvcG9zYWw6NTk2Nzk5MmItMWUyMS0xMWU5LTk0ZDItZm...</td>\n",
       "      <td>UXVlc3Rpb246MTU3</td>\n",
       "      <td>Et qui doit selon vous se charger de vous prop...</td>\n",
       "      <td>2-7</td>\n",
       "      <td>L'Etat</td>\n",
       "      <td>2</td>\n",
       "      <td>157</td>\n",
       "      <td>Etat</td>\n",
       "      <td>247</td>\n",
       "      <td>1.0</td>\n",
       "      <td>UXVlc3Rpb246MTU3</td>\n",
       "    </tr>\n",
       "    <tr>\n",
       "      <th>4</th>\n",
       "      <td>L'Etat</td>\n",
       "      <td>UHJvcG9zYWw6NTk2Nzk5MmItMWUyMS0xMWU5LTk0ZDItZm...</td>\n",
       "      <td>UXVlc3Rpb246MTU3</td>\n",
       "      <td>Et qui doit selon vous se charger de vous prop...</td>\n",
       "      <td>2-7</td>\n",
       "      <td>L'Etat</td>\n",
       "      <td>2</td>\n",
       "      <td>157</td>\n",
       "      <td>Etat</td>\n",
       "      <td>1</td>\n",
       "      <td>1.0</td>\n",
       "      <td>UXVlc3Rpb246MTU3</td>\n",
       "    </tr>\n",
       "  </tbody>\n",
       "</table>\n",
       "</div>"
      ],
      "text/plain": [
       "  formattedValue                                                 id  \\\n",
       "0         L'Etat  UHJvcG9zYWw6NTk2Nzk5MmItMWUyMS0xMWU5LTk0ZDItZm...   \n",
       "1         L'Etat  UHJvcG9zYWw6NTk2Nzk5MmItMWUyMS0xMWU5LTk0ZDItZm...   \n",
       "2         L'Etat  UHJvcG9zYWw6NTk2Nzk5MmItMWUyMS0xMWU5LTk0ZDItZm...   \n",
       "3         L'Etat  UHJvcG9zYWw6NTk2Nzk5MmItMWUyMS0xMWU5LTk0ZDItZm...   \n",
       "4         L'Etat  UHJvcG9zYWw6NTk2Nzk5MmItMWUyMS0xMWU5LTk0ZDItZm...   \n",
       "\n",
       "         questionId                                      questionTitle  \\\n",
       "0  UXVlc3Rpb246MTU3  Et qui doit selon vous se charger de vous prop...   \n",
       "1  UXVlc3Rpb246MTU3  Et qui doit selon vous se charger de vous prop...   \n",
       "2  UXVlc3Rpb246MTU3  Et qui doit selon vous se charger de vous prop...   \n",
       "3  UXVlc3Rpb246MTU3  Et qui doit selon vous se charger de vous prop...   \n",
       "4  UXVlc3Rpb246MTU3  Et qui doit selon vous se charger de vous prop...   \n",
       "\n",
       "  reference   value  Debat  Question Categorie  Annotateur  Poids  \\\n",
       "0       2-7  L'Etat      2       157      Etat          17    1.0   \n",
       "1       2-7  L'Etat      2       157      Etat          13    1.0   \n",
       "2       2-7  L'Etat      2       157      Etat         269    1.0   \n",
       "3       2-7  L'Etat      2       157      Etat         247    1.0   \n",
       "4       2-7  L'Etat      2       157      Etat           1    1.0   \n",
       "\n",
       "        question_id  \n",
       "0  UXVlc3Rpb246MTU3  \n",
       "1  UXVlc3Rpb246MTU3  \n",
       "2  UXVlc3Rpb246MTU3  \n",
       "3  UXVlc3Rpb246MTU3  \n",
       "4  UXVlc3Rpb246MTU3  "
      ]
     },
     "execution_count": 18,
     "metadata": {},
     "output_type": "execute_result"
    }
   ],
   "source": [
    "annotation_with_questions.head()"
   ]
  },
  {
   "cell_type": "markdown",
   "metadata": {},
   "source": [
    "## Translate to ELF tags"
   ]
  },
  {
   "cell_type": "code",
   "execution_count": 27,
   "metadata": {},
   "outputs": [],
   "source": [
    "df_lga_to_elf_tags = pd.read_csv(\"./../raw/matching_tags_lga_elf.csv\", sep=\";\")"
   ]
  },
  {
   "cell_type": "code",
   "execution_count": 32,
   "metadata": {},
   "outputs": [
    {
     "data": {
      "text/html": [
       "<div>\n",
       "<style scoped>\n",
       "    .dataframe tbody tr th:only-of-type {\n",
       "        vertical-align: middle;\n",
       "    }\n",
       "\n",
       "    .dataframe tbody tr th {\n",
       "        vertical-align: top;\n",
       "    }\n",
       "\n",
       "    .dataframe thead th {\n",
       "        text-align: right;\n",
       "    }\n",
       "</style>\n",
       "<table border=\"1\" class=\"dataframe\">\n",
       "  <thead>\n",
       "    <tr style=\"text-align: right;\">\n",
       "      <th></th>\n",
       "      <th>id_lga</th>\n",
       "      <th>tag_lga</th>\n",
       "      <th>tag_elf</th>\n",
       "    </tr>\n",
       "  </thead>\n",
       "  <tbody>\n",
       "    <tr>\n",
       "      <th>0</th>\n",
       "      <td>149</td>\n",
       "      <td>Tri sélectif, compost, moins de déchets</td>\n",
       "      <td>Tri sélectif, compost, réduction déchets</td>\n",
       "    </tr>\n",
       "    <tr>\n",
       "      <th>1</th>\n",
       "      <td>149</td>\n",
       "      <td>Transports doux ou moins nombreux</td>\n",
       "      <td>Transports plus verts ou réduits</td>\n",
       "    </tr>\n",
       "    <tr>\n",
       "      <th>2</th>\n",
       "      <td>149</td>\n",
       "      <td>Consommation vertueuse (bio, circuit-court, lo...</td>\n",
       "      <td>Consommation réduite ou vertueuse (bio, circui...</td>\n",
       "    </tr>\n",
       "    <tr>\n",
       "      <th>3</th>\n",
       "      <td>149</td>\n",
       "      <td>Réduction consommation énergie, eau</td>\n",
       "      <td>Réduction consommation énergie, eau</td>\n",
       "    </tr>\n",
       "    <tr>\n",
       "      <th>4</th>\n",
       "      <td>149</td>\n",
       "      <td>Réduction consommation alimentaire, vestimentaire</td>\n",
       "      <td>Régime alimentaire</td>\n",
       "    </tr>\n",
       "  </tbody>\n",
       "</table>\n",
       "</div>"
      ],
      "text/plain": [
       "   id_lga                                            tag_lga  \\\n",
       "0     149            Tri sélectif, compost, moins de déchets   \n",
       "1     149                  Transports doux ou moins nombreux   \n",
       "2     149  Consommation vertueuse (bio, circuit-court, lo...   \n",
       "3     149                Réduction consommation énergie, eau   \n",
       "4     149  Réduction consommation alimentaire, vestimentaire   \n",
       "\n",
       "                                             tag_elf  \n",
       "0           Tri sélectif, compost, réduction déchets  \n",
       "1                   Transports plus verts ou réduits  \n",
       "2  Consommation réduite ou vertueuse (bio, circui...  \n",
       "3                Réduction consommation énergie, eau  \n",
       "4                                 Régime alimentaire  "
      ]
     },
     "execution_count": 32,
     "metadata": {},
     "output_type": "execute_result"
    }
   ],
   "source": [
    "df_lga_to_elf_tags.head()"
   ]
  },
  {
   "cell_type": "code",
   "execution_count": 34,
   "metadata": {},
   "outputs": [],
   "source": [
    "matching = {row[\"tag_lga\"]:row[\"tag_elf\"] for r, row in df_lga_to_elf_tags.iterrows()}"
   ]
  },
  {
   "cell_type": "code",
   "execution_count": 57,
   "metadata": {},
   "outputs": [
    {
     "data": {
      "text/plain": [
       "'orf'"
      ]
     },
     "execution_count": 57,
     "metadata": {},
     "output_type": "execute_result"
    }
   ],
   "source": [
    "matching.get(\"orf\", \"orf\")"
   ]
  },
  {
   "cell_type": "code",
   "execution_count": 73,
   "metadata": {},
   "outputs": [],
   "source": [
    "annotation_with_questions[\"elf_tag\"] = annotation_with_questions.Categorie.apply(lambda x: \"Inciter à se présenter\" if x == \"Inciter à se présenter\" else matching.get(x, x))"
   ]
  },
  {
   "cell_type": "code",
   "execution_count": 75,
   "metadata": {},
   "outputs": [],
   "source": [
    "df_agg = annotation_with_questions.groupby([\"reference\", \"question_id\"]).agg({\n",
    "    \"elf_tag\": lambda x: set(x.tolist())\n",
    "}).reset_index()"
   ]
  },
  {
   "cell_type": "code",
   "execution_count": 76,
   "metadata": {},
   "outputs": [
    {
     "data": {
      "text/html": [
       "<div>\n",
       "<style scoped>\n",
       "    .dataframe tbody tr th:only-of-type {\n",
       "        vertical-align: middle;\n",
       "    }\n",
       "\n",
       "    .dataframe tbody tr th {\n",
       "        vertical-align: top;\n",
       "    }\n",
       "\n",
       "    .dataframe thead th {\n",
       "        text-align: right;\n",
       "    }\n",
       "</style>\n",
       "<table border=\"1\" class=\"dataframe\">\n",
       "  <thead>\n",
       "    <tr style=\"text-align: right;\">\n",
       "      <th></th>\n",
       "      <th>reference</th>\n",
       "      <th>question_id</th>\n",
       "      <th>elf_tag</th>\n",
       "    </tr>\n",
       "  </thead>\n",
       "  <tbody>\n",
       "    <tr>\n",
       "      <th>0</th>\n",
       "      <td>1-100</td>\n",
       "      <td>UXVlc3Rpb246MTA3</td>\n",
       "      <td>{Société civile, citoyens, Z Autres}</td>\n",
       "    </tr>\n",
       "    <tr>\n",
       "      <th>1</th>\n",
       "      <td>1-10000</td>\n",
       "      <td>UXVlc3Rpb246MTE2</td>\n",
       "      <td>{vote obligatoire}</td>\n",
       "    </tr>\n",
       "    <tr>\n",
       "      <th>2</th>\n",
       "      <td>1-10002</td>\n",
       "      <td>UXVlc3Rpb246MTA3</td>\n",
       "      <td>{A Moi-même ou personne}</td>\n",
       "    </tr>\n",
       "    <tr>\n",
       "      <th>3</th>\n",
       "      <td>1-10004</td>\n",
       "      <td>UXVlc3Rpb246MTA3</td>\n",
       "      <td>{Société civile, citoyens, Tous les élus, X Si...</td>\n",
       "    </tr>\n",
       "    <tr>\n",
       "      <th>4</th>\n",
       "      <td>1-10004</td>\n",
       "      <td>UXVlc3Rpb246MTEz</td>\n",
       "      <td>{Q Proportionnelle}</td>\n",
       "    </tr>\n",
       "  </tbody>\n",
       "</table>\n",
       "</div>"
      ],
      "text/plain": [
       "  reference       question_id  \\\n",
       "0     1-100  UXVlc3Rpb246MTA3   \n",
       "1   1-10000  UXVlc3Rpb246MTE2   \n",
       "2   1-10002  UXVlc3Rpb246MTA3   \n",
       "3   1-10004  UXVlc3Rpb246MTA3   \n",
       "4   1-10004  UXVlc3Rpb246MTEz   \n",
       "\n",
       "                                             elf_tag  \n",
       "0               {Société civile, citoyens, Z Autres}  \n",
       "1                                 {vote obligatoire}  \n",
       "2                           {A Moi-même ou personne}  \n",
       "3  {Société civile, citoyens, Tous les élus, X Si...  \n",
       "4                                {Q Proportionnelle}  "
      ]
     },
     "execution_count": 76,
     "metadata": {},
     "output_type": "execute_result"
    }
   ],
   "source": [
    "df_agg.head()"
   ]
  },
  {
   "cell_type": "code",
   "execution_count": 77,
   "metadata": {},
   "outputs": [],
   "source": [
    "df_grouped = df_agg.merge(annotation_with_questions.drop_duplicates(subset=[\"reference\", \"question_id\"]),\n",
    "                          left_on=[\"reference\", \"question_id\"], \n",
    "                          right_on=[\"reference\", \"questionId\"], \n",
    "                         how=\"left\")\n"
   ]
  },
  {
   "cell_type": "code",
   "execution_count": 78,
   "metadata": {},
   "outputs": [
    {
     "data": {
      "text/html": [
       "<div>\n",
       "<style scoped>\n",
       "    .dataframe tbody tr th:only-of-type {\n",
       "        vertical-align: middle;\n",
       "    }\n",
       "\n",
       "    .dataframe tbody tr th {\n",
       "        vertical-align: top;\n",
       "    }\n",
       "\n",
       "    .dataframe thead th {\n",
       "        text-align: right;\n",
       "    }\n",
       "</style>\n",
       "<table border=\"1\" class=\"dataframe\">\n",
       "  <thead>\n",
       "    <tr style=\"text-align: right;\">\n",
       "      <th></th>\n",
       "      <th>reference</th>\n",
       "      <th>question_id_x</th>\n",
       "      <th>elf_tag_x</th>\n",
       "      <th>formattedValue</th>\n",
       "      <th>id</th>\n",
       "      <th>questionId</th>\n",
       "      <th>questionTitle</th>\n",
       "      <th>value</th>\n",
       "      <th>Debat</th>\n",
       "      <th>Question</th>\n",
       "      <th>Categorie</th>\n",
       "      <th>Annotateur</th>\n",
       "      <th>Poids</th>\n",
       "      <th>question_id_y</th>\n",
       "      <th>elf_tag_y</th>\n",
       "    </tr>\n",
       "  </thead>\n",
       "  <tbody>\n",
       "    <tr>\n",
       "      <th>0</th>\n",
       "      <td>1-100</td>\n",
       "      <td>UXVlc3Rpb246MTA3</td>\n",
       "      <td>{Société civile, citoyens, Z Autres}</td>\n",
       "      <td>Le peuple</td>\n",
       "      <td>UHJvcG9zYWw6ZmQ2OTFiNDMtMWUyNi0xMWU5LTk0ZDItZm...</td>\n",
       "      <td>UXVlc3Rpb246MTA3</td>\n",
       "      <td>En qui faites-vous le plus confiance pour vous...</td>\n",
       "      <td>Le peuple</td>\n",
       "      <td>1</td>\n",
       "      <td>107</td>\n",
       "      <td>Société civile, citoyens</td>\n",
       "      <td>406</td>\n",
       "      <td>1.054380</td>\n",
       "      <td>UXVlc3Rpb246MTA3</td>\n",
       "      <td>Société civile, citoyens</td>\n",
       "    </tr>\n",
       "    <tr>\n",
       "      <th>1</th>\n",
       "      <td>1-10000</td>\n",
       "      <td>UXVlc3Rpb246MTE2</td>\n",
       "      <td>{vote obligatoire}</td>\n",
       "      <td>En rendant le vote obligatoire</td>\n",
       "      <td>UHJvcG9zYWw6MWJjMTBiNjEtMWYyYS0xMWU5LTk0ZDItZm...</td>\n",
       "      <td>UXVlc3Rpb246MTE2</td>\n",
       "      <td>Que pensez-vous de la participation des citoye...</td>\n",
       "      <td>En rendant le vote obligatoire</td>\n",
       "      <td>1</td>\n",
       "      <td>116</td>\n",
       "      <td>Vote obligatoire (sanction)</td>\n",
       "      <td>13</td>\n",
       "      <td>1.267280</td>\n",
       "      <td>UXVlc3Rpb246MTE2</td>\n",
       "      <td>vote obligatoire</td>\n",
       "    </tr>\n",
       "    <tr>\n",
       "      <th>2</th>\n",
       "      <td>1-10002</td>\n",
       "      <td>UXVlc3Rpb246MTA3</td>\n",
       "      <td>{A Moi-même ou personne}</td>\n",
       "      <td>moi même</td>\n",
       "      <td>UHJvcG9zYWw6MWQ2NThkYWItMWYyYS0xMWU5LTk0ZDItZm...</td>\n",
       "      <td>UXVlc3Rpb246MTA3</td>\n",
       "      <td>En qui faites-vous le plus confiance pour vous...</td>\n",
       "      <td>moi même</td>\n",
       "      <td>1</td>\n",
       "      <td>107</td>\n",
       "      <td>A Moi-même ou personne</td>\n",
       "      <td>2</td>\n",
       "      <td>1.000145</td>\n",
       "      <td>UXVlc3Rpb246MTA3</td>\n",
       "      <td>A Moi-même ou personne</td>\n",
       "    </tr>\n",
       "    <tr>\n",
       "      <th>3</th>\n",
       "      <td>1-10004</td>\n",
       "      <td>UXVlc3Rpb246MTA3</td>\n",
       "      <td>{Société civile, citoyens, Tous les élus, X Si...</td>\n",
       "      <td>Représentation des français</td>\n",
       "      <td>UHJvcG9zYWw6MjRmY2E5ZTEtMWYyYS0xMWU5LTk0ZDItZm...</td>\n",
       "      <td>UXVlc3Rpb246MTA3</td>\n",
       "      <td>En qui faites-vous le plus confiance pour vous...</td>\n",
       "      <td>Représentation des français</td>\n",
       "      <td>1</td>\n",
       "      <td>107</td>\n",
       "      <td>Sans réponse / Hors sujet / Inclassable</td>\n",
       "      <td>811</td>\n",
       "      <td>16.365496</td>\n",
       "      <td>UXVlc3Rpb246MTA3</td>\n",
       "      <td>Sans réponse / Hors sujet / Inclassable</td>\n",
       "    </tr>\n",
       "    <tr>\n",
       "      <th>4</th>\n",
       "      <td>1-10004</td>\n",
       "      <td>UXVlc3Rpb246MTEz</td>\n",
       "      <td>{Q Proportionnelle}</td>\n",
       "      <td>Proportionnelle</td>\n",
       "      <td>UHJvcG9zYWw6MjRmY2E5ZTEtMWYyYS0xMWU5LTk0ZDItZm...</td>\n",
       "      <td>UXVlc3Rpb246MTEz</td>\n",
       "      <td>Que faudrait-il faire pour mieux représenter l...</td>\n",
       "      <td>Proportionnelle</td>\n",
       "      <td>1</td>\n",
       "      <td>113</td>\n",
       "      <td>Q Proportionnelle</td>\n",
       "      <td>18</td>\n",
       "      <td>1.000000</td>\n",
       "      <td>UXVlc3Rpb246MTEz</td>\n",
       "      <td>Q Proportionnelle</td>\n",
       "    </tr>\n",
       "  </tbody>\n",
       "</table>\n",
       "</div>"
      ],
      "text/plain": [
       "  reference     question_id_x  \\\n",
       "0     1-100  UXVlc3Rpb246MTA3   \n",
       "1   1-10000  UXVlc3Rpb246MTE2   \n",
       "2   1-10002  UXVlc3Rpb246MTA3   \n",
       "3   1-10004  UXVlc3Rpb246MTA3   \n",
       "4   1-10004  UXVlc3Rpb246MTEz   \n",
       "\n",
       "                                           elf_tag_x  \\\n",
       "0               {Société civile, citoyens, Z Autres}   \n",
       "1                                 {vote obligatoire}   \n",
       "2                           {A Moi-même ou personne}   \n",
       "3  {Société civile, citoyens, Tous les élus, X Si...   \n",
       "4                                {Q Proportionnelle}   \n",
       "\n",
       "                   formattedValue  \\\n",
       "0                       Le peuple   \n",
       "1  En rendant le vote obligatoire   \n",
       "2                        moi même   \n",
       "3     Représentation des français   \n",
       "4                 Proportionnelle   \n",
       "\n",
       "                                                  id        questionId  \\\n",
       "0  UHJvcG9zYWw6ZmQ2OTFiNDMtMWUyNi0xMWU5LTk0ZDItZm...  UXVlc3Rpb246MTA3   \n",
       "1  UHJvcG9zYWw6MWJjMTBiNjEtMWYyYS0xMWU5LTk0ZDItZm...  UXVlc3Rpb246MTE2   \n",
       "2  UHJvcG9zYWw6MWQ2NThkYWItMWYyYS0xMWU5LTk0ZDItZm...  UXVlc3Rpb246MTA3   \n",
       "3  UHJvcG9zYWw6MjRmY2E5ZTEtMWYyYS0xMWU5LTk0ZDItZm...  UXVlc3Rpb246MTA3   \n",
       "4  UHJvcG9zYWw6MjRmY2E5ZTEtMWYyYS0xMWU5LTk0ZDItZm...  UXVlc3Rpb246MTEz   \n",
       "\n",
       "                                       questionTitle  \\\n",
       "0  En qui faites-vous le plus confiance pour vous...   \n",
       "1  Que pensez-vous de la participation des citoye...   \n",
       "2  En qui faites-vous le plus confiance pour vous...   \n",
       "3  En qui faites-vous le plus confiance pour vous...   \n",
       "4  Que faudrait-il faire pour mieux représenter l...   \n",
       "\n",
       "                            value  Debat  Question  \\\n",
       "0                       Le peuple      1       107   \n",
       "1  En rendant le vote obligatoire      1       116   \n",
       "2                        moi même      1       107   \n",
       "3     Représentation des français      1       107   \n",
       "4                 Proportionnelle      1       113   \n",
       "\n",
       "                                 Categorie  Annotateur      Poids  \\\n",
       "0                 Société civile, citoyens         406   1.054380   \n",
       "1              Vote obligatoire (sanction)          13   1.267280   \n",
       "2                   A Moi-même ou personne           2   1.000145   \n",
       "3  Sans réponse / Hors sujet / Inclassable         811  16.365496   \n",
       "4                        Q Proportionnelle          18   1.000000   \n",
       "\n",
       "      question_id_y                                elf_tag_y  \n",
       "0  UXVlc3Rpb246MTA3                 Société civile, citoyens  \n",
       "1  UXVlc3Rpb246MTE2                         vote obligatoire  \n",
       "2  UXVlc3Rpb246MTA3                   A Moi-même ou personne  \n",
       "3  UXVlc3Rpb246MTA3  Sans réponse / Hors sujet / Inclassable  \n",
       "4  UXVlc3Rpb246MTEz                        Q Proportionnelle  "
      ]
     },
     "execution_count": 78,
     "metadata": {},
     "output_type": "execute_result"
    }
   ],
   "source": [
    "df_grouped.head()"
   ]
  },
  {
   "cell_type": "code",
   "execution_count": 79,
   "metadata": {},
   "outputs": [],
   "source": [
    "#Remove extra characters at the begining of LGA tags\n",
    "def clean_tags(tags):\n",
    "    return [tag if len(tag.split()[0])>1 else \" \".join(tag.split()[1:]) for tag in tags if tag]\n",
    "    "
   ]
  },
  {
   "cell_type": "code",
   "execution_count": 80,
   "metadata": {},
   "outputs": [],
   "source": [
    "train_data_lga = [{\n",
    "    \"question\": row[\"questionTitle\"],\n",
    "    \"answer\": row[\"formattedValue\"],\n",
    "    \"target\": clean_tags(row.elf_tag_x)\n",
    "} for  r, row  in df_grouped.iterrows()]"
   ]
  },
  {
   "cell_type": "code",
   "execution_count": 82,
   "metadata": {},
   "outputs": [],
   "source": [
    "with open(\"data/train_data_lga.json\", \"w\") as f:\n",
    "    json.dump(train_data_lga, f)"
   ]
  },
  {
   "cell_type": "markdown",
   "metadata": {},
   "source": [
    "# Extract ELF Data"
   ]
  },
  {
   "cell_type": "code",
   "execution_count": 159,
   "metadata": {},
   "outputs": [],
   "source": [
    "df_elf_tags = pd.read_csv(\"./data/elf_tags_sample_v5.csv\", sep=\";\")\n",
    "df_elf_questions = pd.read_csv(\"./../raw/questions_ELF.csv\", sep=\",\")"
   ]
  },
  {
   "cell_type": "code",
   "execution_count": 160,
   "metadata": {},
   "outputs": [],
   "source": [
    "df_elf = df_elf_tags.merge(df_elf_questions, how=\"left\", left_on=\"question\", right_on=\"id_elf\")"
   ]
  },
  {
   "cell_type": "code",
   "execution_count": 161,
   "metadata": {},
   "outputs": [
    {
     "data": {
      "text/plain": [
       "(23125, 9)"
      ]
     },
     "execution_count": 161,
     "metadata": {},
     "output_type": "execute_result"
    }
   ],
   "source": [
    "df_elf.shape"
   ]
  },
  {
   "cell_type": "code",
   "execution_count": 162,
   "metadata": {},
   "outputs": [],
   "source": [
    "df_elf_grouped = df_elf.groupby([\"question\", \"contribution\"]).agg({\n",
    "    \"tag\": lambda x: set(x.tolist()),\n",
    "    \"corpus\":\"first\",\n",
    "    \"question_elf\":\"first\"\n",
    "}).reset_index()"
   ]
  },
  {
   "cell_type": "code",
   "execution_count": 164,
   "metadata": {},
   "outputs": [],
   "source": [
    "train_data_elf = [{\n",
    "    \"question\": row[\"question_elf\"],\n",
    "    \"answer\": row[\"corpus\"],\n",
    "    \"target\": clean_tags(row.tag)\n",
    "} for  r, row  in df_elf_grouped.iterrows()]"
   ]
  },
  {
   "cell_type": "markdown",
   "metadata": {},
   "source": [
    "# Compose the two "
   ]
  },
  {
   "cell_type": "code",
   "execution_count": 170,
   "metadata": {},
   "outputs": [],
   "source": [
    "full_train_data = train_data_lga + train_data_elf"
   ]
  },
  {
   "cell_type": "code",
   "execution_count": 171,
   "metadata": {},
   "outputs": [],
   "source": [
    "with open(\"data/all_train_data.json\", \"w\") as f:\n",
    "    json.dump(full_train_data, f)"
   ]
  },
  {
   "cell_type": "code",
   "execution_count": 172,
   "metadata": {},
   "outputs": [],
   "source": [
    "with open(\"data/train_data_lga.json\", \"w\") as f:\n",
    "    json.dump(train_data_lga, f)"
   ]
  },
  {
   "cell_type": "code",
   "execution_count": 173,
   "metadata": {},
   "outputs": [],
   "source": [
    "with open(\"data/train_data_elf.json\", \"w\") as f:\n",
    "    json.dump(train_data_elf, f)"
   ]
  },
  {
   "cell_type": "code",
   "execution_count": null,
   "metadata": {},
   "outputs": [],
   "source": []
  }
 ],
 "metadata": {
  "kernelspec": {
   "display_name": "Python 3",
   "language": "python",
   "name": "python3"
  },
  "language_info": {
   "codemirror_mode": {
    "name": "ipython",
    "version": 3
   },
   "file_extension": ".py",
   "mimetype": "text/x-python",
   "name": "python",
   "nbconvert_exporter": "python",
   "pygments_lexer": "ipython3",
   "version": "3.6.5"
  }
 },
 "nbformat": 4,
 "nbformat_minor": 2
}
