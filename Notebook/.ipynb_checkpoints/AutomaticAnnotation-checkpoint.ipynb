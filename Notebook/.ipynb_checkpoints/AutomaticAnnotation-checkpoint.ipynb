{
 "cells": [
  {
   "cell_type": "code",
   "execution_count": 3,
   "metadata": {
    "ExecuteTime": {
     "end_time": "2019-03-09T09:38:13.725905Z",
     "start_time": "2019-03-09T09:38:12.557744Z"
    }
   },
   "outputs": [],
   "source": [
    "import pandas as pd\n",
    "from sklearn.preprocessing import OneHotEncoder, LabelEncoder\n",
    "import numpy as np\n",
    "import itertools\n",
    "from sklearn.metrics import confusion_matrix, classification_report"
   ]
  },
  {
   "cell_type": "code",
   "execution_count": 4,
   "metadata": {
    "ExecuteTime": {
     "end_time": "2019-03-09T09:39:27.002963Z",
     "start_time": "2019-03-09T09:39:26.155380Z"
    }
   },
   "outputs": [],
   "source": [
    "df = pd.read_csv(\"./../preprocessed/reponses_annotees_multilabel_FDP.csv\", sep=\"\\t\")"
   ]
  },
  {
   "cell_type": "code",
   "execution_count": 8,
   "metadata": {
    "ExecuteTime": {
     "end_time": "2019-03-09T10:31:51.205872Z",
     "start_time": "2019-03-09T10:31:51.194733Z"
    }
   },
   "outputs": [
    {
     "data": {
      "text/html": [
       "<div>\n",
       "<style scoped>\n",
       "    .dataframe tbody tr th:only-of-type {\n",
       "        vertical-align: middle;\n",
       "    }\n",
       "\n",
       "    .dataframe tbody tr th {\n",
       "        vertical-align: top;\n",
       "    }\n",
       "\n",
       "    .dataframe thead th {\n",
       "        text-align: right;\n",
       "    }\n",
       "</style>\n",
       "<table border=\"1\" class=\"dataframe\">\n",
       "  <thead>\n",
       "    <tr style=\"text-align: right;\">\n",
       "      <th></th>\n",
       "      <th>Unnamed: 0</th>\n",
       "      <th>contribution</th>\n",
       "      <th>tag</th>\n",
       "      <th>corpus</th>\n",
       "      <th>id_elf</th>\n",
       "      <th>count</th>\n",
       "    </tr>\n",
       "  </thead>\n",
       "  <tbody>\n",
       "    <tr>\n",
       "      <th>0</th>\n",
       "      <td>0</td>\n",
       "      <td>1-10005</td>\n",
       "      <td>Y Rien</td>\n",
       "      <td>nsp</td>\n",
       "      <td>DC13</td>\n",
       "      <td>1</td>\n",
       "    </tr>\n",
       "    <tr>\n",
       "      <th>1</th>\n",
       "      <td>1</td>\n",
       "      <td>1-10092</td>\n",
       "      <td>Aucun financement par l'Etat</td>\n",
       "      <td>1/. LA FERMETÉ; la voix du peuple est supérieu...</td>\n",
       "      <td>DC13</td>\n",
       "      <td>1</td>\n",
       "    </tr>\n",
       "    <tr>\n",
       "      <th>2</th>\n",
       "      <td>2</td>\n",
       "      <td>1-10092</td>\n",
       "      <td>Garantir la liberté de culte</td>\n",
       "      <td>1/. LA FERMETÉ; la voix du peuple est supérieu...</td>\n",
       "      <td>DC13</td>\n",
       "      <td>1</td>\n",
       "    </tr>\n",
       "    <tr>\n",
       "      <th>3</th>\n",
       "      <td>3</td>\n",
       "      <td>1-10092</td>\n",
       "      <td>Loi de la République avant celles de la religion</td>\n",
       "      <td>1/. LA FERMETÉ; la voix du peuple est supérieu...</td>\n",
       "      <td>DC13</td>\n",
       "      <td>5</td>\n",
       "    </tr>\n",
       "    <tr>\n",
       "      <th>4</th>\n",
       "      <td>4</td>\n",
       "      <td>1-10092</td>\n",
       "      <td>Lutte contre extrémismes</td>\n",
       "      <td>1/. LA FERMETÉ; la voix du peuple est supérieu...</td>\n",
       "      <td>DC13</td>\n",
       "      <td>2</td>\n",
       "    </tr>\n",
       "  </tbody>\n",
       "</table>\n",
       "</div>"
      ],
      "text/plain": [
       "   Unnamed: 0 contribution                                               tag  \\\n",
       "0           0      1-10005                                            Y Rien   \n",
       "1           1      1-10092                      Aucun financement par l'Etat   \n",
       "2           2      1-10092                      Garantir la liberté de culte   \n",
       "3           3      1-10092  Loi de la République avant celles de la religion   \n",
       "4           4      1-10092                          Lutte contre extrémismes   \n",
       "\n",
       "                                              corpus id_elf  count  \n",
       "0                                                nsp   DC13      1  \n",
       "1  1/. LA FERMETÉ; la voix du peuple est supérieu...   DC13      1  \n",
       "2  1/. LA FERMETÉ; la voix du peuple est supérieu...   DC13      1  \n",
       "3  1/. LA FERMETÉ; la voix du peuple est supérieu...   DC13      5  \n",
       "4  1/. LA FERMETÉ; la voix du peuple est supérieu...   DC13      2  "
      ]
     },
     "execution_count": 8,
     "metadata": {},
     "output_type": "execute_result"
    }
   ],
   "source": [
    "df.head()"
   ]
  },
  {
   "cell_type": "code",
   "execution_count": 9,
   "metadata": {
    "ExecuteTime": {
     "end_time": "2019-03-09T09:48:42.685618Z",
     "start_time": "2019-03-09T09:48:42.682184Z"
    }
   },
   "outputs": [],
   "source": [
    "ohe = OneHotEncoder()\n",
    "le = LabelEncoder()"
   ]
  },
  {
   "cell_type": "code",
   "execution_count": 10,
   "metadata": {
    "ExecuteTime": {
     "end_time": "2019-03-09T09:52:30.374671Z",
     "start_time": "2019-03-09T09:52:30.369895Z"
    }
   },
   "outputs": [],
   "source": [
    "def tokenize(s):\n",
    "    return [elt.strip() for elt in s.split(\";\")]"
   ]
  },
  {
   "cell_type": "code",
   "execution_count": 11,
   "metadata": {
    "ExecuteTime": {
     "end_time": "2019-03-09T09:52:37.999541Z",
     "start_time": "2019-03-09T09:52:37.923342Z"
    }
   },
   "outputs": [],
   "source": [
    "all_labels = list(set(itertools.chain.from_iterable(df.tag)))                "
   ]
  },
  {
   "cell_type": "code",
   "execution_count": 12,
   "metadata": {
    "ExecuteTime": {
     "end_time": "2019-03-09T10:05:54.867331Z",
     "start_time": "2019-03-09T10:05:54.863552Z"
    }
   },
   "outputs": [],
   "source": [
    "target = []"
   ]
  },
  {
   "cell_type": "code",
   "execution_count": 13,
   "metadata": {
    "ExecuteTime": {
     "end_time": "2019-03-09T10:05:58.942348Z",
     "start_time": "2019-03-09T10:05:58.939587Z"
    }
   },
   "outputs": [],
   "source": [
    "from tqdm import tqdm "
   ]
  },
  {
   "cell_type": "code",
   "execution_count": 14,
   "metadata": {
    "ExecuteTime": {
     "end_time": "2019-03-09T10:06:10.062192Z",
     "start_time": "2019-03-09T10:06:02.588767Z"
    }
   },
   "outputs": [
    {
     "name": "stderr",
     "output_type": "stream",
     "text": [
      "0it [00:00, ?it/s]\n"
     ]
    },
    {
     "ename": "AttributeError",
     "evalue": "'Series' object has no attribute 'categories'",
     "output_type": "error",
     "traceback": [
      "\u001b[0;31m---------------------------------------------------------------------------\u001b[0m",
      "\u001b[0;31mAttributeError\u001b[0m                            Traceback (most recent call last)",
      "\u001b[0;32m<ipython-input-14-7012b7470067>\u001b[0m in \u001b[0;36m<module>\u001b[0;34m\u001b[0m\n\u001b[1;32m      1\u001b[0m \u001b[0;32mfor\u001b[0m \u001b[0mr\u001b[0m\u001b[0;34m,\u001b[0m \u001b[0mrow\u001b[0m \u001b[0;32min\u001b[0m \u001b[0mtqdm\u001b[0m\u001b[0;34m(\u001b[0m\u001b[0mdf\u001b[0m\u001b[0;34m.\u001b[0m\u001b[0miterrows\u001b[0m\u001b[0;34m(\u001b[0m\u001b[0;34m)\u001b[0m\u001b[0;34m)\u001b[0m\u001b[0;34m:\u001b[0m\u001b[0;34m\u001b[0m\u001b[0;34m\u001b[0m\u001b[0m\n\u001b[1;32m      2\u001b[0m     cat_ = np.sum([ohe.transform(le.transform([elt]).reshape(-1,1)).todense()\n\u001b[0;32m----> 3\u001b[0;31m                                       for elt in tokenize(row.categories)], axis=0)\n\u001b[0m\u001b[1;32m      4\u001b[0m     \u001b[0mtarget\u001b[0m\u001b[0;34m.\u001b[0m\u001b[0mappend\u001b[0m\u001b[0;34m(\u001b[0m\u001b[0mcat_\u001b[0m\u001b[0;34m[\u001b[0m\u001b[0;36m0\u001b[0m\u001b[0;34m]\u001b[0m\u001b[0;34m)\u001b[0m\u001b[0;34m\u001b[0m\u001b[0;34m\u001b[0m\u001b[0m\n",
      "\u001b[0;32m/anaconda3/envs/elfrance/lib/python3.7/site-packages/pandas/core/generic.py\u001b[0m in \u001b[0;36m__getattr__\u001b[0;34m(self, name)\u001b[0m\n\u001b[1;32m   5055\u001b[0m             \u001b[0;32mif\u001b[0m \u001b[0mself\u001b[0m\u001b[0;34m.\u001b[0m\u001b[0m_info_axis\u001b[0m\u001b[0;34m.\u001b[0m\u001b[0m_can_hold_identifiers_and_holds_name\u001b[0m\u001b[0;34m(\u001b[0m\u001b[0mname\u001b[0m\u001b[0;34m)\u001b[0m\u001b[0;34m:\u001b[0m\u001b[0;34m\u001b[0m\u001b[0;34m\u001b[0m\u001b[0m\n\u001b[1;32m   5056\u001b[0m                 \u001b[0;32mreturn\u001b[0m \u001b[0mself\u001b[0m\u001b[0;34m[\u001b[0m\u001b[0mname\u001b[0m\u001b[0;34m]\u001b[0m\u001b[0;34m\u001b[0m\u001b[0;34m\u001b[0m\u001b[0m\n\u001b[0;32m-> 5057\u001b[0;31m             \u001b[0;32mreturn\u001b[0m \u001b[0mobject\u001b[0m\u001b[0;34m.\u001b[0m\u001b[0m__getattribute__\u001b[0m\u001b[0;34m(\u001b[0m\u001b[0mself\u001b[0m\u001b[0;34m,\u001b[0m \u001b[0mname\u001b[0m\u001b[0;34m)\u001b[0m\u001b[0;34m\u001b[0m\u001b[0;34m\u001b[0m\u001b[0m\n\u001b[0m\u001b[1;32m   5058\u001b[0m \u001b[0;34m\u001b[0m\u001b[0m\n\u001b[1;32m   5059\u001b[0m     \u001b[0;32mdef\u001b[0m \u001b[0m__setattr__\u001b[0m\u001b[0;34m(\u001b[0m\u001b[0mself\u001b[0m\u001b[0;34m,\u001b[0m \u001b[0mname\u001b[0m\u001b[0;34m,\u001b[0m \u001b[0mvalue\u001b[0m\u001b[0;34m)\u001b[0m\u001b[0;34m:\u001b[0m\u001b[0;34m\u001b[0m\u001b[0;34m\u001b[0m\u001b[0m\n",
      "\u001b[0;31mAttributeError\u001b[0m: 'Series' object has no attribute 'categories'"
     ]
    }
   ],
   "source": [
    "for r, row in tqdm(df.iterrows()):\n",
    "    cat_ = np.sum([ohe.transform(le.transform([elt]).reshape(-1,1)).todense()\n",
    "                                      for elt in tokenize(row.categories)], axis=0)\n",
    "    target.append(cat_[0])"
   ]
  },
  {
   "cell_type": "code",
   "execution_count": 15,
   "metadata": {
    "ExecuteTime": {
     "end_time": "2019-03-09T10:06:17.588585Z",
     "start_time": "2019-03-09T10:06:17.578891Z"
    }
   },
   "outputs": [],
   "source": [
    "y = np.asarray(target)"
   ]
  },
  {
   "cell_type": "code",
   "execution_count": 16,
   "metadata": {
    "ExecuteTime": {
     "end_time": "2019-03-09T10:10:20.641208Z",
     "start_time": "2019-03-09T10:10:20.635972Z"
    }
   },
   "outputs": [],
   "source": [
    "from sklearn.multioutput import MultiOutputClassifier\n",
    "from sklearn.tree import DecisionTreeClassifier"
   ]
  },
  {
   "cell_type": "code",
   "execution_count": 17,
   "metadata": {
    "ExecuteTime": {
     "end_time": "2019-03-09T10:10:35.203816Z",
     "start_time": "2019-03-09T10:10:35.200060Z"
    }
   },
   "outputs": [],
   "source": [
    "classifier = DecisionTreeClassifier()"
   ]
  },
  {
   "cell_type": "code",
   "execution_count": 18,
   "metadata": {
    "ExecuteTime": {
     "end_time": "2019-03-09T10:14:45.317744Z",
     "start_time": "2019-03-09T10:14:45.314024Z"
    }
   },
   "outputs": [],
   "source": [
    "moc = MultiOutputClassifier(classifier, n_jobs=-1)"
   ]
  },
  {
   "cell_type": "code",
   "execution_count": 19,
   "metadata": {
    "ExecuteTime": {
     "end_time": "2019-03-09T10:11:38.995539Z",
     "start_time": "2019-03-09T10:11:38.991745Z"
    }
   },
   "outputs": [],
   "source": [
    "from sklearn.feature_extraction.text import TfidfVectorizer"
   ]
  },
  {
   "cell_type": "code",
   "execution_count": 20,
   "metadata": {
    "ExecuteTime": {
     "end_time": "2019-03-09T10:12:54.917721Z",
     "start_time": "2019-03-09T10:12:54.905595Z"
    }
   },
   "outputs": [],
   "source": [
    "tfidf = TfidfVectorizer(max_features=1000)"
   ]
  },
  {
   "cell_type": "code",
   "execution_count": 21,
   "metadata": {
    "ExecuteTime": {
     "end_time": "2019-03-09T10:14:22.577005Z",
     "start_time": "2019-03-09T10:14:19.699564Z"
    }
   },
   "outputs": [],
   "source": [
    "X = tfidf.fit_transform(df.corpus.tolist()).todense()"
   ]
  },
  {
   "cell_type": "code",
   "execution_count": 22,
   "metadata": {
    "ExecuteTime": {
     "end_time": "2019-03-09T10:13:23.640212Z",
     "start_time": "2019-03-09T10:13:23.635299Z"
    }
   },
   "outputs": [],
   "source": [
    "from sklearn.model_selection import train_test_split"
   ]
  },
  {
   "cell_type": "code",
   "execution_count": 25,
   "metadata": {
    "ExecuteTime": {
     "end_time": "2019-03-09T10:14:26.777143Z",
     "start_time": "2019-03-09T10:14:26.711361Z"
    }
   },
   "outputs": [
    {
     "ename": "ValueError",
     "evalue": "Found input variables with inconsistent numbers of samples: [1883, 0]",
     "output_type": "error",
     "traceback": [
      "\u001b[0;31m---------------------------------------------------------------------------\u001b[0m",
      "\u001b[0;31mValueError\u001b[0m                                Traceback (most recent call last)",
      "\u001b[0;32m<ipython-input-25-462c3120ceb9>\u001b[0m in \u001b[0;36m<module>\u001b[0;34m\u001b[0m\n\u001b[0;32m----> 1\u001b[0;31m \u001b[0mX_train\u001b[0m\u001b[0;34m,\u001b[0m \u001b[0mX_test\u001b[0m\u001b[0;34m,\u001b[0m \u001b[0my_train\u001b[0m\u001b[0;34m,\u001b[0m \u001b[0my_test\u001b[0m \u001b[0;34m=\u001b[0m \u001b[0mtrain_test_split\u001b[0m\u001b[0;34m(\u001b[0m\u001b[0mX\u001b[0m\u001b[0;34m,\u001b[0m \u001b[0my\u001b[0m\u001b[0;34m)\u001b[0m\u001b[0;34m\u001b[0m\u001b[0;34m\u001b[0m\u001b[0m\n\u001b[0m",
      "\u001b[0;32m/anaconda3/envs/elfrance/lib/python3.7/site-packages/sklearn/model_selection/_split.py\u001b[0m in \u001b[0;36mtrain_test_split\u001b[0;34m(*arrays, **options)\u001b[0m\n\u001b[1;32m   2182\u001b[0m         \u001b[0mtest_size\u001b[0m \u001b[0;34m=\u001b[0m \u001b[0;36m0.25\u001b[0m\u001b[0;34m\u001b[0m\u001b[0;34m\u001b[0m\u001b[0m\n\u001b[1;32m   2183\u001b[0m \u001b[0;34m\u001b[0m\u001b[0m\n\u001b[0;32m-> 2184\u001b[0;31m     \u001b[0marrays\u001b[0m \u001b[0;34m=\u001b[0m \u001b[0mindexable\u001b[0m\u001b[0;34m(\u001b[0m\u001b[0;34m*\u001b[0m\u001b[0marrays\u001b[0m\u001b[0;34m)\u001b[0m\u001b[0;34m\u001b[0m\u001b[0;34m\u001b[0m\u001b[0m\n\u001b[0m\u001b[1;32m   2185\u001b[0m \u001b[0;34m\u001b[0m\u001b[0m\n\u001b[1;32m   2186\u001b[0m     \u001b[0;32mif\u001b[0m \u001b[0mshuffle\u001b[0m \u001b[0;32mis\u001b[0m \u001b[0;32mFalse\u001b[0m\u001b[0;34m:\u001b[0m\u001b[0;34m\u001b[0m\u001b[0;34m\u001b[0m\u001b[0m\n",
      "\u001b[0;32m/anaconda3/envs/elfrance/lib/python3.7/site-packages/sklearn/utils/validation.py\u001b[0m in \u001b[0;36mindexable\u001b[0;34m(*iterables)\u001b[0m\n\u001b[1;32m    258\u001b[0m         \u001b[0;32melse\u001b[0m\u001b[0;34m:\u001b[0m\u001b[0;34m\u001b[0m\u001b[0;34m\u001b[0m\u001b[0m\n\u001b[1;32m    259\u001b[0m             \u001b[0mresult\u001b[0m\u001b[0;34m.\u001b[0m\u001b[0mappend\u001b[0m\u001b[0;34m(\u001b[0m\u001b[0mnp\u001b[0m\u001b[0;34m.\u001b[0m\u001b[0marray\u001b[0m\u001b[0;34m(\u001b[0m\u001b[0mX\u001b[0m\u001b[0;34m)\u001b[0m\u001b[0;34m)\u001b[0m\u001b[0;34m\u001b[0m\u001b[0;34m\u001b[0m\u001b[0m\n\u001b[0;32m--> 260\u001b[0;31m     \u001b[0mcheck_consistent_length\u001b[0m\u001b[0;34m(\u001b[0m\u001b[0;34m*\u001b[0m\u001b[0mresult\u001b[0m\u001b[0;34m)\u001b[0m\u001b[0;34m\u001b[0m\u001b[0;34m\u001b[0m\u001b[0m\n\u001b[0m\u001b[1;32m    261\u001b[0m     \u001b[0;32mreturn\u001b[0m \u001b[0mresult\u001b[0m\u001b[0;34m\u001b[0m\u001b[0;34m\u001b[0m\u001b[0m\n\u001b[1;32m    262\u001b[0m \u001b[0;34m\u001b[0m\u001b[0m\n",
      "\u001b[0;32m/anaconda3/envs/elfrance/lib/python3.7/site-packages/sklearn/utils/validation.py\u001b[0m in \u001b[0;36mcheck_consistent_length\u001b[0;34m(*arrays)\u001b[0m\n\u001b[1;32m    233\u001b[0m     \u001b[0;32mif\u001b[0m \u001b[0mlen\u001b[0m\u001b[0;34m(\u001b[0m\u001b[0muniques\u001b[0m\u001b[0;34m)\u001b[0m \u001b[0;34m>\u001b[0m \u001b[0;36m1\u001b[0m\u001b[0;34m:\u001b[0m\u001b[0;34m\u001b[0m\u001b[0;34m\u001b[0m\u001b[0m\n\u001b[1;32m    234\u001b[0m         raise ValueError(\"Found input variables with inconsistent numbers of\"\n\u001b[0;32m--> 235\u001b[0;31m                          \" samples: %r\" % [int(l) for l in lengths])\n\u001b[0m\u001b[1;32m    236\u001b[0m \u001b[0;34m\u001b[0m\u001b[0m\n\u001b[1;32m    237\u001b[0m \u001b[0;34m\u001b[0m\u001b[0m\n",
      "\u001b[0;31mValueError\u001b[0m: Found input variables with inconsistent numbers of samples: [1883, 0]"
     ]
    }
   ],
   "source": [
    "X_train, X_test, y_train, y_test = train_test_split(X, y)"
   ]
  },
  {
   "cell_type": "code",
   "execution_count": 24,
   "metadata": {
    "ExecuteTime": {
     "end_time": "2019-03-09T10:15:41.817413Z",
     "start_time": "2019-03-09T10:14:50.043764Z"
    }
   },
   "outputs": [
    {
     "ename": "NameError",
     "evalue": "name 'X_train' is not defined",
     "output_type": "error",
     "traceback": [
      "\u001b[0;31m---------------------------------------------------------------------------\u001b[0m",
      "\u001b[0;31mNameError\u001b[0m                                 Traceback (most recent call last)",
      "\u001b[0;32m<ipython-input-24-f8eef3edcae8>\u001b[0m in \u001b[0;36m<module>\u001b[0;34m\u001b[0m\n\u001b[0;32m----> 1\u001b[0;31m \u001b[0mmoc\u001b[0m\u001b[0;34m.\u001b[0m\u001b[0mfit\u001b[0m\u001b[0;34m(\u001b[0m\u001b[0mX_train\u001b[0m\u001b[0;34m,\u001b[0m \u001b[0my_train\u001b[0m\u001b[0;34m)\u001b[0m\u001b[0;34m\u001b[0m\u001b[0;34m\u001b[0m\u001b[0m\n\u001b[0m",
      "\u001b[0;31mNameError\u001b[0m: name 'X_train' is not defined"
     ]
    }
   ],
   "source": [
    "moc.fit(X_train, y_train)"
   ]
  },
  {
   "cell_type": "code",
   "execution_count": 125,
   "metadata": {
    "ExecuteTime": {
     "end_time": "2019-03-09T10:15:56.795819Z",
     "start_time": "2019-03-09T10:15:56.602768Z"
    }
   },
   "outputs": [],
   "source": [
    "prediction = moc.predict(X_test)"
   ]
  },
  {
   "cell_type": "code",
   "execution_count": 129,
   "metadata": {
    "ExecuteTime": {
     "end_time": "2019-03-09T10:16:15.241421Z",
     "start_time": "2019-03-09T10:16:15.236145Z"
    }
   },
   "outputs": [
    {
     "data": {
      "text/plain": [
       "(2307,)"
      ]
     },
     "execution_count": 129,
     "metadata": {},
     "output_type": "execute_result"
    }
   ],
   "source": [
    "prediction.sum(axis=1).shape"
   ]
  },
  {
   "cell_type": "code",
   "execution_count": 131,
   "metadata": {
    "ExecuteTime": {
     "end_time": "2019-03-09T10:16:33.017708Z",
     "start_time": "2019-03-09T10:16:33.012394Z"
    }
   },
   "outputs": [
    {
     "data": {
      "text/plain": [
       "(2307,)"
      ]
     },
     "execution_count": 131,
     "metadata": {},
     "output_type": "execute_result"
    }
   ],
   "source": [
    "y_test.sum(axis=1).shape"
   ]
  },
  {
   "cell_type": "code",
   "execution_count": 132,
   "metadata": {
    "ExecuteTime": {
     "end_time": "2019-03-09T10:17:01.689053Z",
     "start_time": "2019-03-09T10:17:01.438809Z"
    }
   },
   "outputs": [
    {
     "data": {
      "text/plain": [
       "0.1187689640225401"
      ]
     },
     "execution_count": 132,
     "metadata": {},
     "output_type": "execute_result"
    }
   ],
   "source": [
    "moc.score(X_test, y_test)"
   ]
  },
  {
   "cell_type": "code",
   "execution_count": 151,
   "metadata": {
    "ExecuteTime": {
     "end_time": "2019-03-09T10:27:46.506654Z",
     "start_time": "2019-03-09T10:27:46.318360Z"
    },
    "scrolled": false
   },
   "outputs": [
    {
     "name": "stdout",
     "output_type": "stream",
     "text": [
      "['A Aucun élu']\n",
      "[[1947  126]\n",
      " [ 134  100]]\n",
      "              precision    recall  f1-score   support\n",
      "\n",
      "         0.0       0.94      0.94      0.94      2073\n",
      "         1.0       0.44      0.43      0.43       234\n",
      "\n",
      "   micro avg       0.89      0.89      0.89      2307\n",
      "   macro avg       0.69      0.68      0.69      2307\n",
      "weighted avg       0.89      0.89      0.89      2307\n",
      "\n",
      "['A Moi-même ou personne']\n",
      "[[1708  200]\n",
      " [ 176  223]]\n",
      "              precision    recall  f1-score   support\n",
      "\n",
      "         0.0       0.91      0.90      0.90      1908\n",
      "         1.0       0.53      0.56      0.54       399\n",
      "\n",
      "   micro avg       0.84      0.84      0.84      2307\n",
      "   macro avg       0.72      0.73      0.72      2307\n",
      "weighted avg       0.84      0.84      0.84      2307\n",
      "\n",
      "[\"Annuler l'élection si fort\"]\n",
      "[[2132   84]\n",
      " [  87    4]]\n",
      "              precision    recall  f1-score   support\n",
      "\n",
      "         0.0       0.96      0.96      0.96      2216\n",
      "         1.0       0.05      0.04      0.04        91\n",
      "\n",
      "   micro avg       0.93      0.93      0.93      2307\n",
      "   macro avg       0.50      0.50      0.50      2307\n",
      "weighted avg       0.92      0.93      0.93      2307\n",
      "\n",
      "['Application loi 1905']\n",
      "[[2190   46]\n",
      " [  67    4]]\n",
      "              precision    recall  f1-score   support\n",
      "\n",
      "         0.0       0.97      0.98      0.97      2236\n",
      "         1.0       0.08      0.06      0.07        71\n",
      "\n",
      "   micro avg       0.95      0.95      0.95      2307\n",
      "   macro avg       0.53      0.52      0.52      2307\n",
      "weighted avg       0.94      0.95      0.95      2307\n",
      "\n",
      "['Associations, ONG']\n",
      "[[2224   53]\n",
      " [  30    0]]\n",
      "              precision    recall  f1-score   support\n",
      "\n",
      "         0.0       0.99      0.98      0.98      2277\n",
      "         1.0       0.00      0.00      0.00        30\n",
      "\n",
      "   micro avg       0.96      0.96      0.96      2307\n",
      "   macro avg       0.49      0.49      0.49      2307\n",
      "weighted avg       0.97      0.96      0.97      2307\n",
      "\n",
      "['Compter comme exprimé']\n",
      "[[1861  214]\n",
      " [ 209   23]]\n",
      "              precision    recall  f1-score   support\n",
      "\n",
      "         0.0       0.90      0.90      0.90      2075\n",
      "         1.0       0.10      0.10      0.10       232\n",
      "\n",
      "   micro avg       0.82      0.82      0.82      2307\n",
      "   macro avg       0.50      0.50      0.50      2307\n",
      "weighted avg       0.82      0.82      0.82      2307\n",
      "\n",
      "['Dialogue, débat, concertation']\n",
      "[[2191   66]\n",
      " [  46    4]]\n",
      "              precision    recall  f1-score   support\n",
      "\n",
      "         0.0       0.98      0.97      0.98      2257\n",
      "         1.0       0.06      0.08      0.07        50\n",
      "\n",
      "   micro avg       0.95      0.95      0.95      2307\n",
      "   macro avg       0.52      0.53      0.52      2307\n",
      "weighted avg       0.96      0.95      0.96      2307\n",
      "\n",
      "['Démocratie directe (referendum, consultation)']\n",
      "[[2182   65]\n",
      " [  56    4]]\n",
      "              precision    recall  f1-score   support\n",
      "\n",
      "         0.0       0.97      0.97      0.97      2247\n",
      "         1.0       0.06      0.07      0.06        60\n",
      "\n",
      "   micro avg       0.95      0.95      0.95      2307\n",
      "   macro avg       0.52      0.52      0.52      2307\n",
      "weighted avg       0.95      0.95      0.95      2307\n",
      "\n",
      "['Députés, assemblée']\n",
      "[[1930  161]\n",
      " [ 156   60]]\n",
      "              precision    recall  f1-score   support\n",
      "\n",
      "         0.0       0.93      0.92      0.92      2091\n",
      "         1.0       0.27      0.28      0.27       216\n",
      "\n",
      "   micro avg       0.86      0.86      0.86      2307\n",
      "   macro avg       0.60      0.60      0.60      2307\n",
      "weighted avg       0.86      0.86      0.86      2307\n",
      "\n",
      "['Elus locaux']\n",
      "[[2114   85]\n",
      " [  96   12]]\n",
      "              precision    recall  f1-score   support\n",
      "\n",
      "         0.0       0.96      0.96      0.96      2199\n",
      "         1.0       0.12      0.11      0.12       108\n",
      "\n",
      "   micro avg       0.92      0.92      0.92      2307\n",
      "   macro avg       0.54      0.54      0.54      2307\n",
      "weighted avg       0.92      0.92      0.92      2307\n",
      "\n",
      "['Exemplarité, honnêteté des élus']\n",
      "[[2209   56]\n",
      " [  41    1]]\n",
      "              precision    recall  f1-score   support\n",
      "\n",
      "         0.0       0.98      0.98      0.98      2265\n",
      "         1.0       0.02      0.02      0.02        42\n",
      "\n",
      "   micro avg       0.96      0.96      0.96      2307\n",
      "   macro avg       0.50      0.50      0.50      2307\n",
      "weighted avg       0.96      0.96      0.96      2307\n",
      "\n",
      "['Maires et communes']\n",
      "[[1609  224]\n",
      " [ 212  262]]\n",
      "              precision    recall  f1-score   support\n",
      "\n",
      "         0.0       0.88      0.88      0.88      1833\n",
      "         1.0       0.54      0.55      0.55       474\n",
      "\n",
      "   micro avg       0.81      0.81      0.81      2307\n",
      "   macro avg       0.71      0.72      0.71      2307\n",
      "weighted avg       0.81      0.81      0.81      2307\n",
      "\n",
      "['Plus de transparence']\n",
      "[[2227   34]\n",
      " [  45    1]]\n",
      "              precision    recall  f1-score   support\n",
      "\n",
      "         0.0       0.98      0.98      0.98      2261\n",
      "         1.0       0.03      0.02      0.02        46\n",
      "\n",
      "   micro avg       0.97      0.97      0.97      2307\n",
      "   macro avg       0.50      0.50      0.50      2307\n",
      "weighted avg       0.96      0.97      0.96      2307\n",
      "\n",
      "['Plus proche des gens']\n",
      "[[2177   70]\n",
      " [  56    4]]\n",
      "              precision    recall  f1-score   support\n",
      "\n",
      "         0.0       0.97      0.97      0.97      2247\n",
      "         1.0       0.05      0.07      0.06        60\n",
      "\n",
      "   micro avg       0.95      0.95      0.95      2307\n",
      "   macro avg       0.51      0.52      0.52      2307\n",
      "weighted avg       0.95      0.95      0.95      2307\n",
      "\n",
      "['Président de la République']\n",
      "[[2224   35]\n",
      " [  41    7]]\n",
      "              precision    recall  f1-score   support\n",
      "\n",
      "         0.0       0.98      0.98      0.98      2259\n",
      "         1.0       0.17      0.15      0.16        48\n",
      "\n",
      "   micro avg       0.97      0.97      0.97      2307\n",
      "   macro avg       0.57      0.57      0.57      2307\n",
      "weighted avg       0.96      0.97      0.97      2307\n",
      "\n",
      "['Q Dose de proportionnelle']\n",
      "[[1724  200]\n",
      " [ 225  158]]\n",
      "              precision    recall  f1-score   support\n",
      "\n",
      "         0.0       0.88      0.90      0.89      1924\n",
      "         1.0       0.44      0.41      0.43       383\n",
      "\n",
      "   micro avg       0.82      0.82      0.82      2307\n",
      "   macro avg       0.66      0.65      0.66      2307\n",
      "weighted avg       0.81      0.82      0.81      2307\n",
      "\n",
      "['Q Proportionnelle']\n",
      "[[1487  281]\n",
      " [ 258  281]]\n",
      "              precision    recall  f1-score   support\n",
      "\n",
      "         0.0       0.85      0.84      0.85      1768\n",
      "         1.0       0.50      0.52      0.51       539\n",
      "\n",
      "   micro avg       0.77      0.77      0.77      2307\n",
      "   macro avg       0.68      0.68      0.68      2307\n",
      "weighted avg       0.77      0.77      0.77      2307\n",
      "\n",
      "['Société civile, citoyens']\n",
      "[[2217   46]\n",
      " [  38    6]]\n",
      "              precision    recall  f1-score   support\n",
      "\n",
      "         0.0       0.98      0.98      0.98      2263\n",
      "         1.0       0.12      0.14      0.12        44\n",
      "\n",
      "   micro avg       0.96      0.96      0.96      2307\n",
      "   macro avg       0.55      0.56      0.55      2307\n",
      "weighted avg       0.97      0.96      0.97      2307\n",
      "\n",
      "['Tous les élus']\n",
      "[[2010  131]\n",
      " [ 135   31]]\n",
      "              precision    recall  f1-score   support\n",
      "\n",
      "         0.0       0.94      0.94      0.94      2141\n",
      "         1.0       0.19      0.19      0.19       166\n",
      "\n",
      "   micro avg       0.88      0.88      0.88      2307\n",
      "   macro avg       0.56      0.56      0.56      2307\n",
      "weighted avg       0.88      0.88      0.88      2307\n",
      "\n",
      "['W Proximité']\n",
      "[[2156   86]\n",
      " [  59    6]]\n",
      "              precision    recall  f1-score   support\n",
      "\n",
      "         0.0       0.97      0.96      0.97      2242\n",
      "         1.0       0.07      0.09      0.08        65\n",
      "\n",
      "   micro avg       0.94      0.94      0.94      2307\n",
      "   macro avg       0.52      0.53      0.52      2307\n",
      "weighted avg       0.95      0.94      0.94      2307\n",
      "\n"
     ]
    },
    {
     "name": "stderr",
     "output_type": "stream",
     "text": [
      "/Users/raphael.courivaud/anaconda3/lib/python3.6/site-packages/sklearn/preprocessing/label.py:273: DataConversionWarning: A column-vector y was passed when a 1d array was expected. Please change the shape of y to (n_samples, ), for example using ravel().\n",
      "  y = column_or_1d(y, warn=True)\n",
      "/Users/raphael.courivaud/anaconda3/lib/python3.6/site-packages/sklearn/preprocessing/label.py:273: DataConversionWarning: A column-vector y was passed when a 1d array was expected. Please change the shape of y to (n_samples, ), for example using ravel().\n",
      "  y = column_or_1d(y, warn=True)\n",
      "/Users/raphael.courivaud/anaconda3/lib/python3.6/site-packages/sklearn/preprocessing/label.py:273: DataConversionWarning: A column-vector y was passed when a 1d array was expected. Please change the shape of y to (n_samples, ), for example using ravel().\n",
      "  y = column_or_1d(y, warn=True)\n",
      "/Users/raphael.courivaud/anaconda3/lib/python3.6/site-packages/sklearn/preprocessing/label.py:273: DataConversionWarning: A column-vector y was passed when a 1d array was expected. Please change the shape of y to (n_samples, ), for example using ravel().\n",
      "  y = column_or_1d(y, warn=True)\n",
      "/Users/raphael.courivaud/anaconda3/lib/python3.6/site-packages/sklearn/preprocessing/label.py:273: DataConversionWarning: A column-vector y was passed when a 1d array was expected. Please change the shape of y to (n_samples, ), for example using ravel().\n",
      "  y = column_or_1d(y, warn=True)\n",
      "/Users/raphael.courivaud/anaconda3/lib/python3.6/site-packages/sklearn/preprocessing/label.py:273: DataConversionWarning: A column-vector y was passed when a 1d array was expected. Please change the shape of y to (n_samples, ), for example using ravel().\n",
      "  y = column_or_1d(y, warn=True)\n",
      "/Users/raphael.courivaud/anaconda3/lib/python3.6/site-packages/sklearn/preprocessing/label.py:273: DataConversionWarning: A column-vector y was passed when a 1d array was expected. Please change the shape of y to (n_samples, ), for example using ravel().\n",
      "  y = column_or_1d(y, warn=True)\n",
      "/Users/raphael.courivaud/anaconda3/lib/python3.6/site-packages/sklearn/preprocessing/label.py:273: DataConversionWarning: A column-vector y was passed when a 1d array was expected. Please change the shape of y to (n_samples, ), for example using ravel().\n",
      "  y = column_or_1d(y, warn=True)\n",
      "/Users/raphael.courivaud/anaconda3/lib/python3.6/site-packages/sklearn/preprocessing/label.py:273: DataConversionWarning: A column-vector y was passed when a 1d array was expected. Please change the shape of y to (n_samples, ), for example using ravel().\n",
      "  y = column_or_1d(y, warn=True)\n",
      "/Users/raphael.courivaud/anaconda3/lib/python3.6/site-packages/sklearn/preprocessing/label.py:273: DataConversionWarning: A column-vector y was passed when a 1d array was expected. Please change the shape of y to (n_samples, ), for example using ravel().\n",
      "  y = column_or_1d(y, warn=True)\n",
      "/Users/raphael.courivaud/anaconda3/lib/python3.6/site-packages/sklearn/preprocessing/label.py:273: DataConversionWarning: A column-vector y was passed when a 1d array was expected. Please change the shape of y to (n_samples, ), for example using ravel().\n",
      "  y = column_or_1d(y, warn=True)\n",
      "/Users/raphael.courivaud/anaconda3/lib/python3.6/site-packages/sklearn/preprocessing/label.py:273: DataConversionWarning: A column-vector y was passed when a 1d array was expected. Please change the shape of y to (n_samples, ), for example using ravel().\n",
      "  y = column_or_1d(y, warn=True)\n",
      "/Users/raphael.courivaud/anaconda3/lib/python3.6/site-packages/sklearn/preprocessing/label.py:273: DataConversionWarning: A column-vector y was passed when a 1d array was expected. Please change the shape of y to (n_samples, ), for example using ravel().\n",
      "  y = column_or_1d(y, warn=True)\n",
      "/Users/raphael.courivaud/anaconda3/lib/python3.6/site-packages/sklearn/preprocessing/label.py:273: DataConversionWarning: A column-vector y was passed when a 1d array was expected. Please change the shape of y to (n_samples, ), for example using ravel().\n",
      "  y = column_or_1d(y, warn=True)\n",
      "/Users/raphael.courivaud/anaconda3/lib/python3.6/site-packages/sklearn/preprocessing/label.py:273: DataConversionWarning: A column-vector y was passed when a 1d array was expected. Please change the shape of y to (n_samples, ), for example using ravel().\n",
      "  y = column_or_1d(y, warn=True)\n",
      "/Users/raphael.courivaud/anaconda3/lib/python3.6/site-packages/sklearn/preprocessing/label.py:273: DataConversionWarning: A column-vector y was passed when a 1d array was expected. Please change the shape of y to (n_samples, ), for example using ravel().\n",
      "  y = column_or_1d(y, warn=True)\n",
      "/Users/raphael.courivaud/anaconda3/lib/python3.6/site-packages/sklearn/preprocessing/label.py:273: DataConversionWarning: A column-vector y was passed when a 1d array was expected. Please change the shape of y to (n_samples, ), for example using ravel().\n",
      "  y = column_or_1d(y, warn=True)\n",
      "/Users/raphael.courivaud/anaconda3/lib/python3.6/site-packages/sklearn/preprocessing/label.py:273: DataConversionWarning: A column-vector y was passed when a 1d array was expected. Please change the shape of y to (n_samples, ), for example using ravel().\n",
      "  y = column_or_1d(y, warn=True)\n",
      "/Users/raphael.courivaud/anaconda3/lib/python3.6/site-packages/sklearn/preprocessing/label.py:273: DataConversionWarning: A column-vector y was passed when a 1d array was expected. Please change the shape of y to (n_samples, ), for example using ravel().\n",
      "  y = column_or_1d(y, warn=True)\n",
      "/Users/raphael.courivaud/anaconda3/lib/python3.6/site-packages/sklearn/preprocessing/label.py:273: DataConversionWarning: A column-vector y was passed when a 1d array was expected. Please change the shape of y to (n_samples, ), for example using ravel().\n",
      "  y = column_or_1d(y, warn=True)\n"
     ]
    }
   ],
   "source": [
    "for i in range(y_test.shape[1]):\n",
    "    y_dim = y_test[:,i]\n",
    "    pred_dim = prediction[:,i]\n",
    "    \n",
    "    dim = np.zeros(y.shape[1])\n",
    "    dim[i]=1\n",
    "    print(le.inverse_transform(ohe.inverse_transform([dim])))\n",
    "    \n",
    "    print(confusion_matrix(y_dim, pred_dim))\n",
    "    print(classification_report(y_dim, pred_dim))"
   ]
  },
  {
   "cell_type": "code",
   "execution_count": 134,
   "metadata": {
    "ExecuteTime": {
     "end_time": "2019-03-09T10:18:52.188639Z",
     "start_time": "2019-03-09T10:18:52.183268Z"
    }
   },
   "outputs": [
    {
     "data": {
      "text/plain": [
       "(2307, 20)"
      ]
     },
     "execution_count": 134,
     "metadata": {},
     "output_type": "execute_result"
    }
   ],
   "source": [
    "y_test.shape"
   ]
  },
  {
   "cell_type": "code",
   "execution_count": null,
   "metadata": {},
   "outputs": [],
   "source": []
  }
 ],
 "metadata": {
  "kernelspec": {
   "display_name": "Python 3",
   "language": "python",
   "name": "python3"
  },
  "language_info": {
   "codemirror_mode": {
    "name": "ipython",
    "version": 3
   },
   "file_extension": ".py",
   "mimetype": "text/x-python",
   "name": "python",
   "nbconvert_exporter": "python",
   "pygments_lexer": "ipython3",
   "version": "3.7.2"
  },
  "varInspector": {
   "cols": {
    "lenName": 16,
    "lenType": 16,
    "lenVar": 40
   },
   "kernels_config": {
    "python": {
     "delete_cmd_postfix": "",
     "delete_cmd_prefix": "del ",
     "library": "var_list.py",
     "varRefreshCmd": "print(var_dic_list())"
    },
    "r": {
     "delete_cmd_postfix": ") ",
     "delete_cmd_prefix": "rm(",
     "library": "var_list.r",
     "varRefreshCmd": "cat(var_dic_list()) "
    }
   },
   "types_to_exclude": [
    "module",
    "function",
    "builtin_function_or_method",
    "instance",
    "_Feature"
   ],
   "window_display": false
  }
 },
 "nbformat": 4,
 "nbformat_minor": 2
}
