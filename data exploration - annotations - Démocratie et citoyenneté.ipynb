{
 "cells": [
  {
   "cell_type": "code",
   "execution_count": 1,
   "metadata": {},
   "outputs": [],
   "source": [
    "import pandas as pd\n",
    "import numpy as np\n",
    "from matplotlib import pyplot as plt\n",
    "from collections import Counter\n",
    "import matplotlib.pylab as plt"
   ]
  },
  {
   "cell_type": "code",
   "execution_count": 2,
   "metadata": {},
   "outputs": [],
   "source": [
    "get_ipython().config.get('IPKernelApp', {})['parent_appname'] = \"\""
   ]
  },
  {
   "cell_type": "code",
   "execution_count": 3,
   "metadata": {},
   "outputs": [
    {
     "name": "stderr",
     "output_type": "stream",
     "text": [
      "/anaconda3/envs/elfrance/lib/python3.7/site-packages/IPython/core/interactiveshell.py:3020: DtypeWarning: Columns (7) have mixed types. Specify dtype option on import or set low_memory=False.\n",
      "  interactivity=interactivity, compiler=compiler, result=result)\n"
     ]
    }
   ],
   "source": [
    "answers_grand_debat = pd.read_csv('raw/DEMOCRATIE_ET_CITOYENNETE.csv', encoding=\"utf-8\").drop_duplicates(keep=False)\n",
    "answers_annotees = pd.read_csv('raw/actions.csv', encoding=\"utf-8\").rename(columns={'Contribution': 'reference'})\n",
    "answers_grand_debat = pd.merge(answers_annotees, answers_grand_debat, on='reference')"
   ]
  },
  {
   "cell_type": "code",
   "execution_count": 4,
   "metadata": {},
   "outputs": [],
   "source": [
    "question_titles = [\n",
    "    \"QUXVlc3Rpb246MTA3 - En qui faites-vous le plus confiance pour vous faire représenter dans la société et pourquoi ?\",\n",
    "    \"QUXVlc3Rpb246MTA4 - En dehors des élus politiques, faut-il donner un rôle plus important aux associations et aux organisations syndicales et professionnelles ?\",\n",
    "    \"QUXVlc3Rpb246MTA5 - Si oui, à quel type d'associations ou d'organisations ? Et avec quel rôle ?\",\n",
    "    \"QUXVlc3Rpb246MTEw - Que faudrait-il faire pour renouer le lien entre les citoyens et les élus qui les représentent ?\",\n",
    "    \"QUXVlc3Rpb246MTEx - Le non-cumul des mandats instauré en 2017 pour les parlementaires (députés et sénateurs) est :\",\n",
    "    \"QUXVlc3Rpb246MTEy - Pourquoi ?\",\n",
    "    \"QUXVlc3Rpb246MTEz - Que faudrait-il faire pour mieux représenter les différentes sensibilités politiques ?\",\n",
    "    \"QUXVlc3Rpb246MTE0 - Pensez-vous qu'il serait souhaitable de réduire le nombre d'élus (hors députés et sénateurs) ?\",\n",
    "    \"QUXVlc3Rpb246MTE1 - Si oui, lesquels ?\",\n",
    "    \"QUXVlc3Rpb246MTE2 - Que pensez-vous de la participation des citoyens aux élections et comment les inciter à y participer davantage ?\",\n",
    "    \"QUXVlc3Rpb246MTE3 - Faut-il prendre en compte le vote blanc ?\",\n",
    "    \"QUXVlc3Rpb246MTE4 - Si oui, de quelle manière ?\",\n",
    "    \"QUXVlc3Rpb246MTE5 - Que faudrait-il faire aujourd'hui pour mieux associer les citoyens aux grandes orientations et à la décision publique ? Comment mettre en place une démocratie plus participative ?\",\n",
    "    \"QUXVlc3Rpb246MTIw - Faut-il faciliter le déclenchement du référendum d'initiative partagée (le RIP est organisé à l'initiative de membres du Parlement soutenu par une partie du corps électoral) qui est applicable depuis 2015 ?\",\n",
    "    \"QUXVlc3Rpb246MTIx - Si oui, comment ?\",\n",
    "    \"QUXVlc3Rpb246MTIy - Que faudrait-il faire pour consulter plus directement les citoyens sur l'utilisation de l'argent public, par l'Etat et les collectivités ?\",\n",
    "    \"QUXVlc3Rpb246MTIz - Quel rôle nos assemblées, dont le Sénat et le Conseil économique, social et environnemental, doivent-elles jouer pour représenter nos territoires et la société civile ?\",\n",
    "    \"QUXVlc3Rpb246MTI0 - Faut-il les transformer ?\",\n",
    "    \"QUXVlc3Rpb246MTI1 - Si oui, comment ?\",\n",
    "    \"QUXVlc3Rpb246MTI3 - Que proposez-vous pour renforcer les principes de la laïcité dans le rapport entre l'Etat et les religions de notre pays ?\",\n",
    "    \"QUXVlc3Rpb246MTI4 - Comment garantir le respect par tous de la compréhension réciproque et des valeurs intangibles de la République ?\",\n",
    "    \"QUXVlc3Rpb246MTI5 - Que faudrait-il faire aujourd'hui pour renforcer l'engagement citoyen dans la société ?\",\n",
    "    \"QUXVlc3Rpb246MTMw - Quels sont les comportements civiques qu'il faut promouvoir dans notre vie quotidienne ou collective ?\",\n",
    "    \"QUXVlc3Rpb246MTMx - Que faudrait-il faire pour favoriser le développement de ces comportements civiques et par quels engagements concrets chacun peut-il y participer ?\",\n",
    "    \"QUXVlc3Rpb246MTMy - Que faudrait-il faire pour valoriser l'engagement citoyen dans les parcours de vie, dans les relations avec l'administration et les pouvoirs publics ?\",\n",
    "    \"QUXVlc3Rpb246MTMz - Quelles sont les incivilités les plus pénibles dans la vie quotidienne et que faudrait-il faire pour lutter contre ces incivilités ?\",\n",
    "    \"QUXVlc3Rpb246MTM0 - Que peuvent et doivent faire les pouvoirs publics pour répondre aux incivilités ?\",\n",
    "    \"QUXVlc3Rpb246MTM1 - Quel pourrait être le rôle de chacun pour faire reculer les incivilités dans la société ?\",\n",
    "    \"QUXVlc3Rpb246MTM2 - Quelles sont les discriminations les plus répandues dont vous êtes témoin ou victime ?\",\n",
    "    \"QUXVlc3Rpb246MTM3 - Que faudrait-il faire pour lutter contre ces discriminations et construire une société plus solidaire et plus tolérante ?\",\n",
    "    \"QUXVlc3Rpb246MTM4 - Pensez-vous qu'il faille instaurer des contreparties aux différentes allocations de solidarité ?\",\n",
    "    \"QUXVlc3Rpb246MTM5 - Si oui, lesquelles ?\",\n",
    "    \"QUXVlc3Rpb246MTQx - Que pensez-vous de la situation de l'immigration en France aujourd'hui et de la politique migratoire ? Quelles sont, selon vous, les critères à mettre en place pour définir la politique migratoire ?\",\n",
    "    \"QUXVlc3Rpb246MTQy - En matière d'immigration, une fois nos obligations d'asile remplies, souhaitez-vous que nous puissions nous fixer des objectifs annuels définis par le Parlement ?\",\n",
    "    \"QUXVlc3Rpb246MTQz - Que proposez-vous afin de répondre à ce défi qui va durer ?\",\n",
    "    \"QUXVlc3Rpb246MTQ0 - Quelles sont, selon vous, les modalités d'intégration les plus efficaces et les plus justes à mettre en place aujourd'hui dans la société ?\",\n",
    "    \"QUXVlc3Rpb246MTQ1 - Y a-t-il d'autres points sur la démocratie et la citoyenneté sur lesquels vous souhaiteriez vous exprimer ?\"\n",
    "]\n",
    "answers_grand_debat['corpus'] = answers_grand_debat[['title'] + question_titles].fillna('').astype(str).apply(lambda x: ' '.join(x), axis=1)\n",
    "answers_grand_debat = answers_grand_debat.drop(['title'] + question_titles,axis=1)"
   ]
  },
  {
   "cell_type": "code",
   "execution_count": 5,
   "metadata": {},
   "outputs": [],
   "source": [
    "removed_categories = ['Z Autres', 'Sans réponse / Hors sujet / Inclassable', 'Y Rien']\n",
    "answers_grand_debat_light = answers_grand_debat[['reference', 'Categorie', 'corpus']][~answers_grand_debat['Categorie'].isin(removed_categories)]"
   ]
  },
  {
   "cell_type": "code",
   "execution_count": 6,
   "metadata": {},
   "outputs": [],
   "source": [
    "allowed_categories_tuples = Counter(answers_grand_debat_light['Categorie']).most_common(20)\n",
    "allowed_categories = [element[0] for element in allowed_categories_tuples]\n",
    "answers_grand_debat_light = answers_grand_debat_light[answers_grand_debat_light['Categorie'].isin(allowed_categories)]"
   ]
  },
  {
   "cell_type": "code",
   "execution_count": 7,
   "metadata": {},
   "outputs": [
    {
     "name": "stdout",
     "output_type": "stream",
     "text": [
      "['Q Proportionnelle', 'Maires et communes', 'A Moi-même ou personne', 'Q Dose de proportionnelle', 'Députés, assemblée', 'Compter comme exprimé', 'Tous les élus', 'A Aucun élu', \"Annuler l'élection si fort\", 'Elus locaux', 'Démocratie directe (referendum, consultation)', 'W Proximité', 'Application loi 1905', 'Plus proche des gens', 'Dialogue, débat, concertation', 'Président de la République', 'Exemplarité, honnêteté des élus', 'Société civile, citoyens', 'Associations, ONG', 'Plus de transparence']\n",
      "20\n",
      "39558\n"
     ]
    }
   ],
   "source": [
    "print(allowed_categories)\n",
    "print(len(allowed_categories))\n",
    "print(len(answers_grand_debat_light))"
   ]
  },
  {
   "cell_type": "code",
   "execution_count": 8,
   "metadata": {},
   "outputs": [
    {
     "data": {
      "text/plain": [
       "9228"
      ]
     },
     "execution_count": 8,
     "metadata": {},
     "output_type": "execute_result"
    }
   ],
   "source": [
    "answers_grand_debat_input = pd.DataFrame({'categories' : answers_grand_debat_light.groupby( ['reference', 'corpus'] ).apply(lambda x: '; '.join(x.Categorie.unique()))}).reset_index()\n",
    "len(answers_grand_debat_input)"
   ]
  },
  {
   "cell_type": "code",
   "execution_count": 9,
   "metadata": {},
   "outputs": [],
   "source": [
    "answers_grand_debat_input.to_csv('preprocessed/reponses_annotees_multilabel.csv', sep='\\t', encoding='utf-8')"
   ]
  },
  {
   "cell_type": "code",
   "execution_count": null,
   "metadata": {},
   "outputs": [],
   "source": []
  }
 ],
 "metadata": {
  "kernelspec": {
   "display_name": "Python 3",
   "language": "python",
   "name": "python3"
  },
  "language_info": {
   "codemirror_mode": {
    "name": "ipython",
    "version": 3
   },
   "file_extension": ".py",
   "mimetype": "text/x-python",
   "name": "python",
   "nbconvert_exporter": "python",
   "pygments_lexer": "ipython3",
   "version": "3.7.2"
  }
 },
 "nbformat": 4,
 "nbformat_minor": 2
}
