{
 "cells": [
  {
   "cell_type": "code",
   "execution_count": 1,
   "metadata": {},
   "outputs": [],
   "source": [
    "# spaCy based imports\n",
    "import spacy\n",
    "nlp = spacy.load('fr_core_news_sm')"
   ]
  },
  {
   "cell_type": "code",
   "execution_count": 2,
   "metadata": {},
   "outputs": [],
   "source": [
    "# Usual imports \n",
    "import pandas as pd\n",
    "from tqdm import tqdm, tqdm_notebook\n",
    "\n",
    "# NLP imports\n",
    "from nltk.corpus import stopwords\n",
    "from nltk.tokenize import word_tokenize\n",
    "from french_lefff_lemmatizer.french_lefff_lemmatizer import FrenchLefffLemmatizer\n",
    "import stop_words\n",
    "import re, sys\n",
    "from gensim.models import phrases, Phrases"
   ]
  },
  {
   "cell_type": "code",
   "execution_count": 3,
   "metadata": {},
   "outputs": [],
   "source": [
    "get_ipython().config.get('IPKernelApp', {})['parent_appname'] = \"\"\n",
    "pd.set_option('display.max_colwidth', -1)"
   ]
  },
  {
   "cell_type": "markdown",
   "metadata": {},
   "source": [
    "import nltk\n",
    "nltk.download('punkt')"
   ]
  },
  {
   "cell_type": "code",
   "execution_count": 4,
   "metadata": {},
   "outputs": [
    {
     "data": {
      "application/vnd.jupyter.widget-view+json": {
       "model_id": "140dc631bd3d4b14bc65ea3a4a2678b6",
       "version_major": 2,
       "version_minor": 0
      },
      "text/plain": [
       "HBox(children=(IntProgress(value=1, bar_style='info', max=1), HTML(value='')))"
      ]
     },
     "metadata": {},
     "output_type": "display_data"
    },
    {
     "data": {
      "text/plain": [
       "0it [00:00, ?it/s]"
      ]
     },
     "execution_count": 4,
     "metadata": {},
     "output_type": "execute_result"
    }
   ],
   "source": [
    "tqdm.pandas()\n",
    "tqdm_notebook()"
   ]
  },
  {
   "cell_type": "code",
   "execution_count": 5,
   "metadata": {},
   "outputs": [
    {
     "data": {
      "text/plain": [
       "array(['Démocratie et citoyenneté', 'Impôts et dépenses publiques',\n",
       "       \"Organisation de l'Etat\", 'Contribution libre',\n",
       "       'Transition écologique'], dtype=object)"
      ]
     },
     "execution_count": 5,
     "metadata": {},
     "output_type": "execute_result"
    }
   ],
   "source": [
    "# Raw data imports\n",
    "answers = pd.read_csv('raw/answers.csv', encoding=\"utf-8\")\n",
    "answers['theme'].unique()"
   ]
  },
  {
   "cell_type": "code",
   "execution_count": 6,
   "metadata": {},
   "outputs": [],
   "source": [
    "sw = stop_words.get_stop_words(language='fr')"
   ]
  },
  {
   "cell_type": "code",
   "execution_count": 7,
   "metadata": {},
   "outputs": [],
   "source": [
    "answers['tokens'] = answers.answer.map(lambda text: [w for w in text.replace('.', '').replace(',', '').replace('!', '').split() if w])\n",
    "answers['tokens'] = answers.answer.map(lambda text: word_tokenize(text))\n",
    "answers['tokens_clean'] =  answers.tokens.map(\n",
    "                                    lambda tok: [t.lower() for t in re.split(\" \", re.sub(r\"(\\W+|_|\\d+)\", \" \", \" \".join(tok))) \\\n",
    "                                                 if t.lower() not in sw and len(t)>1]\n",
    "                        )\n",
    "answers['tokens_clean_joined'] =  answers.tokens_clean.map(lambda tok: ' '.join(tok))"
   ]
  },
  {
   "cell_type": "code",
   "execution_count": 9,
   "metadata": {},
   "outputs": [
    {
     "name": "stderr",
     "output_type": "stream",
     "text": [
      "100%|██████████| 19183/19183 [03:01<00:00, 105.44it/s]\n"
     ]
    }
   ],
   "source": [
    "lemmatizer = FrenchLefffLemmatizer()\n",
    "\n",
    "def lemmatize_answer(answer):\n",
    "    lemmatized_answer = ''\n",
    "    nlp_answer = nlp(answer)\n",
    "    for token in nlp_answer:\n",
    "        lemmatized_answer += lemmatizer.lemmatize(str(token)) + ' '\n",
    "    return lemmatized_answer\n",
    "\n",
    "tqdm.pandas()\n",
    "answers['lemmatized_answer'] = answers['tokens_clean_joined'].progress_apply(lemmatize_answer)"
   ]
  },
  {
   "cell_type": "code",
   "execution_count": 11,
   "metadata": {},
   "outputs": [],
   "source": [
    "answers.to_csv('preprocessed/answers_lemmatized.csv', sep='\\t', encoding='utf-8')"
   ]
  },
  {
   "cell_type": "code",
   "execution_count": null,
   "metadata": {},
   "outputs": [],
   "source": []
  }
 ],
 "metadata": {
  "kernelspec": {
   "display_name": "Python 3",
   "language": "python",
   "name": "python3"
  },
  "language_info": {
   "codemirror_mode": {
    "name": "ipython",
    "version": 3
   },
   "file_extension": ".py",
   "mimetype": "text/x-python",
   "name": "python",
   "nbconvert_exporter": "python",
   "pygments_lexer": "ipython3",
   "version": "3.7.2"
  }
 },
 "nbformat": 4,
 "nbformat_minor": 2
}
