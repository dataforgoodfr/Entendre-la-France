{
 "cells": [
  {
   "cell_type": "code",
   "execution_count": 38,
   "metadata": {},
   "outputs": [],
   "source": [
    "import pandas as pd\n",
    "import numpy as np\n",
    "from matplotlib import pyplot as plt\n",
    "from collections import Counter\n",
    "import matplotlib.pylab as plt"
   ]
  },
  {
   "cell_type": "code",
   "execution_count": 39,
   "metadata": {},
   "outputs": [],
   "source": [
    "get_ipython().config.get('IPKernelApp', {})['parent_appname'] = \"\""
   ]
  },
  {
   "cell_type": "code",
   "execution_count": 40,
   "metadata": {},
   "outputs": [],
   "source": [
    "# Import des questions"
   ]
  },
  {
   "cell_type": "code",
   "execution_count": 168,
   "metadata": {},
   "outputs": [],
   "source": [
    "answers_grand_debat_DEC_raw = pd.read_csv('raw/large_datasets_ELF/DEMOCRATIE_ET_CITOYENNETE.csv', encoding=\"utf-8\").drop_duplicates(keep=False)\n",
    "answers_grand_debat_FDP_raw = pd.read_csv('raw/large_datasets_ELF/LA_FISCALITE_ET_LES_DEPENSES_PUBLIQUES.csv', encoding=\"utf-8\").drop_duplicates(keep=False)"
   ]
  },
  {
   "cell_type": "code",
   "execution_count": 191,
   "metadata": {},
   "outputs": [],
   "source": [
    "def keep_popular_hashtags_by_question(dataframe):\n",
    "    for question in dataframe['id_elf'].unique():    \n",
    "        allowed_categories_tuples = Counter(dataframe[dataframe['id_elf'] == question]['Categorie']).most_common(20)\n",
    "        allowed_categories = [element[0] for element in allowed_categories_tuples]\n",
    "        dataframe = dataframe[(dataframe['id_elf'] != 'question') | (dataframe['Categorie'].isin(allowed_categories))]\n",
    "    return dataframe\n",
    "\n",
    "def process_LGD_dataset(raw_dataframe):\n",
    "    \"\"\"\n",
    "    \"\"\"\n",
    "    answers_annotees = pd.read_csv('raw/actions.csv', encoding=\"utf-8\").rename(columns={'Contribution': 'reference'})\n",
    "    raw_dataframe = pd.merge(answers_annotees, raw_dataframe, on='reference')\n",
    "    print(raw_dataframe.shape)\n",
    "    \n",
    "    questions_dictionary = pd.read_csv('raw/match_questions_ELF_LGA.csv', header=0)\n",
    "    raw_dataframe = pd.merge(raw_dataframe, questions_dictionary, left_on='Question', right_on='id_gda')\n",
    "    print(raw_dataframe.shape)\n",
    "\n",
    "    gda_dictionary = pd.read_csv('raw/matching_gda_id1_id2.csv', header=0)\n",
    "    raw_dataframe = pd.merge(raw_dataframe, gda_dictionary, left_on='id_gda', right_on='id1_gda')\n",
    "    print(raw_dataframe.shape)\n",
    "    \n",
    "    raw_dataframe[\"corpus\"] = None\n",
    "    \n",
    "    for index, row in raw_dataframe.iterrows():\n",
    "        raw_dataframe.at[index,'corpus'] = raw_dataframe.loc[index][raw_dataframe.filter(like=row['id2_gda']).columns[0]]\n",
    "\n",
    "    raw_dataframe = raw_dataframe[['reference', 'id_elf', 'corpus', 'Categorie', 'Annotateur']]\n",
    "    \n",
    "    removed_categories = ['Z Autres', 'Sans réponse / Hors sujet / Inclassable']\n",
    "    raw_dataframe = raw_dataframe[~raw_dataframe['Categorie'].isin(removed_categories)]\n",
    "    print(raw_dataframe.shape)\n",
    "    \n",
    "    raw_dataframe = keep_popular_hashtags_by_question(raw_dataframe)\n",
    "    print(raw_dataframe.shape)\n",
    "    \n",
    "    raw_dataframe = pd.DataFrame({'count' : raw_dataframe.groupby( ['reference', 'Categorie', 'corpus', 'id_elf'] ).apply(lambda x: x.Annotateur.nunique())}).reset_index()\n",
    "    print(raw_dataframe.shape)\n",
    "    \n",
    "    return raw_dataframe\n",
    "    "
   ]
  },
  {
   "cell_type": "code",
   "execution_count": 196,
   "metadata": {},
   "outputs": [
    {
     "name": "stdout",
     "output_type": "stream",
     "text": [
      "(56677, 53)\n",
      "(5918, 55)\n",
      "(5918, 57)\n",
      "(4679, 5)\n",
      "(4679, 5)\n",
      "(1883, 5)\n"
     ]
    }
   ],
   "source": [
    "dataframe = process_LGD_dataset(answers_grand_debat_DEC_raw)"
   ]
  },
  {
   "cell_type": "code",
   "execution_count": 197,
   "metadata": {},
   "outputs": [
    {
     "data": {
      "text/html": [
       "<div>\n",
       "<style scoped>\n",
       "    .dataframe tbody tr th:only-of-type {\n",
       "        vertical-align: middle;\n",
       "    }\n",
       "\n",
       "    .dataframe tbody tr th {\n",
       "        vertical-align: top;\n",
       "    }\n",
       "\n",
       "    .dataframe thead th {\n",
       "        text-align: right;\n",
       "    }\n",
       "</style>\n",
       "<table border=\"1\" class=\"dataframe\">\n",
       "  <thead>\n",
       "    <tr style=\"text-align: right;\">\n",
       "      <th></th>\n",
       "      <th>reference</th>\n",
       "      <th>Categorie</th>\n",
       "      <th>corpus</th>\n",
       "      <th>id_elf</th>\n",
       "      <th>count</th>\n",
       "    </tr>\n",
       "  </thead>\n",
       "  <tbody>\n",
       "    <tr>\n",
       "      <th>0</th>\n",
       "      <td>1-10005</td>\n",
       "      <td>Y Rien</td>\n",
       "      <td>nsp</td>\n",
       "      <td>DC13</td>\n",
       "      <td>1</td>\n",
       "    </tr>\n",
       "    <tr>\n",
       "      <th>1</th>\n",
       "      <td>1-10092</td>\n",
       "      <td>Aucun financement par l'Etat</td>\n",
       "      <td>1/. LA FERMETÉ; la voix du peuple est supérieu...</td>\n",
       "      <td>DC13</td>\n",
       "      <td>1</td>\n",
       "    </tr>\n",
       "    <tr>\n",
       "      <th>2</th>\n",
       "      <td>1-10092</td>\n",
       "      <td>Garantir la liberté de culte</td>\n",
       "      <td>1/. LA FERMETÉ; la voix du peuple est supérieu...</td>\n",
       "      <td>DC13</td>\n",
       "      <td>1</td>\n",
       "    </tr>\n",
       "    <tr>\n",
       "      <th>3</th>\n",
       "      <td>1-10092</td>\n",
       "      <td>Loi de la République avant celles de la religion</td>\n",
       "      <td>1/. LA FERMETÉ; la voix du peuple est supérieu...</td>\n",
       "      <td>DC13</td>\n",
       "      <td>5</td>\n",
       "    </tr>\n",
       "    <tr>\n",
       "      <th>4</th>\n",
       "      <td>1-10092</td>\n",
       "      <td>Lutte contre extrémismes</td>\n",
       "      <td>1/. LA FERMETÉ; la voix du peuple est supérieu...</td>\n",
       "      <td>DC13</td>\n",
       "      <td>2</td>\n",
       "    </tr>\n",
       "  </tbody>\n",
       "</table>\n",
       "</div>"
      ],
      "text/plain": [
       "  reference                                         Categorie  \\\n",
       "0   1-10005                                            Y Rien   \n",
       "1   1-10092                      Aucun financement par l'Etat   \n",
       "2   1-10092                      Garantir la liberté de culte   \n",
       "3   1-10092  Loi de la République avant celles de la religion   \n",
       "4   1-10092                          Lutte contre extrémismes   \n",
       "\n",
       "                                              corpus id_elf  count  \n",
       "0                                                nsp   DC13      1  \n",
       "1  1/. LA FERMETÉ; la voix du peuple est supérieu...   DC13      1  \n",
       "2  1/. LA FERMETÉ; la voix du peuple est supérieu...   DC13      1  \n",
       "3  1/. LA FERMETÉ; la voix du peuple est supérieu...   DC13      5  \n",
       "4  1/. LA FERMETÉ; la voix du peuple est supérieu...   DC13      2  "
      ]
     },
     "execution_count": 197,
     "metadata": {},
     "output_type": "execute_result"
    }
   ],
   "source": [
    "dataframe.head()"
   ]
  },
  {
   "cell_type": "code",
   "execution_count": 198,
   "metadata": {},
   "outputs": [],
   "source": [
    "answers_grand_debat_input = dataframe.rename(columns={'reference': 'contribution', 'Categorie': 'tag'})\n",
    "answers_grand_debat_input.to_csv('preprocessed/reponses_annotees_multilabel_FDP.csv', sep='\\t', encoding='utf-8')"
   ]
  },
  {
   "cell_type": "code",
   "execution_count": 199,
   "metadata": {},
   "outputs": [
    {
     "data": {
      "text/html": [
       "<div>\n",
       "<style scoped>\n",
       "    .dataframe tbody tr th:only-of-type {\n",
       "        vertical-align: middle;\n",
       "    }\n",
       "\n",
       "    .dataframe tbody tr th {\n",
       "        vertical-align: top;\n",
       "    }\n",
       "\n",
       "    .dataframe thead th {\n",
       "        text-align: right;\n",
       "    }\n",
       "</style>\n",
       "<table border=\"1\" class=\"dataframe\">\n",
       "  <thead>\n",
       "    <tr style=\"text-align: right;\">\n",
       "      <th></th>\n",
       "      <th>contribution</th>\n",
       "      <th>tag</th>\n",
       "      <th>corpus</th>\n",
       "      <th>id_elf</th>\n",
       "      <th>count</th>\n",
       "    </tr>\n",
       "  </thead>\n",
       "  <tbody>\n",
       "    <tr>\n",
       "      <th>0</th>\n",
       "      <td>1-10005</td>\n",
       "      <td>Y Rien</td>\n",
       "      <td>nsp</td>\n",
       "      <td>DC13</td>\n",
       "      <td>1</td>\n",
       "    </tr>\n",
       "    <tr>\n",
       "      <th>1</th>\n",
       "      <td>1-10092</td>\n",
       "      <td>Aucun financement par l'Etat</td>\n",
       "      <td>1/. LA FERMETÉ; la voix du peuple est supérieu...</td>\n",
       "      <td>DC13</td>\n",
       "      <td>1</td>\n",
       "    </tr>\n",
       "    <tr>\n",
       "      <th>2</th>\n",
       "      <td>1-10092</td>\n",
       "      <td>Garantir la liberté de culte</td>\n",
       "      <td>1/. LA FERMETÉ; la voix du peuple est supérieu...</td>\n",
       "      <td>DC13</td>\n",
       "      <td>1</td>\n",
       "    </tr>\n",
       "    <tr>\n",
       "      <th>3</th>\n",
       "      <td>1-10092</td>\n",
       "      <td>Loi de la République avant celles de la religion</td>\n",
       "      <td>1/. LA FERMETÉ; la voix du peuple est supérieu...</td>\n",
       "      <td>DC13</td>\n",
       "      <td>5</td>\n",
       "    </tr>\n",
       "    <tr>\n",
       "      <th>4</th>\n",
       "      <td>1-10092</td>\n",
       "      <td>Lutte contre extrémismes</td>\n",
       "      <td>1/. LA FERMETÉ; la voix du peuple est supérieu...</td>\n",
       "      <td>DC13</td>\n",
       "      <td>2</td>\n",
       "    </tr>\n",
       "  </tbody>\n",
       "</table>\n",
       "</div>"
      ],
      "text/plain": [
       "  contribution                                               tag  \\\n",
       "0      1-10005                                            Y Rien   \n",
       "1      1-10092                      Aucun financement par l'Etat   \n",
       "2      1-10092                      Garantir la liberté de culte   \n",
       "3      1-10092  Loi de la République avant celles de la religion   \n",
       "4      1-10092                          Lutte contre extrémismes   \n",
       "\n",
       "                                              corpus id_elf  count  \n",
       "0                                                nsp   DC13      1  \n",
       "1  1/. LA FERMETÉ; la voix du peuple est supérieu...   DC13      1  \n",
       "2  1/. LA FERMETÉ; la voix du peuple est supérieu...   DC13      1  \n",
       "3  1/. LA FERMETÉ; la voix du peuple est supérieu...   DC13      5  \n",
       "4  1/. LA FERMETÉ; la voix du peuple est supérieu...   DC13      2  "
      ]
     },
     "execution_count": 199,
     "metadata": {},
     "output_type": "execute_result"
    }
   ],
   "source": [
    "answers_grand_debat_input.head()"
   ]
  },
  {
   "cell_type": "code",
   "execution_count": null,
   "metadata": {},
   "outputs": [],
   "source": []
  },
  {
   "cell_type": "code",
   "execution_count": null,
   "metadata": {},
   "outputs": [],
   "source": []
  }
 ],
 "metadata": {
  "kernelspec": {
   "display_name": "Python 3",
   "language": "python",
   "name": "python3"
  },
  "language_info": {
   "codemirror_mode": {
    "name": "ipython",
    "version": 3
   },
   "file_extension": ".py",
   "mimetype": "text/x-python",
   "name": "python",
   "nbconvert_exporter": "python",
   "pygments_lexer": "ipython3",
   "version": "3.7.2"
  }
 },
 "nbformat": 4,
 "nbformat_minor": 2
}
