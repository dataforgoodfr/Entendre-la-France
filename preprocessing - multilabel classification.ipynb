{
 "cells": [
  {
   "cell_type": "code",
   "execution_count": 39,
   "metadata": {},
   "outputs": [],
   "source": [
    "import pandas as pd\n",
    "import numpy as np\n",
    "from matplotlib import pyplot as plt\n",
    "from collections import Counter\n",
    "import matplotlib.pylab as plt"
   ]
  },
  {
   "cell_type": "code",
   "execution_count": 3,
   "metadata": {},
   "outputs": [],
   "source": [
    "get_ipython().config.get('IPKernelApp', {})['parent_appname'] = \"\""
   ]
  },
  {
   "cell_type": "code",
   "execution_count": 4,
   "metadata": {},
   "outputs": [],
   "source": [
    "# Import des questions"
   ]
  },
  {
   "cell_type": "code",
   "execution_count": 117,
   "metadata": {},
   "outputs": [],
   "source": [
    "answers_grand_debat_LTE_raw = pd.read_csv('raw/large_datasets_ELF/LA_TRANSITION_ECOLOGIQUE.csv', encoding=\"utf-8\").drop_duplicates(keep=False)\n",
    "answers_grand_debat_FDP_raw = pd.read_csv('raw/large_datasets_ELF/LA_FISCALITE_ET_LES_DEPENSES_PUBLIQUES.csv', encoding=\"utf-8\").drop_duplicates(keep=False)\n",
    "answers_grand_debat_ORG_raw = pd.read_csv('raw/large_datasets_ELF/ORGANISATION_DE_LETAT_ET_DES_SERVICES_PUBLICS.csv', encoding=\"utf-8\").drop_duplicates(keep=False)\n",
    "answers_grand_debat_DEC_raw = pd.read_csv('raw/large_datasets_ELF/DEMOCRATIE_ET_CITOYENNETE.csv', encoding=\"utf-8\").drop_duplicates(keep=False)"
   ]
  },
  {
   "cell_type": "code",
   "execution_count": 123,
   "metadata": {},
   "outputs": [],
   "source": [
    "def keep_popular_hashtags_by_question(dataframe):\n",
    "    allowed_categories_gda = []\n",
    "    print(dataframe['id_gda'].unique())\n",
    "    for question in dataframe['id_gda'].unique():\n",
    "        allowed_categories_tuples = Counter(dataframe[dataframe['id_gda'] == question]['Categorie']).most_common(20)\n",
    "        allowed_categories_gda += [(question, element[0], element[1]) for element in allowed_categories_tuples]\n",
    "    for question in dataframe['id_elf'].unique():    \n",
    "        allowed_categories_tuples = Counter(dataframe[dataframe['id_elf'] == question]['Categorie']).most_common(20)\n",
    "        allowed_categories = [element[0] for element in allowed_categories_tuples]\n",
    "        dataframe = dataframe[(dataframe['id_elf'] != 'question') | (dataframe['Categorie'].isin(allowed_categories))]\n",
    "    return dataframe, allowed_categories_gda\n",
    "\n",
    "def process_LGD_dataset(raw_dataframe):\n",
    "    \"\"\"\n",
    "    \"\"\"\n",
    "    answers_annotees = pd.read_csv('raw/actions.csv', encoding=\"utf-8\").rename(columns={'Contribution': 'reference'})\n",
    "    print(raw_dataframe.shape)\n",
    "    raw_dataframe = pd.merge(answers_annotees, raw_dataframe, on='reference')\n",
    "    if raw_dataframe.shape[0] == 0:\n",
    "        print(\"Empty records when matching on annotations\")\n",
    "        return None, None\n",
    "    \n",
    "    questions_dictionary = pd.read_csv('raw/match_questions_ELF_LGA.csv', header=0)\n",
    "    raw_dataframe = pd.merge(raw_dataframe, questions_dictionary, left_on='Question', right_on='id_gda')\n",
    "    print(raw_dataframe.shape)\n",
    "\n",
    "    gda_dictionary = pd.read_csv('raw/matching_gda_id1_id2.csv', header=0)\n",
    "    raw_dataframe = pd.merge(raw_dataframe, gda_dictionary, left_on='id_gda', right_on='id1_gda')\n",
    "    print(raw_dataframe.shape)\n",
    "    \n",
    "    raw_dataframe[\"corpus\"] = None\n",
    "    \n",
    "    for index, row in raw_dataframe.iterrows():\n",
    "        raw_dataframe.at[index,'corpus'] = raw_dataframe.loc[index][raw_dataframe.filter(like=row['id2_gda']).columns[0]]\n",
    "\n",
    "    raw_dataframe = raw_dataframe[['reference', 'id_elf', 'corpus', 'Categorie', 'Annotateur', 'id_gda']]\n",
    "    \n",
    "    removed_categories = ['Z Autres', 'Sans réponse / Hors sujet / Inclassable']\n",
    "    raw_dataframe = raw_dataframe[~raw_dataframe['Categorie'].isin(removed_categories)]\n",
    "    print(raw_dataframe.shape)\n",
    "    \n",
    "    raw_dataframe, allowed_categories_gda = keep_popular_hashtags_by_question(raw_dataframe)\n",
    "    print(raw_dataframe.shape)\n",
    "    \n",
    "    raw_dataframe = pd.DataFrame({'count' : raw_dataframe.groupby( ['reference', 'Categorie', 'corpus', 'id_elf'] ).apply(lambda x: x.Annotateur.nunique())}).reset_index()\n",
    "    print(raw_dataframe.shape)\n",
    "    \n",
    "    return raw_dataframe.rename(columns={'reference': 'contribution', 'corpus': 'answer', 'Categorie': 'target', 'id_elf' : 'question'}), allowed_categories_gda\n",
    "    "
   ]
  },
  {
   "cell_type": "code",
   "execution_count": 129,
   "metadata": {},
   "outputs": [
    {
     "name": "stdout",
     "output_type": "stream",
     "text": [
      "(126165, 19)\n",
      "(23033, 26)\n",
      "(23033, 28)\n",
      "(18943, 6)\n",
      "[162 163]\n",
      "(18943, 6)\n",
      "(8857, 5)\n",
      "(99343, 27)\n",
      "(20296, 34)\n",
      "(20296, 36)\n",
      "(19039, 6)\n",
      "[149]\n",
      "(19039, 6)\n",
      "(6300, 5)\n",
      "(73746, 48)\n",
      "(5915, 55)\n",
      "(5915, 57)\n",
      "(4676, 6)\n",
      "[127]\n",
      "(4676, 6)\n",
      "(1882, 5)\n"
     ]
    }
   ],
   "source": [
    "answers_grand_debat_GDA_FDP, allowed_categories_gda_FDP = process_LGD_dataset(answers_grand_debat_FDP_raw)\n",
    "# answers_grand_debat_GDA_ORG, allowed_categories_gda_ORG = process_LGD_dataset(answers_grand_debat_ORG_raw)\n",
    "answers_grand_debat_GDA_LTE, allowed_categories_gda_LTE = process_LGD_dataset(answers_grand_debat_LTE_raw)\n",
    "answers_grand_debat_GDA_DEC, allowed_categories_gda_DEC = process_LGD_dataset(answers_grand_debat_DEC_raw)"
   ]
  },
  {
   "cell_type": "code",
   "execution_count": 130,
   "metadata": {},
   "outputs": [],
   "source": [
    "answers_grand_debat_GDA = pd.concat([answers_grand_debat_GDA_FDP, answers_grand_debat_GDA_DEC, answers_grand_debat_GDA_LTE])\n",
    "answers_grand_debat_GDA['source'] = 'GDA'"
   ]
  },
  {
   "cell_type": "code",
   "execution_count": 131,
   "metadata": {},
   "outputs": [],
   "source": [
    "answers_grand_debat_ELF = pd.read_csv(\"preprocessed/elf_tags_sample.csv\", sep=\";\").rename(columns={'reference': 'contribution', 'corpus': 'answer', 'tag': 'target', 'id_elf' : 'question'})\n",
    "answers_grand_debat_ELF['source'] = 'ELF'"
   ]
  },
  {
   "cell_type": "code",
   "execution_count": 132,
   "metadata": {},
   "outputs": [
    {
     "data": {
      "text/html": [
       "<div>\n",
       "<style scoped>\n",
       "    .dataframe tbody tr th:only-of-type {\n",
       "        vertical-align: middle;\n",
       "    }\n",
       "\n",
       "    .dataframe tbody tr th {\n",
       "        vertical-align: top;\n",
       "    }\n",
       "\n",
       "    .dataframe thead th {\n",
       "        text-align: right;\n",
       "    }\n",
       "</style>\n",
       "<table border=\"1\" class=\"dataframe\">\n",
       "  <thead>\n",
       "    <tr style=\"text-align: right;\">\n",
       "      <th></th>\n",
       "      <th>contribution</th>\n",
       "      <th>target</th>\n",
       "      <th>answer</th>\n",
       "      <th>question</th>\n",
       "      <th>count</th>\n",
       "      <th>source</th>\n",
       "    </tr>\n",
       "  </thead>\n",
       "  <tbody>\n",
       "    <tr>\n",
       "      <th>0</th>\n",
       "      <td>37 240</td>\n",
       "      <td>Le peuple pas responsable du problème écologique</td>\n",
       "      <td>Stopper toutes ces taxes et donner une autre i...</td>\n",
       "      <td>TE13</td>\n",
       "      <td>1</td>\n",
       "      <td>ELF</td>\n",
       "    </tr>\n",
       "    <tr>\n",
       "      <th>1</th>\n",
       "      <td>12 970</td>\n",
       "      <td>Etre plus à l'écoute</td>\n",
       "      <td>Avoir des représentants actif qui remontent et...</td>\n",
       "      <td>OE11</td>\n",
       "      <td>1</td>\n",
       "      <td>ELF</td>\n",
       "    </tr>\n",
       "    <tr>\n",
       "      <th>2</th>\n",
       "      <td>12 970</td>\n",
       "      <td>Plus de transparence</td>\n",
       "      <td>Avoir des représentants actif qui remontent et...</td>\n",
       "      <td>OE11</td>\n",
       "      <td>1</td>\n",
       "      <td>ELF</td>\n",
       "    </tr>\n",
       "    <tr>\n",
       "      <th>3</th>\n",
       "      <td>13 210</td>\n",
       "      <td>Incitations financières au lieu de taxes</td>\n",
       "      <td>Il faudrait pousser la création de beaucoup pl...</td>\n",
       "      <td>TE13</td>\n",
       "      <td>1</td>\n",
       "      <td>ELF</td>\n",
       "    </tr>\n",
       "    <tr>\n",
       "      <th>4</th>\n",
       "      <td>13 210</td>\n",
       "      <td>Développer les énergies renouvelables</td>\n",
       "      <td>Il faudrait pousser la création de beaucoup pl...</td>\n",
       "      <td>TE13</td>\n",
       "      <td>1</td>\n",
       "      <td>ELF</td>\n",
       "    </tr>\n",
       "  </tbody>\n",
       "</table>\n",
       "</div>"
      ],
      "text/plain": [
       "  contribution                                            target  \\\n",
       "0       37 240  Le peuple pas responsable du problème écologique   \n",
       "1       12 970                              Etre plus à l'écoute   \n",
       "2       12 970                              Plus de transparence   \n",
       "3       13 210          Incitations financières au lieu de taxes   \n",
       "4       13 210             Développer les énergies renouvelables   \n",
       "\n",
       "                                              answer question  count source  \n",
       "0  Stopper toutes ces taxes et donner une autre i...     TE13      1    ELF  \n",
       "1  Avoir des représentants actif qui remontent et...     OE11      1    ELF  \n",
       "2  Avoir des représentants actif qui remontent et...     OE11      1    ELF  \n",
       "3  Il faudrait pousser la création de beaucoup pl...     TE13      1    ELF  \n",
       "4  Il faudrait pousser la création de beaucoup pl...     TE13      1    ELF  "
      ]
     },
     "execution_count": 132,
     "metadata": {},
     "output_type": "execute_result"
    }
   ],
   "source": [
    "answers_grand_debat_ELF.head()"
   ]
  },
  {
   "cell_type": "code",
   "execution_count": 150,
   "metadata": {},
   "outputs": [],
   "source": [
    "answers_grand_debat = pd.concat([answers_grand_debat_ELF, answers_grand_debat_GDA])"
   ]
  },
  {
   "cell_type": "code",
   "execution_count": 159,
   "metadata": {},
   "outputs": [],
   "source": [
    "answers_grand_debat_sample = answers_grand_debat.groupby( ['question', 'answer'] ).apply(lambda x: x.target.unique()).reset_index()"
   ]
  },
  {
   "cell_type": "code",
   "execution_count": 160,
   "metadata": {},
   "outputs": [],
   "source": [
    "answers_grand_debat_sample = answers_grand_debat_sample.rename(columns={0: 'target'})"
   ]
  },
  {
   "cell_type": "code",
   "execution_count": 161,
   "metadata": {},
   "outputs": [
    {
     "data": {
      "text/html": [
       "<div>\n",
       "<style scoped>\n",
       "    .dataframe tbody tr th:only-of-type {\n",
       "        vertical-align: middle;\n",
       "    }\n",
       "\n",
       "    .dataframe tbody tr th {\n",
       "        vertical-align: top;\n",
       "    }\n",
       "\n",
       "    .dataframe thead th {\n",
       "        text-align: right;\n",
       "    }\n",
       "</style>\n",
       "<table border=\"1\" class=\"dataframe\">\n",
       "  <thead>\n",
       "    <tr style=\"text-align: right;\">\n",
       "      <th></th>\n",
       "      <th>question</th>\n",
       "      <th>answer</th>\n",
       "      <th>target</th>\n",
       "    </tr>\n",
       "  </thead>\n",
       "  <tbody>\n",
       "    <tr>\n",
       "      <th>0</th>\n",
       "      <td>DC11</td>\n",
       "      <td>Il faut que les citoyens qui ne participent pa...</td>\n",
       "      <td>[vote obligatoire, plus de référendums]</td>\n",
       "    </tr>\n",
       "    <tr>\n",
       "      <th>1</th>\n",
       "      <td>DC11</td>\n",
       "      <td>Mettre en place un vote par internet. Améliore...</td>\n",
       "      <td>[nouveau mode de scrutin (proportionnelle, etc...</td>\n",
       "    </tr>\n",
       "    <tr>\n",
       "      <th>2</th>\n",
       "      <td>DC11</td>\n",
       "      <td>Modifier la manière de voter pour que les élec...</td>\n",
       "      <td>[nouveau mode de scrutin (proportionnelle, etc.)]</td>\n",
       "    </tr>\n",
       "    <tr>\n",
       "      <th>3</th>\n",
       "      <td>DC11</td>\n",
       "      <td>Rendre les politiques plus crédibles et avoir ...</td>\n",
       "      <td>[respect des engagements des dirigeants politi...</td>\n",
       "    </tr>\n",
       "    <tr>\n",
       "      <th>4</th>\n",
       "      <td>DC13</td>\n",
       "      <td>-</td>\n",
       "      <td>[Y Rien]</td>\n",
       "    </tr>\n",
       "  </tbody>\n",
       "</table>\n",
       "</div>"
      ],
      "text/plain": [
       "  question                                             answer  \\\n",
       "0     DC11  Il faut que les citoyens qui ne participent pa...   \n",
       "1     DC11  Mettre en place un vote par internet. Améliore...   \n",
       "2     DC11  Modifier la manière de voter pour que les élec...   \n",
       "3     DC11  Rendre les politiques plus crédibles et avoir ...   \n",
       "4     DC13                                                  -   \n",
       "\n",
       "                                              target  \n",
       "0            [vote obligatoire, plus de référendums]  \n",
       "1  [nouveau mode de scrutin (proportionnelle, etc...  \n",
       "2  [nouveau mode de scrutin (proportionnelle, etc.)]  \n",
       "3  [respect des engagements des dirigeants politi...  \n",
       "4                                           [Y Rien]  "
      ]
     },
     "execution_count": 161,
     "metadata": {},
     "output_type": "execute_result"
    }
   ],
   "source": [
    "answers_grand_debat_sample.head()"
   ]
  },
  {
   "cell_type": "code",
   "execution_count": 162,
   "metadata": {},
   "outputs": [],
   "source": [
    "answers_grand_debat_sample.to_json('preprocessed/reponses_annotees_multilabel.json', orient = \"records\")"
   ]
  },
  {
   "cell_type": "code",
   "execution_count": null,
   "metadata": {},
   "outputs": [],
   "source": []
  }
 ],
 "metadata": {
  "kernelspec": {
   "display_name": "Python 3",
   "language": "python",
   "name": "python3"
  },
  "language_info": {
   "codemirror_mode": {
    "name": "ipython",
    "version": 3
   },
   "file_extension": ".py",
   "mimetype": "text/x-python",
   "name": "python",
   "nbconvert_exporter": "python",
   "pygments_lexer": "ipython3",
   "version": "3.7.2"
  }
 },
 "nbformat": 4,
 "nbformat_minor": 2
}
