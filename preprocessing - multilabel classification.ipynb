{
 "cells": [
  {
   "cell_type": "code",
   "execution_count": 34,
   "metadata": {},
   "outputs": [],
   "source": [
    "import pandas as pd\n",
    "import numpy as np\n",
    "from matplotlib import pyplot as plt\n",
    "from collections import Counter\n",
    "import matplotlib.pylab as plt"
   ]
  },
  {
   "cell_type": "code",
   "execution_count": 35,
   "metadata": {},
   "outputs": [],
   "source": [
    "get_ipython().config.get('IPKernelApp', {})['parent_appname'] = \"\""
   ]
  },
  {
   "cell_type": "code",
   "execution_count": 36,
   "metadata": {},
   "outputs": [],
   "source": [
    "# Import des questions"
   ]
  },
  {
   "cell_type": "code",
   "execution_count": 92,
   "metadata": {},
   "outputs": [
    {
     "name": "stderr",
     "output_type": "stream",
     "text": [
      "/anaconda3/envs/elfrance/lib/python3.7/site-packages/IPython/core/interactiveshell.py:3020: DtypeWarning: Columns (7) have mixed types. Specify dtype option on import or set low_memory=False.\n",
      "  interactivity=interactivity, compiler=compiler, result=result)\n"
     ]
    }
   ],
   "source": [
    "answers_grand_debat_LTE_raw = pd.read_csv('raw/large_datasets_ELF/LA_TRANSITION_ECOLOGIQUE.csv', encoding=\"utf-8\").drop_duplicates(keep=False)\n",
    "answers_grand_debat_FDP_raw = pd.read_csv('raw/large_datasets_ELF/LA_FISCALITE_ET_LES_DEPENSES_PUBLIQUES.csv', encoding=\"utf-8\").drop_duplicates(keep=False)\n",
    "answers_grand_debat_ORG_raw = pd.read_csv('raw/large_datasets_ELF/ORGANISATION_DE_LETAT_ET_DES_SERVICES_PUBLICS.csv', encoding=\"utf-8\").drop_duplicates(keep=False)\n",
    "answers_grand_debat_DEC_raw = pd.read_csv('raw/large_datasets_ELF/DEMOCRATIE_ET_CITOYENNETE.csv', encoding=\"utf-8\").drop_duplicates(keep=False)"
   ]
  },
  {
   "cell_type": "code",
   "execution_count": 95,
   "metadata": {},
   "outputs": [],
   "source": [
    "def keep_popular_hashtags_by_question(dataframe):\n",
    "    allowed_categories_gda = []\n",
    "    print(dataframe['id_gda'].unique())\n",
    "    for question in dataframe['id_gda'].unique():\n",
    "        allowed_categories_tuples = Counter(dataframe[dataframe['id_gda'] == question]['tag_elf']).most_common(20)\n",
    "        allowed_categories_gda += [(question, element[0], element[1]) for element in allowed_categories_tuples]\n",
    "    for question in dataframe['id_elf'].unique():    \n",
    "        allowed_categories_tuples = Counter(dataframe[dataframe['id_elf'] == question]['tag_elf']).most_common(20)\n",
    "        allowed_categories = [element[0] for element in allowed_categories_tuples]\n",
    "        dataframe = dataframe[(dataframe['id_elf'] != 'question') | (dataframe['tag_elf'].isin(allowed_categories))]\n",
    "    return dataframe, allowed_categories_gda\n",
    "\n",
    "def process_LGD_dataset(raw_dataframe):\n",
    "    \"\"\"\n",
    "    \"\"\"\n",
    "    answers_annotees = pd.read_csv('raw/actions.csv', encoding=\"utf-8\").rename(columns={'Contribution': 'reference'})\n",
    "    print(raw_dataframe.shape)\n",
    "    raw_dataframe = pd.merge(answers_annotees, raw_dataframe, on='reference')\n",
    "    if raw_dataframe.shape[0] == 0:\n",
    "        print(\"Empty records when matching on annotations\")\n",
    "        return None, None\n",
    "    \n",
    "    questions_dictionary = pd.read_csv('raw/match_questions_ELF_LGA.csv', header=0)\n",
    "    raw_dataframe = pd.merge(raw_dataframe, questions_dictionary, left_on='Question', right_on='id_gda')\n",
    "    print(raw_dataframe.shape)\n",
    "\n",
    "    gda_dictionary = pd.read_csv('raw/matching_gda_id1_id2.csv', header=0)\n",
    "    raw_dataframe = pd.merge(raw_dataframe, gda_dictionary, left_on='id_gda', right_on='id1_gda')\n",
    "    print(raw_dataframe.shape)\n",
    "    \n",
    "    raw_dataframe[\"corpus\"] = None\n",
    "    \n",
    "    for index, row in raw_dataframe.iterrows():\n",
    "        raw_dataframe.at[index,'corpus'] = raw_dataframe.loc[index][raw_dataframe.filter(like=row['id2_gda']).columns[0]]\n",
    "\n",
    "    raw_dataframe = raw_dataframe[['reference', 'id_elf', 'corpus', 'Categorie', 'Annotateur', 'id_gda']]\n",
    "    \n",
    "    tags_dictionary = pd.read_csv('raw/matching_tags_lga_elf.csv', sep=';')\n",
    "    raw_dataframe = pd.merge(raw_dataframe, tags_dictionary, left_on=['id_gda', 'Categorie'], right_on=['id_lga', 'tag_lga'])\n",
    "    print(raw_dataframe.shape)\n",
    "    \n",
    "    # raw_dataframe, allowed_categories_gda = keep_popular_hashtags_by_question(raw_dataframe)\n",
    "    # print(raw_dataframe.shape)\n",
    "    \n",
    "    raw_dataframe = pd.DataFrame({'count' : raw_dataframe.groupby( ['reference', 'tag_elf', 'corpus', 'id_elf'] ).apply(lambda x: x.Annotateur.nunique())}).reset_index()\n",
    "    print(raw_dataframe.shape)\n",
    "    \n",
    "    return raw_dataframe.rename(columns={'reference': 'contribution', 'corpus': 'answer', 'tag_elf': 'target', 'id_elf' : 'question'})\n",
    "    "
   ]
  },
  {
   "cell_type": "code",
   "execution_count": 97,
   "metadata": {},
   "outputs": [
    {
     "name": "stdout",
     "output_type": "stream",
     "text": [
      "(73746, 48)\n",
      "(5915, 55)\n",
      "(5915, 57)\n",
      "(2878, 9)\n",
      "(926, 5)\n",
      "(126165, 19)\n",
      "(23033, 26)\n",
      "(23033, 28)\n",
      "(17454, 9)\n",
      "(6804, 5)\n",
      "(99343, 27)\n",
      "(20296, 34)\n",
      "(20296, 36)\n",
      "(17896, 9)\n",
      "(5334, 5)\n"
     ]
    }
   ],
   "source": [
    "answers_grand_debat_GDA_DEC = process_LGD_dataset(answers_grand_debat_DEC_raw)\n",
    "answers_grand_debat_GDA_FDP = process_LGD_dataset(answers_grand_debat_FDP_raw)\n",
    "# answers_grand_debat_GDA_ORG, allowed_categories_gda_ORG = process_LGD_dataset(answers_grand_debat_ORG_raw)\n",
    "answers_grand_debat_GDA_LTE = process_LGD_dataset(answers_grand_debat_LTE_raw)"
   ]
  },
  {
   "cell_type": "code",
   "execution_count": 98,
   "metadata": {},
   "outputs": [
    {
     "data": {
      "text/html": [
       "<div>\n",
       "<style scoped>\n",
       "    .dataframe tbody tr th:only-of-type {\n",
       "        vertical-align: middle;\n",
       "    }\n",
       "\n",
       "    .dataframe tbody tr th {\n",
       "        vertical-align: top;\n",
       "    }\n",
       "\n",
       "    .dataframe thead th {\n",
       "        text-align: right;\n",
       "    }\n",
       "</style>\n",
       "<table border=\"1\" class=\"dataframe\">\n",
       "  <thead>\n",
       "    <tr style=\"text-align: right;\">\n",
       "      <th></th>\n",
       "      <th>contribution</th>\n",
       "      <th>target</th>\n",
       "      <th>answer</th>\n",
       "      <th>question</th>\n",
       "      <th>count</th>\n",
       "      <th>source</th>\n",
       "    </tr>\n",
       "  </thead>\n",
       "  <tbody>\n",
       "    <tr>\n",
       "      <th>0</th>\n",
       "      <td>3-10024</td>\n",
       "      <td>Lutte évasion, fraude, optimisation</td>\n",
       "      <td>Faire payer l'impot à toutes les entreprises s...</td>\n",
       "      <td>FI8</td>\n",
       "      <td>3</td>\n",
       "      <td>GDA</td>\n",
       "    </tr>\n",
       "    <tr>\n",
       "      <th>1</th>\n",
       "      <td>3-10024</td>\n",
       "      <td>Taxer les multinationales, GAFAM</td>\n",
       "      <td>Faire payer l'impot à toutes les entreprises s...</td>\n",
       "      <td>FI8</td>\n",
       "      <td>3</td>\n",
       "      <td>GDA</td>\n",
       "    </tr>\n",
       "    <tr>\n",
       "      <th>2</th>\n",
       "      <td>3-10044</td>\n",
       "      <td>Utiliser l'information déjà disponible</td>\n",
       "      <td>Aucune</td>\n",
       "      <td>FI7</td>\n",
       "      <td>2</td>\n",
       "      <td>GDA</td>\n",
       "    </tr>\n",
       "    <tr>\n",
       "      <th>3</th>\n",
       "      <td>3-10104</td>\n",
       "      <td>Plus d'information par internet</td>\n",
       "      <td>internet media</td>\n",
       "      <td>FI7</td>\n",
       "      <td>3</td>\n",
       "      <td>GDA</td>\n",
       "    </tr>\n",
       "    <tr>\n",
       "      <th>4</th>\n",
       "      <td>3-10104</td>\n",
       "      <td>Plus d'information par les médias</td>\n",
       "      <td>internet media</td>\n",
       "      <td>FI7</td>\n",
       "      <td>3</td>\n",
       "      <td>GDA</td>\n",
       "    </tr>\n",
       "  </tbody>\n",
       "</table>\n",
       "</div>"
      ],
      "text/plain": [
       "  contribution                                  target  \\\n",
       "0      3-10024     Lutte évasion, fraude, optimisation   \n",
       "1      3-10024        Taxer les multinationales, GAFAM   \n",
       "2      3-10044  Utiliser l'information déjà disponible   \n",
       "3      3-10104         Plus d'information par internet   \n",
       "4      3-10104       Plus d'information par les médias   \n",
       "\n",
       "                                              answer question  count source  \n",
       "0  Faire payer l'impot à toutes les entreprises s...      FI8      3    GDA  \n",
       "1  Faire payer l'impot à toutes les entreprises s...      FI8      3    GDA  \n",
       "2                                             Aucune      FI7      2    GDA  \n",
       "3                                     internet media      FI7      3    GDA  \n",
       "4                                     internet media      FI7      3    GDA  "
      ]
     },
     "execution_count": 98,
     "metadata": {},
     "output_type": "execute_result"
    }
   ],
   "source": [
    "answers_grand_debat_GDA = pd.concat([answers_grand_debat_GDA_FDP, answers_grand_debat_GDA_DEC, answers_grand_debat_GDA_LTE])\n",
    "answers_grand_debat_GDA['source'] = 'GDA'\n",
    "answers_grand_debat_GDA.head()"
   ]
  },
  {
   "cell_type": "code",
   "execution_count": 170,
   "metadata": {},
   "outputs": [],
   "source": [
    "answers_grand_debat_ELF = pd.read_csv(\"raw/elf_tags_sample_v4.csv\", sep=\";\").rename(columns={'corpus': 'answer', 'tag': 'target'})[['contribution', 'target', 'answer', 'question', 'count']]\n",
    "answers_grand_debat_ELF['source'] = 'ELF'\n",
    "answers_grand_debat_ELF = answers_grand_debat_ELF[answers_grand_debat_ELF['target'] != 'Autre / Passer']"
   ]
  },
  {
   "cell_type": "code",
   "execution_count": 171,
   "metadata": {},
   "outputs": [
    {
     "data": {
      "text/plain": [
       "array(['Diminution salaires et suppression des avantages des parlementaires, ministres et hauts fonctionnaires',\n",
       "       'Développement voiture électrique', 'Plus de transparence',\n",
       "       'Lutte évasion, fraude, optimisation', 'vote obligatoire',\n",
       "       'Incompétence et inefficacité',\n",
       "       \"Plus d'information sur la dépense des impôts\",\n",
       "       'Lenteur administrative', 'Bureaux de Poste',\n",
       "       'Famille (enfance, crèches, allocations familiales CAF)',\n",
       "       'Santé (hôpitaux, médecins)',\n",
       "       'renforcer les lois (ex : parité H/F, …)',\n",
       "       'pénaliser / condamner plus fermement',\n",
       "       \"Lutter contre l'évasion et l'optimisation fiscales\",\n",
       "       'Impôt symbolique pour tous', \"Plus d'affichage en mairie\",\n",
       "       \"Plus d'information par internet\", 'Plus de pédagogie',\n",
       "       'racisme, xénophobie, discriminations religieuses',\n",
       "       'Plus de contrôle des dépenses (en particulier de la cour des comptes)',\n",
       "       \"Plus d'information sur la collecte des impôts\",\n",
       "       \"Plus d'information par courrier, mail\",\n",
       "       \"Un usage de l'impôt décidé à l'échelle locale\",\n",
       "       'Un état et des services publics moins dépensiers et plus efficaces / meilleure utilisation des impôts',\n",
       "       'Plus de moyens aux communes / plus de décentralisation',\n",
       "       'sexisme', \"Plus d'information sur la dette\",\n",
       "       'apprentissage du français', 'aide au logement', 'accès à l’école',\n",
       "       'Rétablir ISF',\n",
       "       'Aides financières, fiscalité incitative, baisse prix',\n",
       "       'Taxe sur les plus gros pollueurs',\n",
       "       \"Plus de proximité et d'humanité\",\n",
       "       \"Plus d'information par les médias\", 'Simplification',\n",
       "       'Plateforme unique service publique et maison de services publics',\n",
       "       'Taxer le luxe, polluant, importé', 'Taux IR égal pour tous',\n",
       "       'Accessibilité (plus d’horaires, plus de personnel, plus proche)',\n",
       "       'lutte contre les discriminations', 'plus de mixité',\n",
       "       'intégration dans la culture / valeurs françaises',\n",
       "       'physique, apparence',\n",
       "       \"Suppression ou diminution d'impôts et taxes (TVA, Taxes carburants, CSG, habitation, charges salaires, etc.)\",\n",
       "       'Plus de tranches IR progressives', 'Baisser CSG',\n",
       "       'accès à la médecine', 'Réduction consommation énergie, eau',\n",
       "       'Suppression ou diminution de la dette',\n",
       "       'Utilisation énergies Renouvelables',\n",
       "       'Transports plus verts ou réduits',\n",
       "       'prise en compte du vote blanc', 'lien social dans les quartiers',\n",
       "       'Digitalisation des services publics', 'Revoir niches',\n",
       "       'Taxer les multinationales, GAFAM', 'service civique',\n",
       "       'Education / Enseignement', 'aide à l’emploi / stage',\n",
       "       'TVA réduite (1ère nécessité)', 'Taxer toutes les ressources',\n",
       "       'Réduire les emballages (favoriser vrac)',\n",
       "       'Plus de contrôle sur le versement des retraites, des aides sociales, des avantages fiscaux',\n",
       "       \"Plus d'éducation\", \"Etre plus à l'écoute\",\n",
       "       \"Education, infos fiables sur l'impact de chaque geste\",\n",
       "       'Formation du personnel administratif', 'Taxer les riches',\n",
       "       'ne pas accueillir de migrants / réduire la migration',\n",
       "       \"Indicateurs d'efficacité\", 'Transports en commun',\n",
       "       \"Habite en ville, a tout ce qu'il faut\",\n",
       "       'Meilleure information sur les services existants',\n",
       "       'Politique migratoire actuelle satisfaisante',\n",
       "       \"Politique de l'europe commune sur l'immigration\",\n",
       "       'anti-blanc/ anti-français',\n",
       "       'Meilleure isolation, changement chauffage/chaudière',\n",
       "       'augmenter les aides aux associations',\n",
       "       'plus de possibilité de participation citoyenne',\n",
       "       'Suppression ou diminution des taxes sur les objets de première nécessité',\n",
       "       'Plus de consultation et décision du peuple (dont RIC)',\n",
       "       \"Simplification de l'administration et des services publics\",\n",
       "       'Trop de migrants, politique migratoire actuelle trop laxiste',\n",
       "       \"Il faut aider les Français/SDF d'abord\",\n",
       "       'Plus de controles, plus de renvois',\n",
       "       \"Il faut faire plus d'efforts à faire sur l'accueil, l'intégration, les cours de français\",\n",
       "       'éduquer / former au vivre ensemble dès le plus jeune âge',\n",
       "       'en attente', 'éducation citoyenne de la jeunesse',\n",
       "       'homophobie, transphobie, LGBTphobie', 'Plus de moyens',\n",
       "       'Instaurer politique de quotas',\n",
       "       'Application loi 1905 / Séparation stricte Etat-religions',\n",
       "       'Il faut rester un pays ouvert,', 'Privatisation',\n",
       "       'Simplification / aide aux démarches', 'Suppressions de postes',\n",
       "       'Aucun', 'Emploi / Pôle Emploi', 'Tri sélectif plus facile',\n",
       "       \"Horaires d'ouverture inadaptés\",\n",
       "       \"S'inspirer du privé (suivi performances individuelles, ...)\",\n",
       "       'instauration R.I.C.',\n",
       "       \"Augmentation du nombre et/ou des salaires de fonctionnaires (justice, l'éducation, santé, etc.)\",\n",
       "       'discriminations de classe / inégalités sociales', 'Colère',\n",
       "       'Tri sélectif, compost, réduction déchets',\n",
       "       \"Suppression d'échelons (département, ...)\",\n",
       "       'En étant proche des gens / présence physique',\n",
       "       \"Plus d'aides pour la classe moyenne\", 'Imposer des contraintes',\n",
       "       'Service des impôts', \"Plus d'éducation / dialogue / tolérance\",\n",
       "       'Arrêt du glyphosate', 'Végétalisation',\n",
       "       'Préservation de la biodiversité',\n",
       "       'Faire de la transition la priorité nationale',\n",
       "       'Sécurité (police)',\n",
       "       'plus d’exemplarité des dirigeants politiques', 'Sécurité sociale',\n",
       "       \"Plus d'information par l'école\",\n",
       "       'Consommation réduite ou vertueuse (bio, circuit court, local)',\n",
       "       'Mobilisation citoyenne',\n",
       "       'Incitations financières au lieu de taxes',\n",
       "       'protection environnement',\n",
       "       'fin des privilèges politiques/ exemplarité politique',\n",
       "       'changer de constitution', 'démocratie participative',\n",
       "       'Limitation emballages plastique', 'Limitation éclairage',\n",
       "       'Régime alimentaire',\n",
       "       'Le peuple pas responsable du problème écologique',\n",
       "       'meilleure éducation',\n",
       "       'respect des engagements des dirigeants politiques',\n",
       "       'meilleure information sur les enjeux et les candidats',\n",
       "       'plus de référendums',\n",
       "       'nouveau mode de scrutin (proportionnelle, etc.)',\n",
       "       'instances citoyennes de décision (jury, tirage au sort, etc.)',\n",
       "       'Plus de recyclage', 'justice', 'aide aux handicapés',\n",
       "       'renforcement des pénalisation',\n",
       "       'Complexité des démarches par internet',\n",
       "       'Développer les énergies renouvelables',\n",
       "       'Politique publique forte, long terme',\n",
       "       \"Qu'État et industries donnent l'exemple\",\n",
       "       \"Aucun financement par l'Etat\",\n",
       "       'Aucun signe ostentatoire (croix, voile, kippa...)',\n",
       "       'augmentation du pouvoir d’achat', 'accès au logement',\n",
       "       \"Plus d'internet / numérique sur tout le territoire\", 'Simplifier',\n",
       "       'Changement mode de consommation', 'Arrêter le nucléaire',\n",
       "       'Arrêt lobbying', 'Stop prosélytisme', 'Plus de justice sociale',\n",
       "       'meilleure reconnaissance des diplomes pro', 'aide à la jeunesse',\n",
       "       'vote via nouvelles technologies (internet, SMS, etc.)',\n",
       "       'Taxer la finance', 'europe',\n",
       "       'Diminution du nombre de fonctionnaires, parlementaires, ministres et hauts fonctionnaires',\n",
       "       'transparence vie publique', 'RIC', 'peur',\n",
       "       'Taxer les gros pollueurs', 'lutte contre la pauvreté',\n",
       "       'reinstaurer l’isf', 'défense animaux',\n",
       "       'Recherche, innovation, rentabilité',\n",
       "       'Transports en commun moins chers', 'trop de taxes', 'retraites',\n",
       "       'sentiment énervé', 'santé', 'Moins d’emballages plastiques',\n",
       "       'refus d’immigration', 'légalisation canabis',\n",
       "       'investir dans les quartiers sensibles',\n",
       "       \"Dépense des impôts sur de l'investissement long terme, la technologie, l'environnement\",\n",
       "       'Commerce de proximité, circuit-court',\n",
       "       'Transports en commun meilleurs',\n",
       "       \"Plus de transparence de l'état sur les dépenses et l'utilisation des impôts\",\n",
       "       'meilleure redistribution', 'revenu universel',\n",
       "       'Agriculture raisonnée, bio, circuits courts',\n",
       "       'Plus de numérisation', 'Culture',\n",
       "       \"Reforme de l'impôt (modalités, etc.)\",\n",
       "       'plus de débats à l’échelle locale',\n",
       "       'Politique migratoire actuelle non satisfaisante',\n",
       "       \"Il faut aider les pays d'où l'immigration arrive\",\n",
       "       'Nous devons aider les réfugiés politiques, les populations en guerre',\n",
       "       'plus de proximité entre le peuple et les dirigeants politiques',\n",
       "       'Changement des modes de production',\n",
       "       'Sensibilisation/Education aux gestes éco-citoyens',\n",
       "       \"Besoin d'explication, de clarification de la situation et politique actuelle\",\n",
       "       'Il faut une immigraiton séléctive',\n",
       "       'Services médicaux dans les zones rurales',\n",
       "       'Simplification démarche administratives',\n",
       "       \"L'immigration peut être un levier de croissance, une opportunité\",\n",
       "       'Encadrement des religions (écoles culturelles, formation imams, prêches, …)',\n",
       "       'Taxer les produits et services non écolo',\n",
       "       'suivi/ accompagnement dans les démarches',\n",
       "       'Développement des transports en commun', 'Vieillesse',\n",
       "       'Défiance vis à vis de la classe politique',\n",
       "       'Condamnation des atteintes à la laïcité',\n",
       "       'Migrants dans les villages, pas les villes',\n",
       "       \"Plus d'aides pour les retraités\", 'harcèlement scolaire',\n",
       "       \"Augmentation de l'impôt pour les sociétés\",\n",
       "       \"Supprimer les communes / départements: moins d'échelons!\",\n",
       "       'Des dépenses des impôts exclusivement pour les Français et la France',\n",
       "       'Baisser les salaires et avantages des responsables politiques',\n",
       "       'Décentralisation', 'Pistes cyclables',\n",
       "       \"Aide au développement d'activité, à la création d'entreprise\",\n",
       "       'Pas de taxe punitive', 'envers les handicapés',\n",
       "       \"créer des structures sociales locales pour l'intégration\",\n",
       "       'Aide au Logement - HLM', \"Plus d'effort des plus riches\",\n",
       "       'Inciter à la mobilité géographique',\n",
       "       'Cultiver/Jardiner bio, sans pesticide',\n",
       "       'Préserver les coutumes françaises', 'Promotion de la chrétienté',\n",
       "       'Lutte contre communautarisme', 'Garantir la liberté de culte',\n",
       "       'Transparence dans les financements des cultes',\n",
       "       'Lutte contre extrémismes', 'Plus de possibilités de transports',\n",
       "       'Inciter à la mobilité', 'plus de formation et de réinsertion',\n",
       "       'Possibilité de commenter',\n",
       "       'Lois et accords commerciaux plus restrictifs',\n",
       "       'Exemplarité des politiques',\n",
       "       'Engagement ou dons à des associations', 'harcèlement au travail',\n",
       "       'Harmonisation internationale', \"Suppression taxe d'habitation\",\n",
       "       'service civique/ militaire', 'Fin du Concordat (Alsace-Moselle)',\n",
       "       'Indexation des retraites',\n",
       "       'meilleure information sur les modalités pratiques du vote',\n",
       "       'plus de communication sur l’importance du vote',\n",
       "       'Interdiction pub produits nocifs', 'Laïcisation du calendrier',\n",
       "       'Arrêt voiture électrique',\n",
       "       'Financement de lieux de culte par l’Etat',\n",
       "       'Pas de menu religieux', 'Réduction des coûts',\n",
       "       'aide familles monoparentales',\n",
       "       'Assurer une qualité de vie minimum pour tous',\n",
       "       'Rien, je fais déjà le max', 'Détail des dépenses, comptes',\n",
       "       'Refonte fiscalité successions', \"Maintenir / augmenter l'IFI\",\n",
       "       'Respect nature et animaux', \"S'inspirer de l'international\",\n",
       "       'lutter contre les fake news', 'Idée marquée',\n",
       "       'Favoriser le nucléaire', \"Utiliser l'information déjà disponible\",\n",
       "       'Exemplarité du service public',\n",
       "       'trouver des équivalents aux anciens métiers des réfugiés',\n",
       "       'vote en semaine', 'vote à 16 ans', 'Amélioration logements',\n",
       "       'fin des taxes sur les produits de première nécessité',\n",
       "       'Restaurer la confiance dans la classe politique',\n",
       "       \"S'inspirer du secteur privé\", 'augmentation du smicard',\n",
       "       'Solidarité entre les territoires', 'respect résultats référendum',\n",
       "       \"Je m'en fiche\", 'aide aux entreprises qui embauchent',\n",
       "       'proportionnelle', \"Reconnaissance de l'athéisme\",\n",
       "       'Bilan régulier, fréquent', 'Baisse de la reproduction',\n",
       "       'Développement des pistes cyclables', 'lutte contre le gaspillage',\n",
       "       'Sans réponse / Hors sujet / Inclassable',\n",
       "       'aide aux familles monoparentales',\n",
       "       'revoir le statut du fonctionnaire', 'aide aux ème', 'CAF',\n",
       "       'égalité des impôts salariés/ marié',\n",
       "       \"Formations sur ces sujets à l'école\"], dtype=object)"
      ]
     },
     "execution_count": 171,
     "metadata": {},
     "output_type": "execute_result"
    }
   ],
   "source": [
    "answers_grand_debat_ELF.target.unique()"
   ]
  },
  {
   "cell_type": "code",
   "execution_count": 177,
   "metadata": {},
   "outputs": [
    {
     "data": {
      "text/plain": [
       "[('Tri sélectif, compost, réduction déchets', 1795),\n",
       " ('Transports plus verts ou réduits', 1474),\n",
       " ('Consommation réduite ou vertueuse (bio, circuit court, local)', 1217),\n",
       " ('Plus de transparence', 1138),\n",
       " ('Réduction consommation énergie, eau', 941),\n",
       " ('Impôt symbolique pour tous', 887),\n",
       " ('Plus de tranches IR progressives', 773),\n",
       " ('Régime alimentaire', 744),\n",
       " (\"Plus d'information sur la dépense des impôts\", 709),\n",
       " ('racisme, xénophobie, discriminations religieuses', 650),\n",
       " ('sexisme', 560),\n",
       " ('Lutte évasion, fraude, optimisation', 556),\n",
       " ('Plus de pédagogie', 552),\n",
       " ('Rétablir ISF', 474),\n",
       " ('Revoir niches', 455),\n",
       " ('Application loi 1905 / Séparation stricte Etat-religions', 440),\n",
       " ('Meilleure isolation, changement chauffage/chaudière', 412),\n",
       " ('Taxer les riches', 371),\n",
       " ('homophobie, transphobie, LGBTphobie', 349),\n",
       " ('Cultiver/Jardiner bio, sans pesticide', 326)]"
      ]
     },
     "execution_count": 177,
     "metadata": {},
     "output_type": "execute_result"
    }
   ],
   "source": [
    "answers_grand_debat = pd.concat([answers_grand_debat_ELF, answers_grand_debat_GDA])\n",
    "Counter(answers_grand_debat['target']).most_common(20)"
   ]
  },
  {
   "cell_type": "code",
   "execution_count": 178,
   "metadata": {},
   "outputs": [],
   "source": [
    "answers_grand_debat_sample = answers_grand_debat.groupby( ['question', 'answer'] ).apply(lambda x: x.target.unique()).reset_index()"
   ]
  },
  {
   "cell_type": "code",
   "execution_count": 179,
   "metadata": {},
   "outputs": [],
   "source": [
    "answers_grand_debat_sample = answers_grand_debat_sample.rename(columns={0: 'target'})"
   ]
  },
  {
   "cell_type": "code",
   "execution_count": 180,
   "metadata": {},
   "outputs": [
    {
     "data": {
      "text/html": [
       "<div>\n",
       "<style scoped>\n",
       "    .dataframe tbody tr th:only-of-type {\n",
       "        vertical-align: middle;\n",
       "    }\n",
       "\n",
       "    .dataframe tbody tr th {\n",
       "        vertical-align: top;\n",
       "    }\n",
       "\n",
       "    .dataframe thead th {\n",
       "        text-align: right;\n",
       "    }\n",
       "</style>\n",
       "<table border=\"1\" class=\"dataframe\">\n",
       "  <thead>\n",
       "    <tr style=\"text-align: right;\">\n",
       "      <th></th>\n",
       "      <th>question</th>\n",
       "      <th>answer</th>\n",
       "      <th>target</th>\n",
       "    </tr>\n",
       "  </thead>\n",
       "  <tbody>\n",
       "    <tr>\n",
       "      <th>0</th>\n",
       "      <td>DC11</td>\n",
       "      <td>* il faut faire plus de sensibilisation (surto...</td>\n",
       "      <td>[éducation citoyenne de la jeunesse]</td>\n",
       "    </tr>\n",
       "    <tr>\n",
       "      <th>1</th>\n",
       "      <td>DC11</td>\n",
       "      <td>- Interdire les sondages en période d'élection...</td>\n",
       "      <td>[nouveau mode de scrutin (proportionnelle, etc.)]</td>\n",
       "    </tr>\n",
       "    <tr>\n",
       "      <th>2</th>\n",
       "      <td>DC11</td>\n",
       "      <td>- interdire toute possibilité de réélection ap...</td>\n",
       "      <td>[prise en compte du vote blanc, éducation cito...</td>\n",
       "    </tr>\n",
       "    <tr>\n",
       "      <th>3</th>\n",
       "      <td>DC11</td>\n",
       "      <td>- modernisation des outils de communication et...</td>\n",
       "      <td>[prise en compte du vote blanc, vote via nouve...</td>\n",
       "    </tr>\n",
       "    <tr>\n",
       "      <th>4</th>\n",
       "      <td>DC11</td>\n",
       "      <td>- vote obligatoire&amp;&amp;- prise en compte du vote ...</td>\n",
       "      <td>[vote obligatoire, prise en compte du vote bla...</td>\n",
       "    </tr>\n",
       "  </tbody>\n",
       "</table>\n",
       "</div>"
      ],
      "text/plain": [
       "  question                                             answer  \\\n",
       "0     DC11  * il faut faire plus de sensibilisation (surto...   \n",
       "1     DC11  - Interdire les sondages en période d'élection...   \n",
       "2     DC11  - interdire toute possibilité de réélection ap...   \n",
       "3     DC11  - modernisation des outils de communication et...   \n",
       "4     DC11  - vote obligatoire&&- prise en compte du vote ...   \n",
       "\n",
       "                                              target  \n",
       "0               [éducation citoyenne de la jeunesse]  \n",
       "1  [nouveau mode de scrutin (proportionnelle, etc.)]  \n",
       "2  [prise en compte du vote blanc, éducation cito...  \n",
       "3  [prise en compte du vote blanc, vote via nouve...  \n",
       "4  [vote obligatoire, prise en compte du vote bla...  "
      ]
     },
     "execution_count": 180,
     "metadata": {},
     "output_type": "execute_result"
    }
   ],
   "source": [
    "answers_grand_debat_sample.head()"
   ]
  },
  {
   "cell_type": "markdown",
   "metadata": {},
   "source": [
    "## Lemmatisation"
   ]
  },
  {
   "cell_type": "code",
   "execution_count": 181,
   "metadata": {},
   "outputs": [],
   "source": [
    "# spaCy based imports\n",
    "import spacy\n",
    "nlp = spacy.load('fr_core_news_sm')"
   ]
  },
  {
   "cell_type": "code",
   "execution_count": null,
   "metadata": {},
   "outputs": [],
   "source": [
    "# Usual imports \n",
    "from tqdm import tqdm, tqdm_notebook\n",
    "\n",
    "# NLP imports\n",
    "from nltk.corpus import stopwords\n",
    "from nltk.tokenize import word_tokenize\n",
    "from french_lefff_lemmatizer.french_lefff_lemmatizer import FrenchLefffLemmatizer\n",
    "import stop_words\n",
    "import re, sys\n",
    "from gensim.models import phrases, Phrases"
   ]
  },
  {
   "cell_type": "code",
   "execution_count": null,
   "metadata": {},
   "outputs": [],
   "source": [
    "sw = stop_words.get_stop_words(language='fr')"
   ]
  },
  {
   "cell_type": "code",
   "execution_count": null,
   "metadata": {},
   "outputs": [],
   "source": [
    "answers_grand_debat_sample['tokens'] = answers_grand_debat_sample.answer.map(lambda text: [w for w in text.replace('.', '').replace(',', '').replace('!', '').split() if w])\n",
    "answers_grand_debat_sample['tokens'] = answers_grand_debat_sample.answer.map(lambda text: word_tokenize(text))\n",
    "answers_grand_debat_sample['tokens_clean'] =  answers_grand_debat_sample.tokens.map(\n",
    "                                    lambda tok: [t.lower() for t in re.split(\" \", re.sub(r\"(\\W+|_|\\d+)\", \" \", \" \".join(tok))) \\\n",
    "                                                 if t.lower() not in sw and len(t)>1]\n",
    "                        )\n",
    "answers_grand_debat_sample['tokens_clean_joined'] =  answers_grand_debat_sample.tokens_clean.map(lambda tok: ' '.join(tok))"
   ]
  },
  {
   "cell_type": "code",
   "execution_count": null,
   "metadata": {},
   "outputs": [
    {
     "name": "stderr",
     "output_type": "stream",
     "text": [
      " 79%|███████▉  | 11265/14248 [01:40<00:28, 103.36it/s]"
     ]
    }
   ],
   "source": [
    "lemmatizer = FrenchLefffLemmatizer()\n",
    "\n",
    "def lemmatize_answer(answer):\n",
    "    lemmatized_answer = ''\n",
    "    nlp_answer = nlp(answer)\n",
    "    for token in nlp_answer:\n",
    "        lemmatized_answer += lemmatizer.lemmatize(str(token)) + ' '\n",
    "    return lemmatized_answer\n",
    "\n",
    "tqdm.pandas()\n",
    "answers_grand_debat_sample['lemmatized_answer'] = answers_grand_debat_sample['tokens_clean_joined'].progress_apply(lemmatize_answer)"
   ]
  },
  {
   "cell_type": "code",
   "execution_count": null,
   "metadata": {},
   "outputs": [],
   "source": [
    "answers_grand_debat_sample.head()"
   ]
  },
  {
   "cell_type": "code",
   "execution_count": null,
   "metadata": {},
   "outputs": [],
   "source": [
    "answers_grand_debat_final = answers_grand_debat_sample[['question', 'answer', 'lemmatized_answer', 'target']].rename(columns = {'question': 'question_id'})"
   ]
  },
  {
   "cell_type": "code",
   "execution_count": null,
   "metadata": {},
   "outputs": [],
   "source": [
    "answers_grand_debat_final.head()"
   ]
  },
  {
   "cell_type": "code",
   "execution_count": null,
   "metadata": {},
   "outputs": [],
   "source": [
    "questions_ELF"
   ]
  },
  {
   "cell_type": "code",
   "execution_count": null,
   "metadata": {},
   "outputs": [],
   "source": [
    "questions_ELF = pd.read_csv(\"raw/questions_ELF.csv\").rename(columns={'question_elf': 'question'})\n",
    "answers_grand_debat_final = pd.merge(answers_grand_debat_final, questions_ELF, left_on='question_id', right_on='id_elf')[['theme', 'question_id', 'question', 'answer', 'lemmatized_answer', 'target']]"
   ]
  },
  {
   "cell_type": "code",
   "execution_count": null,
   "metadata": {},
   "outputs": [],
   "source": [
    "answers_grand_debat_final.head()"
   ]
  },
  {
   "cell_type": "code",
   "execution_count": null,
   "metadata": {},
   "outputs": [],
   "source": [
    "answers_grand_debat_final.to_json('preprocessed/reponses_annotees_multilabel.json', orient = \"records\")"
   ]
  },
  {
   "cell_type": "code",
   "execution_count": null,
   "metadata": {},
   "outputs": [],
   "source": []
  },
  {
   "cell_type": "code",
   "execution_count": null,
   "metadata": {},
   "outputs": [],
   "source": []
  },
  {
   "cell_type": "code",
   "execution_count": null,
   "metadata": {},
   "outputs": [],
   "source": []
  }
 ],
 "metadata": {
  "kernelspec": {
   "display_name": "Python 3",
   "language": "python",
   "name": "python3"
  },
  "language_info": {
   "codemirror_mode": {
    "name": "ipython",
    "version": 3
   },
   "file_extension": ".py",
   "mimetype": "text/x-python",
   "name": "python",
   "nbconvert_exporter": "python",
   "pygments_lexer": "ipython3",
   "version": "3.7.2"
  }
 },
 "nbformat": 4,
 "nbformat_minor": 2
}
