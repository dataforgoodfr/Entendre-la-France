{
 "cells": [
  {
   "cell_type": "code",
   "execution_count": 34,
   "metadata": {},
   "outputs": [],
   "source": [
    "import pandas as pd\n",
    "import numpy as np\n",
    "from matplotlib import pyplot as plt\n",
    "from collections import Counter\n",
    "import matplotlib.pylab as plt"
   ]
  },
  {
   "cell_type": "code",
   "execution_count": 35,
   "metadata": {},
   "outputs": [],
   "source": [
    "get_ipython().config.get('IPKernelApp', {})['parent_appname'] = \"\""
   ]
  },
  {
   "cell_type": "code",
   "execution_count": 36,
   "metadata": {},
   "outputs": [],
   "source": [
    "# Import des questions"
   ]
  },
  {
   "cell_type": "code",
   "execution_count": 37,
   "metadata": {},
   "outputs": [],
   "source": [
    "answers_grand_debat_LTE_raw = pd.read_csv('raw/large_datasets_ELF/LA_TRANSITION_ECOLOGIQUE.csv', encoding=\"utf-8\").drop_duplicates(keep=False)\n",
    "answers_grand_debat_FDP_raw = pd.read_csv('raw/large_datasets_ELF/LA_FISCALITE_ET_LES_DEPENSES_PUBLIQUES.csv', encoding=\"utf-8\").drop_duplicates(keep=False)\n",
    "answers_grand_debat_ORG_raw = pd.read_csv('raw/large_datasets_ELF/ORGANISATION_DE_LETAT_ET_DES_SERVICES_PUBLICS.csv', encoding=\"utf-8\").drop_duplicates(keep=False)\n",
    "answers_grand_debat_DEC_raw = pd.read_csv('raw/large_datasets_ELF/DEMOCRATIE_ET_CITOYENNETE.csv', encoding=\"utf-8\").drop_duplicates(keep=False)"
   ]
  },
  {
   "cell_type": "code",
   "execution_count": 38,
   "metadata": {},
   "outputs": [],
   "source": [
    "def keep_popular_hashtags_by_question(dataframe):\n",
    "    allowed_categories_gda = []\n",
    "    print(dataframe['id_gda'].unique())\n",
    "    for question in dataframe['id_gda'].unique():\n",
    "        allowed_categories_tuples = Counter(dataframe[dataframe['id_gda'] == question]['tag_elf']).most_common(20)\n",
    "        allowed_categories_gda += [(question, element[0], element[1]) for element in allowed_categories_tuples]\n",
    "    for question in dataframe['id_elf'].unique():    \n",
    "        allowed_categories_tuples = Counter(dataframe[dataframe['id_elf'] == question]['tag_elf']).most_common(20)\n",
    "        allowed_categories = [element[0] for element in allowed_categories_tuples]\n",
    "        dataframe = dataframe[(dataframe['id_elf'] != 'question') | (dataframe['tag_elf'].isin(allowed_categories))]\n",
    "    return dataframe, allowed_categories_gda\n",
    "\n",
    "def process_LGD_dataset(raw_dataframe):\n",
    "    \"\"\"\n",
    "    \"\"\"\n",
    "    answers_annotees = pd.read_csv('raw/actions.csv', encoding=\"utf-8\").rename(columns={'Contribution': 'reference'})\n",
    "    print(raw_dataframe.shape)\n",
    "    raw_dataframe = pd.merge(answers_annotees, raw_dataframe, on='reference')\n",
    "    if raw_dataframe.shape[0] == 0:\n",
    "        print(\"Empty records when matching on annotations\")\n",
    "        return None, None\n",
    "    \n",
    "    questions_dictionary = pd.read_csv('raw/match_questions_ELF_LGA.csv', header=0)\n",
    "    raw_dataframe = pd.merge(raw_dataframe, questions_dictionary, left_on='Question', right_on='id_gda')\n",
    "    print(raw_dataframe.shape)\n",
    "\n",
    "    gda_dictionary = pd.read_csv('raw/matching_gda_id1_id2.csv', header=0)\n",
    "    raw_dataframe = pd.merge(raw_dataframe, gda_dictionary, left_on='id_gda', right_on='id1_gda')\n",
    "    print(raw_dataframe.shape)\n",
    "    \n",
    "    raw_dataframe[\"corpus\"] = None\n",
    "    \n",
    "    for index, row in raw_dataframe.iterrows():\n",
    "        raw_dataframe.at[index,'corpus'] = raw_dataframe.loc[index][raw_dataframe.filter(like=row['id2_gda']).columns[0]]\n",
    "\n",
    "    raw_dataframe = raw_dataframe[['reference', 'id_elf', 'corpus', 'Categorie', 'Annotateur', 'id_gda']]\n",
    "    \n",
    "    tags_dictionary = pd.read_csv('raw/matching_tags_lga_elf.csv', sep=';')\n",
    "    raw_dataframe = pd.merge(raw_dataframe, tags_dictionary, left_on=['id_gda', 'Categorie'], right_on=['id_lga', 'tag_lga'])\n",
    "    print(raw_dataframe.shape)\n",
    "    \n",
    "    raw_dataframe, allowed_categories_gda = keep_popular_hashtags_by_question(raw_dataframe)\n",
    "    print(raw_dataframe.shape)\n",
    "    \n",
    "    raw_dataframe = pd.DataFrame({'count' : raw_dataframe.groupby( ['reference', 'tag_elf', 'corpus', 'id_elf'] ).apply(lambda x: x.Annotateur.nunique())}).reset_index()\n",
    "    print(raw_dataframe.shape)\n",
    "    \n",
    "    return raw_dataframe.rename(columns={'reference': 'contribution', 'corpus': 'answer', 'tag_elf': 'target', 'id_elf' : 'question'}), allowed_categories_gda\n",
    "    "
   ]
  },
  {
   "cell_type": "code",
   "execution_count": 39,
   "metadata": {},
   "outputs": [
    {
     "name": "stdout",
     "output_type": "stream",
     "text": [
      "(73746, 48)\n",
      "(5915, 55)\n",
      "(5915, 57)\n",
      "(2878, 9)\n",
      "[127]\n",
      "(2878, 9)\n",
      "(926, 5)\n",
      "(126165, 19)\n",
      "(23033, 26)\n",
      "(23033, 28)\n",
      "(17454, 9)\n",
      "[162 163]\n",
      "(17454, 9)\n",
      "(6804, 5)\n",
      "(99343, 27)\n",
      "(20296, 34)\n",
      "(20296, 36)\n",
      "(17896, 9)\n",
      "[149]\n",
      "(17896, 9)\n",
      "(5334, 5)\n"
     ]
    }
   ],
   "source": [
    "answers_grand_debat_GDA_DEC, allowed_categories_gda_DEC = process_LGD_dataset(answers_grand_debat_DEC_raw)\n",
    "answers_grand_debat_GDA_FDP, allowed_categories_gda_FDP = process_LGD_dataset(answers_grand_debat_FDP_raw)\n",
    "# answers_grand_debat_GDA_ORG, allowed_categories_gda_ORG = process_LGD_dataset(answers_grand_debat_ORG_raw)\n",
    "answers_grand_debat_GDA_LTE, allowed_categories_gda_LTE = process_LGD_dataset(answers_grand_debat_LTE_raw)"
   ]
  },
  {
   "cell_type": "code",
   "execution_count": 40,
   "metadata": {},
   "outputs": [],
   "source": [
    "answers_grand_debat_GDA = pd.concat([answers_grand_debat_GDA_FDP, answers_grand_debat_GDA_DEC, answers_grand_debat_GDA_LTE])\n",
    "answers_grand_debat_GDA['source'] = 'GDA'"
   ]
  },
  {
   "cell_type": "code",
   "execution_count": 41,
   "metadata": {},
   "outputs": [],
   "source": [
    "answers_grand_debat_ELF = pd.read_csv(\"raw/elf_tags_sample_v2.csv\", sep=\";\").rename(columns={'reference': 'contribution', 'corpus': 'answer', 'tag': 'target', 'id_elf' : 'question'})\n",
    "answers_grand_debat_ELF['source'] = 'ELF'"
   ]
  },
  {
   "cell_type": "code",
   "execution_count": 42,
   "metadata": {},
   "outputs": [
    {
     "data": {
      "text/html": [
       "<div>\n",
       "<style scoped>\n",
       "    .dataframe tbody tr th:only-of-type {\n",
       "        vertical-align: middle;\n",
       "    }\n",
       "\n",
       "    .dataframe tbody tr th {\n",
       "        vertical-align: top;\n",
       "    }\n",
       "\n",
       "    .dataframe thead th {\n",
       "        text-align: right;\n",
       "    }\n",
       "</style>\n",
       "<table border=\"1\" class=\"dataframe\">\n",
       "  <thead>\n",
       "    <tr style=\"text-align: right;\">\n",
       "      <th></th>\n",
       "      <th>contribution</th>\n",
       "      <th>target</th>\n",
       "      <th>answer</th>\n",
       "      <th>question</th>\n",
       "      <th>count</th>\n",
       "      <th>source</th>\n",
       "    </tr>\n",
       "  </thead>\n",
       "  <tbody>\n",
       "    <tr>\n",
       "      <th>0</th>\n",
       "      <td>42 431</td>\n",
       "      <td>Diminution salaires et suppression des avantag...</td>\n",
       "      <td>Les dépenses du gouvernement et les dépenses a...</td>\n",
       "      <td>FI9</td>\n",
       "      <td>1</td>\n",
       "      <td>ELF</td>\n",
       "    </tr>\n",
       "    <tr>\n",
       "      <th>1</th>\n",
       "      <td>13 610</td>\n",
       "      <td>Développement voiture électrique</td>\n",
       "      <td>Il faut arrêter certaines taxes et accompagner...</td>\n",
       "      <td>TE13</td>\n",
       "      <td>1</td>\n",
       "      <td>ELF</td>\n",
       "    </tr>\n",
       "    <tr>\n",
       "      <th>2</th>\n",
       "      <td>12 847</td>\n",
       "      <td>Lutte évasion, fraude, optimisation</td>\n",
       "      <td>Mieux lutter contre la fraude interdire les pa...</td>\n",
       "      <td>FI8</td>\n",
       "      <td>1</td>\n",
       "      <td>ELF</td>\n",
       "    </tr>\n",
       "    <tr>\n",
       "      <th>3</th>\n",
       "      <td>13 630</td>\n",
       "      <td>Incompétence et inefficacité</td>\n",
       "      <td>Trop de personnes inutiles alors que certains ...</td>\n",
       "      <td>OE9</td>\n",
       "      <td>1</td>\n",
       "      <td>ELF</td>\n",
       "    </tr>\n",
       "    <tr>\n",
       "      <th>4</th>\n",
       "      <td>13 860</td>\n",
       "      <td>Lenteur administrative</td>\n",
       "      <td>Très long ! &amp;&amp;Demander moins de paperasse pour...</td>\n",
       "      <td>OE9</td>\n",
       "      <td>1</td>\n",
       "      <td>ELF</td>\n",
       "    </tr>\n",
       "  </tbody>\n",
       "</table>\n",
       "</div>"
      ],
      "text/plain": [
       "  contribution                                             target  \\\n",
       "0       42 431  Diminution salaires et suppression des avantag...   \n",
       "1       13 610                   Développement voiture électrique   \n",
       "2       12 847                Lutte évasion, fraude, optimisation   \n",
       "3       13 630                       Incompétence et inefficacité   \n",
       "4       13 860                             Lenteur administrative   \n",
       "\n",
       "                                              answer question  count source  \n",
       "0  Les dépenses du gouvernement et les dépenses a...      FI9      1    ELF  \n",
       "1  Il faut arrêter certaines taxes et accompagner...     TE13      1    ELF  \n",
       "2  Mieux lutter contre la fraude interdire les pa...      FI8      1    ELF  \n",
       "3  Trop de personnes inutiles alors que certains ...      OE9      1    ELF  \n",
       "4  Très long ! &&Demander moins de paperasse pour...      OE9      1    ELF  "
      ]
     },
     "execution_count": 42,
     "metadata": {},
     "output_type": "execute_result"
    }
   ],
   "source": [
    "answers_grand_debat_ELF.head()"
   ]
  },
  {
   "cell_type": "code",
   "execution_count": 43,
   "metadata": {},
   "outputs": [
    {
     "data": {
      "text/plain": [
       "[('Tri sélectif, compost, réduction déchets', 1787),\n",
       " ('Transports plus verts ou réduits', 1462),\n",
       " ('Autre / Passer', 1373),\n",
       " ('Consommation réduite ou vertueuse (bio, circuit court, local)', 1208),\n",
       " ('Plus de transparence', 950),\n",
       " ('Réduction consommation énergie, eau', 939),\n",
       " ('Impôt symbolique pour tous', 868),\n",
       " ('Plus de tranches IR progressives', 750),\n",
       " ('Régime alimentaire', 742),\n",
       " ('Lutte évasion, fraude, optimisation', 540),\n",
       " ('racisme, xénophobie, discriminations religieuses', 513),\n",
       " (\"Plus d'information sur la dépense des impôts\", 446),\n",
       " ('Revoir niches', 445),\n",
       " ('sexisme', 444),\n",
       " ('Rétablir ISF', 443),\n",
       " ('Plus de pédagogie', 442),\n",
       " ('Meilleure isolation, changement chauffage/chaudière', 409),\n",
       " ('Application loi 1905 / Séparation stricte Etat-religions', 408),\n",
       " ('Taxer les riches', 352),\n",
       " ('Cultiver/Jardiner bio, sans pesticide', 323)]"
      ]
     },
     "execution_count": 43,
     "metadata": {},
     "output_type": "execute_result"
    }
   ],
   "source": [
    "answers_grand_debat = pd.concat([answers_grand_debat_ELF, answers_grand_debat_GDA])\n",
    "Counter(answers_grand_debat['target']).most_common(20)"
   ]
  },
  {
   "cell_type": "code",
   "execution_count": 44,
   "metadata": {},
   "outputs": [],
   "source": [
    "answers_grand_debat_sample = answers_grand_debat.groupby( ['question', 'answer'] ).apply(lambda x: x.target.unique()).reset_index()"
   ]
  },
  {
   "cell_type": "code",
   "execution_count": 45,
   "metadata": {},
   "outputs": [],
   "source": [
    "answers_grand_debat_sample = answers_grand_debat_sample.rename(columns={0: 'target'})"
   ]
  },
  {
   "cell_type": "code",
   "execution_count": 46,
   "metadata": {},
   "outputs": [
    {
     "data": {
      "text/html": [
       "<div>\n",
       "<style scoped>\n",
       "    .dataframe tbody tr th:only-of-type {\n",
       "        vertical-align: middle;\n",
       "    }\n",
       "\n",
       "    .dataframe tbody tr th {\n",
       "        vertical-align: top;\n",
       "    }\n",
       "\n",
       "    .dataframe thead th {\n",
       "        text-align: right;\n",
       "    }\n",
       "</style>\n",
       "<table border=\"1\" class=\"dataframe\">\n",
       "  <thead>\n",
       "    <tr style=\"text-align: right;\">\n",
       "      <th></th>\n",
       "      <th>question</th>\n",
       "      <th>answer</th>\n",
       "      <th>target</th>\n",
       "    </tr>\n",
       "  </thead>\n",
       "  <tbody>\n",
       "    <tr>\n",
       "      <th>0</th>\n",
       "      <td>DC11</td>\n",
       "      <td>* il faut faire plus de sensibilisation (surto...</td>\n",
       "      <td>[éducation citoyenne de la jeunesse, Autre / P...</td>\n",
       "    </tr>\n",
       "    <tr>\n",
       "      <th>1</th>\n",
       "      <td>DC11</td>\n",
       "      <td>- Interdire les sondages en période d'élection...</td>\n",
       "      <td>[nouveau mode de scrutin (proportionnelle, etc.)]</td>\n",
       "    </tr>\n",
       "    <tr>\n",
       "      <th>2</th>\n",
       "      <td>DC11</td>\n",
       "      <td>- Remettre les législatives AVANT la président...</td>\n",
       "      <td>[Autre / Passer]</td>\n",
       "    </tr>\n",
       "    <tr>\n",
       "      <th>3</th>\n",
       "      <td>DC11</td>\n",
       "      <td>- interdire toute possibilité de réélection ap...</td>\n",
       "      <td>[prise en compte du vote blanc, éducation cito...</td>\n",
       "    </tr>\n",
       "    <tr>\n",
       "      <th>4</th>\n",
       "      <td>DC11</td>\n",
       "      <td>- modernisation des outils de communication et...</td>\n",
       "      <td>[prise en compte du vote blanc, vote via nouve...</td>\n",
       "    </tr>\n",
       "  </tbody>\n",
       "</table>\n",
       "</div>"
      ],
      "text/plain": [
       "  question                                             answer  \\\n",
       "0     DC11  * il faut faire plus de sensibilisation (surto...   \n",
       "1     DC11  - Interdire les sondages en période d'élection...   \n",
       "2     DC11  - Remettre les législatives AVANT la président...   \n",
       "3     DC11  - interdire toute possibilité de réélection ap...   \n",
       "4     DC11  - modernisation des outils de communication et...   \n",
       "\n",
       "                                              target  \n",
       "0  [éducation citoyenne de la jeunesse, Autre / P...  \n",
       "1  [nouveau mode de scrutin (proportionnelle, etc.)]  \n",
       "2                                   [Autre / Passer]  \n",
       "3  [prise en compte du vote blanc, éducation cito...  \n",
       "4  [prise en compte du vote blanc, vote via nouve...  "
      ]
     },
     "execution_count": 46,
     "metadata": {},
     "output_type": "execute_result"
    }
   ],
   "source": [
    "answers_grand_debat_sample.head()"
   ]
  },
  {
   "cell_type": "markdown",
   "metadata": {},
   "source": [
    "## Lemmatisation"
   ]
  },
  {
   "cell_type": "code",
   "execution_count": 47,
   "metadata": {},
   "outputs": [],
   "source": [
    "# spaCy based imports\n",
    "import spacy\n",
    "nlp = spacy.load('fr_core_news_sm')"
   ]
  },
  {
   "cell_type": "code",
   "execution_count": 48,
   "metadata": {},
   "outputs": [],
   "source": [
    "# Usual imports \n",
    "from tqdm import tqdm, tqdm_notebook\n",
    "\n",
    "# NLP imports\n",
    "from nltk.corpus import stopwords\n",
    "from nltk.tokenize import word_tokenize\n",
    "from french_lefff_lemmatizer.french_lefff_lemmatizer import FrenchLefffLemmatizer\n",
    "import stop_words\n",
    "import re, sys\n",
    "from gensim.models import phrases, Phrases"
   ]
  },
  {
   "cell_type": "code",
   "execution_count": 49,
   "metadata": {},
   "outputs": [],
   "source": [
    "sw = stop_words.get_stop_words(language='fr')"
   ]
  },
  {
   "cell_type": "code",
   "execution_count": 50,
   "metadata": {},
   "outputs": [],
   "source": [
    "answers_grand_debat_sample['tokens'] = answers_grand_debat_sample.answer.map(lambda text: [w for w in text.replace('.', '').replace(',', '').replace('!', '').split() if w])\n",
    "answers_grand_debat_sample['tokens'] = answers_grand_debat_sample.answer.map(lambda text: word_tokenize(text))\n",
    "answers_grand_debat_sample['tokens_clean'] =  answers_grand_debat_sample.tokens.map(\n",
    "                                    lambda tok: [t.lower() for t in re.split(\" \", re.sub(r\"(\\W+|_|\\d+)\", \" \", \" \".join(tok))) \\\n",
    "                                                 if t.lower() not in sw and len(t)>1]\n",
    "                        )\n",
    "answers_grand_debat_sample['tokens_clean_joined'] =  answers_grand_debat_sample.tokens_clean.map(lambda tok: ' '.join(tok))"
   ]
  },
  {
   "cell_type": "code",
   "execution_count": 52,
   "metadata": {},
   "outputs": [
    {
     "name": "stderr",
     "output_type": "stream",
     "text": [
      "100%|██████████| 11949/11949 [01:33<00:00, 127.76it/s]\n"
     ]
    }
   ],
   "source": [
    "lemmatizer = FrenchLefffLemmatizer()\n",
    "\n",
    "def lemmatize_answer(answer):\n",
    "    lemmatized_answer = ''\n",
    "    nlp_answer = nlp(answer)\n",
    "    for token in nlp_answer:\n",
    "        lemmatized_answer += lemmatizer.lemmatize(str(token)) + ' '\n",
    "    return lemmatized_answer\n",
    "\n",
    "tqdm.pandas()\n",
    "answers_grand_debat_sample['lemmatized_answer'] = answers_grand_debat_sample['tokens_clean_joined'].progress_apply(lemmatize_answer)"
   ]
  },
  {
   "cell_type": "code",
   "execution_count": 56,
   "metadata": {},
   "outputs": [],
   "source": [
    "answers_grand_debat_final = answers_grand_debat_sample[['question', 'answer', 'lemmatized_answer', 'target']].rename(columns = {'question': 'question_id'})"
   ]
  },
  {
   "cell_type": "code",
   "execution_count": 57,
   "metadata": {},
   "outputs": [
    {
     "data": {
      "text/html": [
       "<div>\n",
       "<style scoped>\n",
       "    .dataframe tbody tr th:only-of-type {\n",
       "        vertical-align: middle;\n",
       "    }\n",
       "\n",
       "    .dataframe tbody tr th {\n",
       "        vertical-align: top;\n",
       "    }\n",
       "\n",
       "    .dataframe thead th {\n",
       "        text-align: right;\n",
       "    }\n",
       "</style>\n",
       "<table border=\"1\" class=\"dataframe\">\n",
       "  <thead>\n",
       "    <tr style=\"text-align: right;\">\n",
       "      <th></th>\n",
       "      <th>question_id</th>\n",
       "      <th>answer</th>\n",
       "      <th>lemmatized_answer</th>\n",
       "      <th>target</th>\n",
       "    </tr>\n",
       "  </thead>\n",
       "  <tbody>\n",
       "    <tr>\n",
       "      <th>0</th>\n",
       "      <td>DC11</td>\n",
       "      <td>* il faut faire plus de sensibilisation (surto...</td>\n",
       "      <td>faut plus sensibilisation surtout population j...</td>\n",
       "      <td>[éducation citoyenne de la jeunesse, Autre / P...</td>\n",
       "    </tr>\n",
       "    <tr>\n",
       "      <th>1</th>\n",
       "      <td>DC11</td>\n",
       "      <td>- Interdire les sondages en période d'élection...</td>\n",
       "      <td>interdire sondage période élection certain cit...</td>\n",
       "      <td>[nouveau mode de scrutin (proportionnelle, etc.)]</td>\n",
       "    </tr>\n",
       "    <tr>\n",
       "      <th>2</th>\n",
       "      <td>DC11</td>\n",
       "      <td>- Remettre les législatives AVANT la président...</td>\n",
       "      <td>remettre législative présidentielle inversion ...</td>\n",
       "      <td>[Autre / Passer]</td>\n",
       "    </tr>\n",
       "    <tr>\n",
       "      <th>3</th>\n",
       "      <td>DC11</td>\n",
       "      <td>- interdire toute possibilité de réélection ap...</td>\n",
       "      <td>interdire toute possibilité réélection après m...</td>\n",
       "      <td>[prise en compte du vote blanc, éducation cito...</td>\n",
       "    </tr>\n",
       "    <tr>\n",
       "      <th>4</th>\n",
       "      <td>DC11</td>\n",
       "      <td>- modernisation des outils de communication et...</td>\n",
       "      <td>modernisation outil communication vote prise c...</td>\n",
       "      <td>[prise en compte du vote blanc, vote via nouve...</td>\n",
       "    </tr>\n",
       "  </tbody>\n",
       "</table>\n",
       "</div>"
      ],
      "text/plain": [
       "  question_id                                             answer  \\\n",
       "0        DC11  * il faut faire plus de sensibilisation (surto...   \n",
       "1        DC11  - Interdire les sondages en période d'élection...   \n",
       "2        DC11  - Remettre les législatives AVANT la président...   \n",
       "3        DC11  - interdire toute possibilité de réélection ap...   \n",
       "4        DC11  - modernisation des outils de communication et...   \n",
       "\n",
       "                                   lemmatized_answer  \\\n",
       "0  faut plus sensibilisation surtout population j...   \n",
       "1  interdire sondage période élection certain cit...   \n",
       "2  remettre législative présidentielle inversion ...   \n",
       "3  interdire toute possibilité réélection après m...   \n",
       "4  modernisation outil communication vote prise c...   \n",
       "\n",
       "                                              target  \n",
       "0  [éducation citoyenne de la jeunesse, Autre / P...  \n",
       "1  [nouveau mode de scrutin (proportionnelle, etc.)]  \n",
       "2                                   [Autre / Passer]  \n",
       "3  [prise en compte du vote blanc, éducation cito...  \n",
       "4  [prise en compte du vote blanc, vote via nouve...  "
      ]
     },
     "execution_count": 57,
     "metadata": {},
     "output_type": "execute_result"
    }
   ],
   "source": [
    "answers_grand_debat_final.head()"
   ]
  },
  {
   "cell_type": "code",
   "execution_count": 61,
   "metadata": {},
   "outputs": [
    {
     "data": {
      "text/html": [
       "<div>\n",
       "<style scoped>\n",
       "    .dataframe tbody tr th:only-of-type {\n",
       "        vertical-align: middle;\n",
       "    }\n",
       "\n",
       "    .dataframe tbody tr th {\n",
       "        vertical-align: top;\n",
       "    }\n",
       "\n",
       "    .dataframe thead th {\n",
       "        text-align: right;\n",
       "    }\n",
       "</style>\n",
       "<table border=\"1\" class=\"dataframe\">\n",
       "  <thead>\n",
       "    <tr style=\"text-align: right;\">\n",
       "      <th></th>\n",
       "      <th>id_elf</th>\n",
       "      <th>theme</th>\n",
       "      <th>question_elf</th>\n",
       "    </tr>\n",
       "  </thead>\n",
       "  <tbody>\n",
       "    <tr>\n",
       "      <th>0</th>\n",
       "      <td>TE11</td>\n",
       "      <td>🌎 Transition écologique</td>\n",
       "      <td>Que faites-vous aujourd’hui pour protéger l’en...</td>\n",
       "    </tr>\n",
       "    <tr>\n",
       "      <th>1</th>\n",
       "      <td>TE12</td>\n",
       "      <td>🌎 Transition écologique</td>\n",
       "      <td>Qu'est-ce qui pourrait vous inciter à changer ...</td>\n",
       "    </tr>\n",
       "    <tr>\n",
       "      <th>2</th>\n",
       "      <td>TE13</td>\n",
       "      <td>🌎 Transition écologique</td>\n",
       "      <td>Quels sont les autres points sur lesquels vous...</td>\n",
       "    </tr>\n",
       "    <tr>\n",
       "      <th>3</th>\n",
       "      <td>FI7</td>\n",
       "      <td>💰 Impôts et dépenses publiques</td>\n",
       "      <td>Quelles sont toutes les choses qui pourraient ...</td>\n",
       "    </tr>\n",
       "    <tr>\n",
       "      <th>4</th>\n",
       "      <td>FI8</td>\n",
       "      <td>💰 Impôts et dépenses publiques</td>\n",
       "      <td>Que faudrait-il faire pour rendre la fiscalité...</td>\n",
       "    </tr>\n",
       "  </tbody>\n",
       "</table>\n",
       "</div>"
      ],
      "text/plain": [
       "  id_elf                           theme  \\\n",
       "0   TE11         🌎 Transition écologique   \n",
       "1   TE12         🌎 Transition écologique   \n",
       "2   TE13         🌎 Transition écologique   \n",
       "3    FI7  💰 Impôts et dépenses publiques   \n",
       "4    FI8  💰 Impôts et dépenses publiques   \n",
       "\n",
       "                                        question_elf  \n",
       "0  Que faites-vous aujourd’hui pour protéger l’en...  \n",
       "1  Qu'est-ce qui pourrait vous inciter à changer ...  \n",
       "2  Quels sont les autres points sur lesquels vous...  \n",
       "3  Quelles sont toutes les choses qui pourraient ...  \n",
       "4  Que faudrait-il faire pour rendre la fiscalité...  "
      ]
     },
     "execution_count": 61,
     "metadata": {},
     "output_type": "execute_result"
    }
   ],
   "source": [
    "questions_ELF"
   ]
  },
  {
   "cell_type": "code",
   "execution_count": 62,
   "metadata": {},
   "outputs": [],
   "source": [
    "questions_ELF = pd.read_csv(\"raw/questions_ELF.csv\").rename(columns={'question_elf': 'question'})\n",
    "answers_grand_debat_final = pd.merge(answers_grand_debat_final, questions_ELF, left_on='question_id', right_on='id_elf')[['theme', 'question_id', 'question', 'answer', 'lemmatized_answer', 'target']]"
   ]
  },
  {
   "cell_type": "code",
   "execution_count": 63,
   "metadata": {},
   "outputs": [
    {
     "data": {
      "text/html": [
       "<div>\n",
       "<style scoped>\n",
       "    .dataframe tbody tr th:only-of-type {\n",
       "        vertical-align: middle;\n",
       "    }\n",
       "\n",
       "    .dataframe tbody tr th {\n",
       "        vertical-align: top;\n",
       "    }\n",
       "\n",
       "    .dataframe thead th {\n",
       "        text-align: right;\n",
       "    }\n",
       "</style>\n",
       "<table border=\"1\" class=\"dataframe\">\n",
       "  <thead>\n",
       "    <tr style=\"text-align: right;\">\n",
       "      <th></th>\n",
       "      <th>theme</th>\n",
       "      <th>question_id</th>\n",
       "      <th>question</th>\n",
       "      <th>answer</th>\n",
       "      <th>lemmatized_answer</th>\n",
       "      <th>target</th>\n",
       "    </tr>\n",
       "  </thead>\n",
       "  <tbody>\n",
       "    <tr>\n",
       "      <th>0</th>\n",
       "      <td>🗣 Démocratie et citoyenneté</td>\n",
       "      <td>DC11</td>\n",
       "      <td>Comment inciter les citoyens à participer dava...</td>\n",
       "      <td>* il faut faire plus de sensibilisation (surto...</td>\n",
       "      <td>faut plus sensibilisation surtout population j...</td>\n",
       "      <td>[éducation citoyenne de la jeunesse, Autre / P...</td>\n",
       "    </tr>\n",
       "    <tr>\n",
       "      <th>1</th>\n",
       "      <td>🗣 Démocratie et citoyenneté</td>\n",
       "      <td>DC11</td>\n",
       "      <td>Comment inciter les citoyens à participer dava...</td>\n",
       "      <td>* il faut faire plus de sensibilisation (surto...</td>\n",
       "      <td>faut plus sensibilisation surtout population j...</td>\n",
       "      <td>[éducation citoyenne de la jeunesse, Autre / P...</td>\n",
       "    </tr>\n",
       "    <tr>\n",
       "      <th>2</th>\n",
       "      <td>🗣 Démocratie et citoyenneté</td>\n",
       "      <td>DC11</td>\n",
       "      <td>Comment inciter les citoyens à participer dava...</td>\n",
       "      <td>- Interdire les sondages en période d'élection...</td>\n",
       "      <td>interdire sondage période élection certain cit...</td>\n",
       "      <td>[nouveau mode de scrutin (proportionnelle, etc.)]</td>\n",
       "    </tr>\n",
       "    <tr>\n",
       "      <th>3</th>\n",
       "      <td>🗣 Démocratie et citoyenneté</td>\n",
       "      <td>DC11</td>\n",
       "      <td>Comment inciter les citoyens à participer dava...</td>\n",
       "      <td>- Interdire les sondages en période d'élection...</td>\n",
       "      <td>interdire sondage période élection certain cit...</td>\n",
       "      <td>[nouveau mode de scrutin (proportionnelle, etc.)]</td>\n",
       "    </tr>\n",
       "    <tr>\n",
       "      <th>4</th>\n",
       "      <td>🗣 Démocratie et citoyenneté</td>\n",
       "      <td>DC11</td>\n",
       "      <td>Comment inciter les citoyens à participer dava...</td>\n",
       "      <td>- Remettre les législatives AVANT la président...</td>\n",
       "      <td>remettre législative présidentielle inversion ...</td>\n",
       "      <td>[Autre / Passer]</td>\n",
       "    </tr>\n",
       "  </tbody>\n",
       "</table>\n",
       "</div>"
      ],
      "text/plain": [
       "                         theme question_id  \\\n",
       "0  🗣 Démocratie et citoyenneté        DC11   \n",
       "1  🗣 Démocratie et citoyenneté        DC11   \n",
       "2  🗣 Démocratie et citoyenneté        DC11   \n",
       "3  🗣 Démocratie et citoyenneté        DC11   \n",
       "4  🗣 Démocratie et citoyenneté        DC11   \n",
       "\n",
       "                                            question  \\\n",
       "0  Comment inciter les citoyens à participer dava...   \n",
       "1  Comment inciter les citoyens à participer dava...   \n",
       "2  Comment inciter les citoyens à participer dava...   \n",
       "3  Comment inciter les citoyens à participer dava...   \n",
       "4  Comment inciter les citoyens à participer dava...   \n",
       "\n",
       "                                              answer  \\\n",
       "0  * il faut faire plus de sensibilisation (surto...   \n",
       "1  * il faut faire plus de sensibilisation (surto...   \n",
       "2  - Interdire les sondages en période d'élection...   \n",
       "3  - Interdire les sondages en période d'élection...   \n",
       "4  - Remettre les législatives AVANT la président...   \n",
       "\n",
       "                                   lemmatized_answer  \\\n",
       "0  faut plus sensibilisation surtout population j...   \n",
       "1  faut plus sensibilisation surtout population j...   \n",
       "2  interdire sondage période élection certain cit...   \n",
       "3  interdire sondage période élection certain cit...   \n",
       "4  remettre législative présidentielle inversion ...   \n",
       "\n",
       "                                              target  \n",
       "0  [éducation citoyenne de la jeunesse, Autre / P...  \n",
       "1  [éducation citoyenne de la jeunesse, Autre / P...  \n",
       "2  [nouveau mode de scrutin (proportionnelle, etc.)]  \n",
       "3  [nouveau mode de scrutin (proportionnelle, etc.)]  \n",
       "4                                   [Autre / Passer]  "
      ]
     },
     "execution_count": 63,
     "metadata": {},
     "output_type": "execute_result"
    }
   ],
   "source": [
    "answers_grand_debat_final.head()"
   ]
  },
  {
   "cell_type": "code",
   "execution_count": null,
   "metadata": {},
   "outputs": [],
   "source": [
    "answers_grand_debat_final.to_json('preprocessed/reponses_annotees_multilabel.json', orient = \"records\")"
   ]
  }
 ],
 "metadata": {
  "kernelspec": {
   "display_name": "Python 3",
   "language": "python",
   "name": "python3"
  },
  "language_info": {
   "codemirror_mode": {
    "name": "ipython",
    "version": 3
   },
   "file_extension": ".py",
   "mimetype": "text/x-python",
   "name": "python",
   "nbconvert_exporter": "python",
   "pygments_lexer": "ipython3",
   "version": "3.7.2"
  }
 },
 "nbformat": 4,
 "nbformat_minor": 2
}
